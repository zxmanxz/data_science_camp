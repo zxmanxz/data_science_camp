{
 "cells": [
  {
   "cell_type": "code",
   "execution_count": 1,
   "metadata": {},
   "outputs": [],
   "source": [
    "import pandas as pd\n",
    "p = [2, 3, 5, 7, 11, 13, 17, 19, 23, 29, 31, 37, 41, 43, 47, 53, 59, 61, 67, 71, 73, 79, 83, 89, 97] # прості числа від 2 до 100"
   ]
  },
  {
   "cell_type": "markdown",
   "metadata": {},
   "source": [
    "### Multiplier: I don’t know the numbers\n",
    "*Число, яке знає Multilplier(m), має хоча б дві різні пари множників (х,у), де 1 < x,y < 100 => число не може бути представленим сумою двох простих чисел*"
   ]
  },
  {
   "cell_type": "code",
   "execution_count": 2,
   "metadata": {},
   "outputs": [
    {
     "data": {
      "text/plain": [
       "array([  12,   16,   18, ..., 7392, 7644, 7920], dtype=int64)"
      ]
     },
     "execution_count": 2,
     "metadata": {},
     "output_type": "execute_result"
    }
   ],
   "source": [
    "M = []\n",
    "for i in range(2,100):\n",
    "    for j in range(i,100):\n",
    "        M.append(i*j) # М містить всі можливі добутки х*у, де 1 < x,y < 100\n",
    "M = pd.Series(M) \n",
    "D = M.drop_duplicates(keep=False) # записую у D всі числа з М, які мають лише одну пару множників (х,у), де 1 < x,y < 100\n",
    "M = M.drop(D.index).drop_duplicates(keep = \"first\") # М - числа, які мають кілька пар множників (х,у), де 1 < x,y < 100\n",
    "M.values"
   ]
  },
  {
   "cell_type": "markdown",
   "metadata": {},
   "source": [
    "### Adder: I know that \n",
    "*Число, яке знає Adder(a), не може бути представленим сумою двох простих чисел*"
   ]
  },
  {
   "cell_type": "code",
   "execution_count": 3,
   "metadata": {},
   "outputs": [
    {
     "data": {
      "text/plain": [
       "array([ 11,  17,  23,  27,  29,  35,  37,  41,  47,  51,  53,  57,  59,\n",
       "        65,  67,  71,  77,  79,  83,  87,  89,  93,  95,  97, 101, 103,\n",
       "       105, 107, 109, 111, 113, 115, 117, 119, 121, 123, 125, 127, 129,\n",
       "       131, 133, 135, 137, 139, 141, 143, 145, 147, 149, 151, 153, 155,\n",
       "       157, 159, 161, 163, 165, 167, 169, 171, 173, 174, 175, 177, 179,\n",
       "       181, 182, 183, 184, 185, 187, 188, 189, 190, 191, 192, 193, 195,\n",
       "       196, 197, 198], dtype=int64)"
      ]
     },
     "execution_count": 3,
     "metadata": {},
     "output_type": "execute_result"
    }
   ],
   "source": [
    "A = []\n",
    "for i in range(2,100):\n",
    "        for j in range(i,100):\n",
    "            A.append (i + j)\n",
    "A = pd.Series(A).drop_duplicates()\n",
    "                                    # A містить всі можливі суми х*у, де 1 < x,y < 100\n",
    "D = []\n",
    "for i in p:\n",
    "    for j in p:\n",
    "        D.append(i + j)\n",
    "D = pd.Series(D).drop_duplicates()\n",
    "A = A.append(D).drop_duplicates(keep = False) # Видаляю з масиву А значення, які можуть бути представленні сумою двох простих чисел\n",
    "A.values"
   ]
  },
  {
   "cell_type": "markdown",
   "metadata": {},
   "source": [
    "*Для чисел a з масиву А, де a > 53+2, можна виділити пару доданків 53 та (a-53). Розклад добутку цього числа буде можливий тільки на одну пару (х,у), де 1 < x,y < 100, що не задовільняє вищезгаданий критерій.*"
   ]
  },
  {
   "cell_type": "code",
   "execution_count": 4,
   "metadata": {},
   "outputs": [],
   "source": [
    "# A = A[A<53+2]\n",
    "# A.values"
   ]
  },
  {
   "cell_type": "markdown",
   "metadata": {},
   "source": [
    "*Розкладу числа з масиву А на всі можливі пари доданків (х,у) та залишу тільки ті, добуток яких є в масиві М*"
   ]
  },
  {
   "cell_type": "code",
   "execution_count": 5,
   "metadata": {},
   "outputs": [
    {
     "name": "stdout",
     "output_type": "stream",
     "text": [
      "x   y   A   M\n",
      "2   9  11  18\n",
      "3   8  11  24\n",
      "4   7  11  28\n",
      "5   6  11  30\n",
      "2  15  17  30\n",
      "3  14  17  42\n",
      "4  13  17  52\n",
      "5  12  17  60\n",
      "6  11  17  66\n",
      "7  10  17  70\n"
     ]
    }
   ],
   "source": [
    "R = pd.DataFrame(columns = [\"x\", \"y\", \"A\", \"M\"])\n",
    "for a in A:\n",
    "    for i in range(2, int((a)/2)+1):\n",
    "        if (i*(a-i)) in M and (a-i)<100:\n",
    "            R.loc[len(R)] = [i,a-i,i+(a-i),i*(a-i)]\n",
    "            \n",
    "print(R.head(10).to_string(index=False))"
   ]
  },
  {
   "cell_type": "markdown",
   "metadata": {},
   "source": [
    "*Оскільки Multiplier визначив, які значення х та у були загадані, знаючи добуток м пари чисел (х,у), то значення м в масиві R   має бути унікальним* "
   ]
  },
  {
   "cell_type": "code",
   "execution_count": 6,
   "metadata": {},
   "outputs": [],
   "source": [
    "R.drop_duplicates(subset=\"M\", keep = False, inplace = True)"
   ]
  },
  {
   "cell_type": "markdown",
   "metadata": {},
   "source": [
    "*Ця ж логіка для Adder'a*"
   ]
  },
  {
   "cell_type": "code",
   "execution_count": 7,
   "metadata": {},
   "outputs": [],
   "source": [
    "R.drop_duplicates(subset=\"A\", keep = False, inplace = True)"
   ]
  },
  {
   "cell_type": "code",
   "execution_count": 8,
   "metadata": {},
   "outputs": [
    {
     "name": "stdout",
     "output_type": "stream",
     "text": [
      "x   y    A     M\n",
      " 4  13   17    52\n",
      " 4  19   23    76\n",
      " 2  27   29    54\n",
      " 3  32   35    96\n",
      "12  29   41   348\n",
      "19  34   53   646\n",
      "37  52   89  1924\n",
      "61  64  125  3904\n",
      "48  79  127  3792\n",
      "55  74  129  4070\n",
      "38  95  133  3610\n",
      "40  95  135  3800\n",
      "41  96  137  3936\n",
      "48  93  141  4464\n"
     ]
    }
   ],
   "source": [
    "print(R.to_string(index=False))"
   ]
  }
 ],
 "metadata": {
  "kernelspec": {
   "display_name": "Python 3",
   "language": "python",
   "name": "python3"
  },
  "language_info": {
   "codemirror_mode": {
    "name": "ipython",
    "version": 3
   },
   "file_extension": ".py",
   "mimetype": "text/x-python",
   "name": "python",
   "nbconvert_exporter": "python",
   "pygments_lexer": "ipython3",
   "version": "3.7.1"
  }
 },
 "nbformat": 4,
 "nbformat_minor": 2
}
