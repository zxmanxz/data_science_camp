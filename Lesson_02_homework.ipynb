{
  "cells": [
    {
      "metadata": {
        "trusted": true
      },
      "cell_type": "code",
      "source": "import pandas as pd\nimport numpy as np\nfrom io import BytesIO\nfrom zipfile import ZipFile\nfrom urllib.request import urlopen\n\npd.options.display.float_format = '{:,.2f}'.format",
      "execution_count": 1,
      "outputs": []
    },
    {
      "metadata": {},
      "cell_type": "markdown",
      "source": "<font color = green>\n\n### Question 1\n</font>"
    },
    {
      "metadata": {},
      "cell_type": "markdown",
      "source": "#### Energy Data"
    },
    {
      "metadata": {
        "trusted": true
      },
      "cell_type": "code",
      "source": "def rc_energy():\n    url1 = \"http://unstats.un.org/unsd/environment/excel_file_tables/2013/Energy%20Indicators.xls\"\n    energy = pd.read_excel(url1, header = None, skiprows = 18, skipfooter = 38)\n    try:\n        energy.head()\n    except AttributeError:\n        print(\"Помилка при відкритті файлу Energy\")\n    except NameError:\n        print(\"Помилка при відкритті файлу Energy\")\n   \n\n    try:\n        energy.drop([0, 1], axis = 1, inplace = True)\n    except KeyError:\n        pass\n\n    energy.columns = ['Country', 'Energy Supply', 'Energy Supply per Capita', '% Renewable']\n\n    #Будь-які нечислові значення в стовпцях 'Energy Supply', 'Energy Supply per Capita', '% Renewable' замінити на np.nan\n    energy[~energy[['Energy Supply', 'Energy Supply per Capita', '% Renewable']].applymap(np.isreal)] = np.nan \n   \n    energy[\"Energy Supply\"] *= 1000000 \n    \n    energy[\"Country\"].replace('\\d','', regex = True, inplace = True)\n    energy[\"Country\"].replace(' \\(.*?\\)','', regex = True, inplace = True)\n    \n    energy[\"Country\"].replace({\"United States of America\": \"United States\",\n                               \"Republic of Korea\": \"South Korea\",\n                               \"United Kingdom of Great Britain and Northern Ireland\": \"United Kingdom\",\n                               \"China, Hong Kong Special Administrative Region\": \"Hong Kong\"},\n                              inplace = True)\n    \n    return energy",
      "execution_count": 2,
      "outputs": []
    },
    {
      "metadata": {},
      "cell_type": "markdown",
      "source": "#### GDP Data"
    },
    {
      "metadata": {
        "trusted": true
      },
      "cell_type": "code",
      "source": "def rc_gdp():\n    url2 = \"http://api.worldbank.org/v2/en/indicator/NY.GDP.MKTP.CD?downloadformat=csv\"\n    fileurl = urlopen(url2)\n    zf = ZipFile(BytesIO(fileurl.read()))\n    zf.namelist()\n    \n    for file in zf.namelist():\n        # На випадок, якщо база даних оновиться і кінцівка файлу матиме інший CL, не вказую повну назву файлу\n        if file.startswith(\"API_NY.GDP.MKTP.CD_DS2_en_csv\"):\n            GDP = pd.read_csv(zf.open(file), skiprows = 4) #ЗАПИТАТИСЯ ПРО \"Make sure to skip the header\"\n\n    try:\n        GDP.head()\n    except AttributeError:\n        print(\"Помилка при відкритті файлу GDP\")\n    except NameError:\n        print(\"Помилка при відкритті файлу GDP\")\n        \n    try:\n        GDP.drop([\"Unnamed: 62\"], axis = 1, inplace = True)\n    except KeyError:\n        pass\n    \n    GDP[\"Country Name\"].replace([\"Korea, Rep.\", \"Iran, Islamic Rep.\", \"Hong Kong SAR, China\"],\n                            [\"South Korea\", \"Iran\", \"Hong Kong\"],\n                            inplace = True\n    )\n    \n    return GDP",
      "execution_count": 3,
      "outputs": []
    },
    {
      "metadata": {},
      "cell_type": "markdown",
      "source": "#### ScimEn Data"
    },
    {
      "metadata": {
        "trusted": true
      },
      "cell_type": "code",
      "source": "def rc_scimen():\n    url3 = \"https://www.scimagojr.com/countryrank.php?category=2102&out=xls\"\n    ScimEn = pd.read_excel(url3)\n    try:\n        ScimEn.head()\n    except AttributeError:\n        print(\"Помилка при відкритті файлу SciEn\")\n    except NameError:\n        print(\"Помилка при відкритті файлу SciEn\")\n   \n    return ScimEn",
      "execution_count": 4,
      "outputs": []
    },
    {
      "metadata": {},
      "cell_type": "markdown",
      "source": "#### Merging Data"
    },
    {
      "metadata": {
        "trusted": true
      },
      "cell_type": "code",
      "source": "def answer_one():\n    energy = rc_energy()\n    GDP = rc_gdp()\n    ScimEn = rc_scimen()\n    \n    # Тільки назва країни і період з 2008 по 2017\n    GDP.drop(GDP.columns[GDP.columns.get_loc('Country Code'):GDP.columns.get_loc('2008')], axis = 1, inplace = True)\n    # Top 15 by rank\n    ScimEn = ScimEn.sort_values(by = \"Rank\").head(15)\n    \n     # 'Rank', 'Documents', 'Citable documents', 'Citations', 'Self-citations',\n    # 'Citations per document', 'H index', 'Energy Supply', 'Energy Supply per Capita', \n    #'% Renewable', '2008', '2009', '2010', '2011', '2012', '2013', '2014', '2015', '2016', '2017'\n    \n    data = pd.merge(ScimEn, energy, how = \"inner\", left_on = \"Country\", right_on = \"Country\")\n    data = pd.merge(data, GDP, how = \"inner\", left_on = \"Country\", right_on = \"Country Name\")\n    data = data.drop(\"Country Name\", axis = 1)\n    data.set_index(\"Country\", inplace = True)\n    \n    return data",
      "execution_count": 5,
      "outputs": []
    },
    {
      "metadata": {},
      "cell_type": "markdown",
      "source": "<font color = green>\n    \n### Answer\n</font>"
    },
    {
      "metadata": {
        "scrolled": true,
        "trusted": true
      },
      "cell_type": "code",
      "source": "data = answer_one()\ndata",
      "execution_count": 6,
      "outputs": [
        {
          "output_type": "execute_result",
          "execution_count": 6,
          "data": {
            "text/html": "<div>\n<table border=\"1\" class=\"dataframe\">\n  <thead>\n    <tr style=\"text-align: right;\">\n      <th></th>\n      <th>Rank</th>\n      <th>Documents</th>\n      <th>Citable documents</th>\n      <th>Citations</th>\n      <th>Self-citations</th>\n      <th>Citations per document</th>\n      <th>H index</th>\n      <th>Energy Supply</th>\n      <th>Energy Supply per Capita</th>\n      <th>% Renewable</th>\n      <th>2008</th>\n      <th>2009</th>\n      <th>2010</th>\n      <th>2011</th>\n      <th>2012</th>\n      <th>2013</th>\n      <th>2014</th>\n      <th>2015</th>\n      <th>2016</th>\n      <th>2017</th>\n    </tr>\n    <tr>\n      <th>Country</th>\n      <th></th>\n      <th></th>\n      <th></th>\n      <th></th>\n      <th></th>\n      <th></th>\n      <th></th>\n      <th></th>\n      <th></th>\n      <th></th>\n      <th></th>\n      <th></th>\n      <th></th>\n      <th></th>\n      <th></th>\n      <th></th>\n      <th></th>\n      <th></th>\n      <th></th>\n      <th></th>\n    </tr>\n  </thead>\n  <tbody>\n    <tr>\n      <th>China</th>\n      <td>1</td>\n      <td>167992</td>\n      <td>167369</td>\n      <td>1057626</td>\n      <td>722578</td>\n      <td>6.30</td>\n      <td>176</td>\n      <td>127191000000</td>\n      <td>93</td>\n      <td>19.75</td>\n      <td>4,598,206,091,384.00</td>\n      <td>5,109,953,609,257.25</td>\n      <td>6,100,620,488,867.55</td>\n      <td>7,572,553,836,875.34</td>\n      <td>8,560,547,314,679.28</td>\n      <td>9,607,224,481,532.65</td>\n      <td>10,482,372,109,961.90</td>\n      <td>11,064,666,282,625.50</td>\n      <td>11,190,992,550,229.50</td>\n      <td>12,237,700,479,375.00</td>\n    </tr>\n    <tr>\n      <th>United States</th>\n      <td>2</td>\n      <td>126158</td>\n      <td>123332</td>\n      <td>1296212</td>\n      <td>444998</td>\n      <td>10.27</td>\n      <td>278</td>\n      <td>90838000000</td>\n      <td>286</td>\n      <td>11.57</td>\n      <td>14,718,582,000,000.00</td>\n      <td>14,418,739,000,000.00</td>\n      <td>14,964,372,000,000.00</td>\n      <td>15,517,926,000,000.00</td>\n      <td>16,155,255,000,000.00</td>\n      <td>16,691,517,000,000.00</td>\n      <td>17,427,609,000,000.00</td>\n      <td>18,120,714,000,000.00</td>\n      <td>18,624,475,000,000.00</td>\n      <td>19,390,604,000,000.00</td>\n    </tr>\n    <tr>\n      <th>Japan</th>\n      <td>3</td>\n      <td>37948</td>\n      <td>37612</td>\n      <td>316956</td>\n      <td>85620</td>\n      <td>8.35</td>\n      <td>155</td>\n      <td>18984000000</td>\n      <td>149</td>\n      <td>10.23</td>\n      <td>5,037,908,465,114.48</td>\n      <td>5,231,382,674,593.70</td>\n      <td>5,700,098,114,744.41</td>\n      <td>6,157,459,594,823.72</td>\n      <td>6,203,213,121,334.12</td>\n      <td>5,155,717,056,270.83</td>\n      <td>4,850,413,536,037.84</td>\n      <td>4,394,977,752,877.82</td>\n      <td>4,949,273,341,993.88</td>\n      <td>4,872,136,945,507.59</td>\n    </tr>\n    <tr>\n      <th>United Kingdom</th>\n      <td>4</td>\n      <td>28998</td>\n      <td>28176</td>\n      <td>335914</td>\n      <td>64609</td>\n      <td>11.58</td>\n      <td>170</td>\n      <td>7920000000</td>\n      <td>124</td>\n      <td>10.60</td>\n      <td>2,890,564,338,235.29</td>\n      <td>2,382,825,985,355.97</td>\n      <td>2,441,173,394,729.62</td>\n      <td>2,619,700,404,733.37</td>\n      <td>2,662,085,168,498.93</td>\n      <td>2,739,818,680,930.19</td>\n      <td>3,022,827,781,881.39</td>\n      <td>2,885,570,309,160.86</td>\n      <td>2,650,850,178,102.14</td>\n      <td>2,622,433,959,604.16</td>\n    </tr>\n    <tr>\n      <th>India</th>\n      <td>5</td>\n      <td>24872</td>\n      <td>24300</td>\n      <td>215787</td>\n      <td>68150</td>\n      <td>8.68</td>\n      <td>141</td>\n      <td>33195000000</td>\n      <td>26</td>\n      <td>14.97</td>\n      <td>1,186,952,757,636.11</td>\n      <td>1,323,940,295,874.06</td>\n      <td>1,656,617,073,124.71</td>\n      <td>1,823,049,927,772.05</td>\n      <td>1,827,637,859,136.23</td>\n      <td>1,856,722,121,394.42</td>\n      <td>2,039,127,446,299.30</td>\n      <td>2,102,390,808,997.09</td>\n      <td>2,274,229,710,530.03</td>\n      <td>2,597,491,162,897.67</td>\n    </tr>\n    <tr>\n      <th>Germany</th>\n      <td>6</td>\n      <td>24407</td>\n      <td>23963</td>\n      <td>231800</td>\n      <td>48820</td>\n      <td>9.50</td>\n      <td>151</td>\n      <td>13261000000</td>\n      <td>165</td>\n      <td>17.90</td>\n      <td>3,752,365,607,148.09</td>\n      <td>3,418,005,001,389.27</td>\n      <td>3,417,094,562,648.95</td>\n      <td>3,757,698,281,117.55</td>\n      <td>3,543,983,909,148.01</td>\n      <td>3,752,513,503,278.41</td>\n      <td>3,890,606,893,346.69</td>\n      <td>3,375,611,100,742.22</td>\n      <td>3,477,796,274,496.80</td>\n      <td>3,677,439,129,776.60</td>\n    </tr>\n    <tr>\n      <th>Russian Federation</th>\n      <td>7</td>\n      <td>23361</td>\n      <td>23196</td>\n      <td>55495</td>\n      <td>22485</td>\n      <td>2.38</td>\n      <td>69</td>\n      <td>30709000000</td>\n      <td>214</td>\n      <td>17.29</td>\n      <td>1,660,844,408,499.61</td>\n      <td>1,222,643,696,991.85</td>\n      <td>1,524,916,112,078.87</td>\n      <td>2,051,661,732,059.78</td>\n      <td>2,210,256,976,945.38</td>\n      <td>2,297,128,039,058.21</td>\n      <td>2,063,662,665,171.89</td>\n      <td>1,368,400,705,491.02</td>\n      <td>1,284,727,602,173.71</td>\n      <td>1,577,524,145,963.17</td>\n    </tr>\n    <tr>\n      <th>Canada</th>\n      <td>8</td>\n      <td>22908</td>\n      <td>22465</td>\n      <td>332093</td>\n      <td>62436</td>\n      <td>14.50</td>\n      <td>177</td>\n      <td>10431000000</td>\n      <td>296</td>\n      <td>61.95</td>\n      <td>1,549,131,208,997.19</td>\n      <td>1,371,153,004,986.44</td>\n      <td>1,613,464,422,811.13</td>\n      <td>1,788,647,906,047.76</td>\n      <td>1,824,288,757,447.57</td>\n      <td>1,842,628,005,830.18</td>\n      <td>1,799,268,695,861.80</td>\n      <td>1,559,623,393,038.66</td>\n      <td>1,535,767,736,946.18</td>\n      <td>1,653,042,795,255.04</td>\n    </tr>\n    <tr>\n      <th>France</th>\n      <td>9</td>\n      <td>17569</td>\n      <td>17230</td>\n      <td>203486</td>\n      <td>43210</td>\n      <td>11.58</td>\n      <td>139</td>\n      <td>10597000000</td>\n      <td>166</td>\n      <td>17.02</td>\n      <td>2,918,382,891,460.38</td>\n      <td>2,690,222,283,967.77</td>\n      <td>2,642,609,548,930.36</td>\n      <td>2,861,408,170,264.61</td>\n      <td>2,683,825,225,092.63</td>\n      <td>2,811,077,725,703.59</td>\n      <td>2,852,165,760,630.27</td>\n      <td>2,438,207,896,251.84</td>\n      <td>2,465,134,297,438.91</td>\n      <td>2,582,501,307,216.42</td>\n    </tr>\n    <tr>\n      <th>South Korea</th>\n      <td>10</td>\n      <td>16004</td>\n      <td>15848</td>\n      <td>176965</td>\n      <td>34607</td>\n      <td>11.06</td>\n      <td>124</td>\n      <td>11007000000</td>\n      <td>221</td>\n      <td>2.28</td>\n      <td>1,002,219,052,967.54</td>\n      <td>901,934,953,364.71</td>\n      <td>1,094,499,338,702.72</td>\n      <td>1,202,463,682,633.85</td>\n      <td>1,222,807,284,485.31</td>\n      <td>1,305,604,981,271.91</td>\n      <td>1,411,333,926,201.24</td>\n      <td>1,382,764,027,113.82</td>\n      <td>1,414,804,158,515.26</td>\n      <td>1,530,750,923,148.70</td>\n    </tr>\n    <tr>\n      <th>Italy</th>\n      <td>11</td>\n      <td>15880</td>\n      <td>15411</td>\n      <td>184184</td>\n      <td>45471</td>\n      <td>11.60</td>\n      <td>127</td>\n      <td>6530000000</td>\n      <td>109</td>\n      <td>33.67</td>\n      <td>2,390,729,163,615.06</td>\n      <td>2,185,160,183,384.27</td>\n      <td>2,125,058,244,242.92</td>\n      <td>2,276,292,404,600.52</td>\n      <td>2,072,823,157,059.76</td>\n      <td>2,130,491,320,658.68</td>\n      <td>2,151,732,868,243.21</td>\n      <td>1,832,868,490,534.11</td>\n      <td>1,859,383,610,248.72</td>\n      <td>1,934,797,937,411.33</td>\n    </tr>\n    <tr>\n      <th>Iran</th>\n      <td>12</td>\n      <td>13131</td>\n      <td>12983</td>\n      <td>119550</td>\n      <td>39184</td>\n      <td>9.10</td>\n      <td>94</td>\n      <td>9172000000</td>\n      <td>119</td>\n      <td>5.71</td>\n      <td>406,070,949,553.87</td>\n      <td>414,059,094,949.06</td>\n      <td>487,069,570,463.77</td>\n      <td>583,500,357,530.41</td>\n      <td>598,853,401,276.10</td>\n      <td>467,414,852,231.30</td>\n      <td>434,474,616,831.91</td>\n      <td>385,874,474,398.59</td>\n      <td>418,976,711,586.86</td>\n      <td>439,513,511,620.59</td>\n    </tr>\n    <tr>\n      <th>Brazil</th>\n      <td>13</td>\n      <td>12705</td>\n      <td>12559</td>\n      <td>99136</td>\n      <td>24398</td>\n      <td>7.80</td>\n      <td>103</td>\n      <td>12149000000</td>\n      <td>59</td>\n      <td>69.65</td>\n      <td>1,695,824,571,927.15</td>\n      <td>1,667,019,780,934.28</td>\n      <td>2,208,871,646,202.82</td>\n      <td>2,616,201,578,192.25</td>\n      <td>2,465,188,674,415.03</td>\n      <td>2,472,806,919,901.67</td>\n      <td>2,455,993,625,159.37</td>\n      <td>1,802,214,373,741.32</td>\n      <td>1,793,989,048,409.29</td>\n      <td>2,055,505,502,224.73</td>\n    </tr>\n    <tr>\n      <th>Australia</th>\n      <td>14</td>\n      <td>12635</td>\n      <td>12397</td>\n      <td>157471</td>\n      <td>27620</td>\n      <td>12.46</td>\n      <td>131</td>\n      <td>5386000000</td>\n      <td>231</td>\n      <td>11.81</td>\n      <td>1,052,584,601,611.46</td>\n      <td>926,448,240,318.07</td>\n      <td>1,144,260,547,872.81</td>\n      <td>1,394,280,784,777.68</td>\n      <td>1,543,411,012,579.91</td>\n      <td>1,573,696,522,006.77</td>\n      <td>1,464,955,475,993.76</td>\n      <td>1,349,034,029,453.37</td>\n      <td>1,208,039,015,868.39</td>\n      <td>1,323,421,072,479.07</td>\n    </tr>\n    <tr>\n      <th>Spain</th>\n      <td>15</td>\n      <td>12478</td>\n      <td>12270</td>\n      <td>195663</td>\n      <td>36353</td>\n      <td>15.68</td>\n      <td>138</td>\n      <td>4923000000</td>\n      <td>106</td>\n      <td>37.97</td>\n      <td>1,635,015,380,108.39</td>\n      <td>1,499,099,749,930.54</td>\n      <td>1,431,616,749,640.29</td>\n      <td>1,488,067,258,325.20</td>\n      <td>1,336,018,949,805.58</td>\n      <td>1,361,854,206,549.39</td>\n      <td>1,376,910,811,040.88</td>\n      <td>1,197,789,902,774.43</td>\n      <td>1,237,255,019,653.86</td>\n      <td>1,311,320,015,515.99</td>\n    </tr>\n  </tbody>\n</table>\n</div>",
            "text/plain": "                    Rank  Documents  Citable documents  Citations  \\\nCountry                                                             \nChina                  1     167992             167369    1057626   \nUnited States          2     126158             123332    1296212   \nJapan                  3      37948              37612     316956   \nUnited Kingdom         4      28998              28176     335914   \nIndia                  5      24872              24300     215787   \nGermany                6      24407              23963     231800   \nRussian Federation     7      23361              23196      55495   \nCanada                 8      22908              22465     332093   \nFrance                 9      17569              17230     203486   \nSouth Korea           10      16004              15848     176965   \nItaly                 11      15880              15411     184184   \nIran                  12      13131              12983     119550   \nBrazil                13      12705              12559      99136   \nAustralia             14      12635              12397     157471   \nSpain                 15      12478              12270     195663   \n\n                    Self-citations  Citations per document  H index  \\\nCountry                                                               \nChina                       722578                    6.30      176   \nUnited States               444998                   10.27      278   \nJapan                        85620                    8.35      155   \nUnited Kingdom               64609                   11.58      170   \nIndia                        68150                    8.68      141   \nGermany                      48820                    9.50      151   \nRussian Federation           22485                    2.38       69   \nCanada                       62436                   14.50      177   \nFrance                       43210                   11.58      139   \nSouth Korea                  34607                   11.06      124   \nItaly                        45471                   11.60      127   \nIran                         39184                    9.10       94   \nBrazil                       24398                    7.80      103   \nAustralia                    27620                   12.46      131   \nSpain                        36353                   15.68      138   \n\n                   Energy Supply Energy Supply per Capita  % Renewable  \\\nCountry                                                                  \nChina               127191000000                       93        19.75   \nUnited States        90838000000                      286        11.57   \nJapan                18984000000                      149        10.23   \nUnited Kingdom        7920000000                      124        10.60   \nIndia                33195000000                       26        14.97   \nGermany              13261000000                      165        17.90   \nRussian Federation   30709000000                      214        17.29   \nCanada               10431000000                      296        61.95   \nFrance               10597000000                      166        17.02   \nSouth Korea          11007000000                      221         2.28   \nItaly                 6530000000                      109        33.67   \nIran                  9172000000                      119         5.71   \nBrazil               12149000000                       59        69.65   \nAustralia             5386000000                      231        11.81   \nSpain                 4923000000                      106        37.97   \n\n                                    2008                  2009  \\\nCountry                                                          \nChina               4,598,206,091,384.00  5,109,953,609,257.25   \nUnited States      14,718,582,000,000.00 14,418,739,000,000.00   \nJapan               5,037,908,465,114.48  5,231,382,674,593.70   \nUnited Kingdom      2,890,564,338,235.29  2,382,825,985,355.97   \nIndia               1,186,952,757,636.11  1,323,940,295,874.06   \nGermany             3,752,365,607,148.09  3,418,005,001,389.27   \nRussian Federation  1,660,844,408,499.61  1,222,643,696,991.85   \nCanada              1,549,131,208,997.19  1,371,153,004,986.44   \nFrance              2,918,382,891,460.38  2,690,222,283,967.77   \nSouth Korea         1,002,219,052,967.54    901,934,953,364.71   \nItaly               2,390,729,163,615.06  2,185,160,183,384.27   \nIran                  406,070,949,553.87    414,059,094,949.06   \nBrazil              1,695,824,571,927.15  1,667,019,780,934.28   \nAustralia           1,052,584,601,611.46    926,448,240,318.07   \nSpain               1,635,015,380,108.39  1,499,099,749,930.54   \n\n                                    2010                  2011  \\\nCountry                                                          \nChina               6,100,620,488,867.55  7,572,553,836,875.34   \nUnited States      14,964,372,000,000.00 15,517,926,000,000.00   \nJapan               5,700,098,114,744.41  6,157,459,594,823.72   \nUnited Kingdom      2,441,173,394,729.62  2,619,700,404,733.37   \nIndia               1,656,617,073,124.71  1,823,049,927,772.05   \nGermany             3,417,094,562,648.95  3,757,698,281,117.55   \nRussian Federation  1,524,916,112,078.87  2,051,661,732,059.78   \nCanada              1,613,464,422,811.13  1,788,647,906,047.76   \nFrance              2,642,609,548,930.36  2,861,408,170,264.61   \nSouth Korea         1,094,499,338,702.72  1,202,463,682,633.85   \nItaly               2,125,058,244,242.92  2,276,292,404,600.52   \nIran                  487,069,570,463.77    583,500,357,530.41   \nBrazil              2,208,871,646,202.82  2,616,201,578,192.25   \nAustralia           1,144,260,547,872.81  1,394,280,784,777.68   \nSpain               1,431,616,749,640.29  1,488,067,258,325.20   \n\n                                    2012                  2013  \\\nCountry                                                          \nChina               8,560,547,314,679.28  9,607,224,481,532.65   \nUnited States      16,155,255,000,000.00 16,691,517,000,000.00   \nJapan               6,203,213,121,334.12  5,155,717,056,270.83   \nUnited Kingdom      2,662,085,168,498.93  2,739,818,680,930.19   \nIndia               1,827,637,859,136.23  1,856,722,121,394.42   \nGermany             3,543,983,909,148.01  3,752,513,503,278.41   \nRussian Federation  2,210,256,976,945.38  2,297,128,039,058.21   \nCanada              1,824,288,757,447.57  1,842,628,005,830.18   \nFrance              2,683,825,225,092.63  2,811,077,725,703.59   \nSouth Korea         1,222,807,284,485.31  1,305,604,981,271.91   \nItaly               2,072,823,157,059.76  2,130,491,320,658.68   \nIran                  598,853,401,276.10    467,414,852,231.30   \nBrazil              2,465,188,674,415.03  2,472,806,919,901.67   \nAustralia           1,543,411,012,579.91  1,573,696,522,006.77   \nSpain               1,336,018,949,805.58  1,361,854,206,549.39   \n\n                                    2014                  2015  \\\nCountry                                                          \nChina              10,482,372,109,961.90 11,064,666,282,625.50   \nUnited States      17,427,609,000,000.00 18,120,714,000,000.00   \nJapan               4,850,413,536,037.84  4,394,977,752,877.82   \nUnited Kingdom      3,022,827,781,881.39  2,885,570,309,160.86   \nIndia               2,039,127,446,299.30  2,102,390,808,997.09   \nGermany             3,890,606,893,346.69  3,375,611,100,742.22   \nRussian Federation  2,063,662,665,171.89  1,368,400,705,491.02   \nCanada              1,799,268,695,861.80  1,559,623,393,038.66   \nFrance              2,852,165,760,630.27  2,438,207,896,251.84   \nSouth Korea         1,411,333,926,201.24  1,382,764,027,113.82   \nItaly               2,151,732,868,243.21  1,832,868,490,534.11   \nIran                  434,474,616,831.91    385,874,474,398.59   \nBrazil              2,455,993,625,159.37  1,802,214,373,741.32   \nAustralia           1,464,955,475,993.76  1,349,034,029,453.37   \nSpain               1,376,910,811,040.88  1,197,789,902,774.43   \n\n                                    2016                  2017  \nCountry                                                         \nChina              11,190,992,550,229.50 12,237,700,479,375.00  \nUnited States      18,624,475,000,000.00 19,390,604,000,000.00  \nJapan               4,949,273,341,993.88  4,872,136,945,507.59  \nUnited Kingdom      2,650,850,178,102.14  2,622,433,959,604.16  \nIndia               2,274,229,710,530.03  2,597,491,162,897.67  \nGermany             3,477,796,274,496.80  3,677,439,129,776.60  \nRussian Federation  1,284,727,602,173.71  1,577,524,145,963.17  \nCanada              1,535,767,736,946.18  1,653,042,795,255.04  \nFrance              2,465,134,297,438.91  2,582,501,307,216.42  \nSouth Korea         1,414,804,158,515.26  1,530,750,923,148.70  \nItaly               1,859,383,610,248.72  1,934,797,937,411.33  \nIran                  418,976,711,586.86    439,513,511,620.59  \nBrazil              1,793,989,048,409.29  2,055,505,502,224.73  \nAustralia           1,208,039,015,868.39  1,323,421,072,479.07  \nSpain               1,237,255,019,653.86  1,311,320,015,515.99  "
          },
          "metadata": {}
        }
      ]
    },
    {
      "metadata": {},
      "cell_type": "markdown",
      "source": "<font color = green>\n    \n### Question 2\n</font>"
    },
    {
      "metadata": {
        "trusted": true
      },
      "cell_type": "code",
      "source": "def answer_two():\n    datacpy = answer_one() # Так як Завдання 2 не вимагає створення нового стовпця в df, то працюватиму на окремому df\n    datacpy[\"avgGDP\"] = datacpy.iloc[:,-10:].mean(axis = 1, skipna = True)\n    return datacpy[\"avgGDP\"].sort_values(ascending = False) ",
      "execution_count": 7,
      "outputs": []
    },
    {
      "metadata": {},
      "cell_type": "markdown",
      "source": "<font color = green>\n    \n### Answer\n</font>"
    },
    {
      "metadata": {
        "trusted": true
      },
      "cell_type": "code",
      "source": "answer_two()",
      "execution_count": 8,
      "outputs": [
        {
          "output_type": "execute_result",
          "execution_count": 8,
          "data": {
            "text/plain": "Country\nUnited States        16,602,979,300,000.00\nChina                 8,652,483,724,478.80\nJapan                 5,255,258,060,329.84\nGermany               3,606,311,426,309.26\nFrance                2,694,553,510,695.68\nUnited Kingdom        2,691,785,020,123.19\nBrazil                2,123,361,572,110.79\nItaly                 2,095,933,737,999.86\nIndia                 1,868,815,916,366.17\nRussian Federation    1,726,176,608,443.35\nCanada                1,653,701,592,722.19\nSpain                 1,387,494,804,334.45\nAustralia             1,298,013,130,296.13\nSouth Korea           1,246,918,232,840.51\nIran                    463,580,754,044.25\nName: avgGDP, dtype: float64"
          },
          "metadata": {}
        }
      ]
    },
    {
      "metadata": {},
      "cell_type": "markdown",
      "source": "<font color = green>\n    \n### Question 3\n</font>"
    },
    {
      "metadata": {
        "trusted": true
      },
      "cell_type": "code",
      "source": "def answer_three():\n    datacpy = answer_one() # Так як Завдання 3 не вимагає створення нового стовпця в df, то працюватиму на окремому df\n    datacpy[\"avgGDP\"] = answer_two()\n    return abs(\n            datacpy.sort_values(by = \"avgGDP\", ascending = False).iloc[5][-2] -\n            datacpy.sort_values(by = \"avgGDP\", ascending = False).iloc[5][-11]\n    )",
      "execution_count": 9,
      "outputs": []
    },
    {
      "metadata": {},
      "cell_type": "markdown",
      "source": "<font color = green>\n    \n### Answer\n</font>"
    },
    {
      "metadata": {
        "trusted": true
      },
      "cell_type": "code",
      "source": "answer_three()",
      "execution_count": 10,
      "outputs": [
        {
          "output_type": "execute_result",
          "execution_count": 10,
          "data": {
            "text/plain": "268130378631.12988"
          },
          "metadata": {}
        }
      ]
    },
    {
      "metadata": {},
      "cell_type": "markdown",
      "source": "<font color = green>\n    \n### Question 4\n</font>"
    },
    {
      "metadata": {
        "trusted": true
      },
      "cell_type": "code",
      "source": "def answer_four():\n    data[\"Citation Ratio\"] = data[\"Self-citations\"] / data[\"Citations\"]\n    first = data.sort_values(by = \"Citation Ratio\", ascending = False).iloc[0]\n    return first.name, first[\"Citation Ratio\"]",
      "execution_count": 11,
      "outputs": []
    },
    {
      "metadata": {},
      "cell_type": "markdown",
      "source": "<font color = green>\n    \n### Answer\n</font>"
    },
    {
      "metadata": {
        "trusted": true
      },
      "cell_type": "code",
      "source": "answer_four()",
      "execution_count": 12,
      "outputs": [
        {
          "output_type": "execute_result",
          "execution_count": 12,
          "data": {
            "text/plain": "('China', 0.6832074854438147)"
          },
          "metadata": {}
        }
      ]
    },
    {
      "metadata": {},
      "cell_type": "markdown",
      "source": "<font color = green>\n    \n### Question 5\n</font>"
    },
    {
      "metadata": {
        "scrolled": true,
        "trusted": true
      },
      "cell_type": "code",
      "source": "def answer_five():\n    data[\"Population\"] = data[\"Energy Supply\"] / data[\"Energy Supply per Capita\"]\n    return data.sort_values(by = \"Population\", ascending = False).iloc[2].name",
      "execution_count": 13,
      "outputs": []
    },
    {
      "metadata": {},
      "cell_type": "markdown",
      "source": "<font color = green>\n    \n### Answer\n</font>"
    },
    {
      "metadata": {
        "scrolled": true,
        "trusted": true
      },
      "cell_type": "code",
      "source": "answer_five()",
      "execution_count": 14,
      "outputs": [
        {
          "output_type": "execute_result",
          "execution_count": 14,
          "data": {
            "text/plain": "'United States'"
          },
          "metadata": {}
        }
      ]
    },
    {
      "metadata": {},
      "cell_type": "markdown",
      "source": "<font color = green>\n    \n### Question 6\n</font>"
    },
    {
      "metadata": {
        "trusted": true
      },
      "cell_type": "code",
      "source": "def answer_six():\n    data[\"DocsPerPerson\"] = data[\"Citations\"] / data[\"Population\"]\n    data[\"DocsPerPerson\"] = np.float64(data[\"DocsPerPerson\"])\n    data[\"Energy Supply per Capita\"] = np.float64(data[\"Energy Supply per Capita\"])\n    return data[\"DocsPerPerson\"].corr(data[\"Energy Supply per Capita\"], method = \"pearson\")",
      "execution_count": 15,
      "outputs": []
    },
    {
      "metadata": {},
      "cell_type": "markdown",
      "source": "<font color = green>\n    \n### Answer\n</font>"
    },
    {
      "metadata": {
        "trusted": true
      },
      "cell_type": "code",
      "source": "print(answer_six())",
      "execution_count": 16,
      "outputs": [
        {
          "output_type": "stream",
          "text": "0.6642822217071158\n",
          "name": "stdout"
        }
      ]
    },
    {
      "metadata": {},
      "cell_type": "markdown",
      "source": "<font color = green>\n    \n### Question 7\n</font>"
    },
    {
      "metadata": {
        "trusted": true
      },
      "cell_type": "code",
      "source": "def answer_seven():\n    ContinentDict  = {'China':'Asia',\n                      'United States':'North America',\n                      'Japan':'Asia',\n                      'United Kingdom':'Europe',\n                      'Russian Federation':'Europe',\n                      'Canada':'North America',\n                      'Germany':'Europe',\n                      'India':'Asia',\n                      'France':'Europe',\n                      'South Korea':'Asia',\n                      'Italy':'Europe',\n                      'Spain':'Europe',\n                      'Iran':'Asia',\n                      'Australia':'Australia',\n                      'Brazil':'South America'\n                     }\n    data[\"Continent\"] = pd.Series(ContinentDict)\n    data[\"Population\"] = np.float64(data[\"Population\"])\n    return data.groupby('Continent')[\"Population\"].agg([np.size, np.sum, np.mean, np.std])",
      "execution_count": 17,
      "outputs": []
    },
    {
      "metadata": {},
      "cell_type": "markdown",
      "source": "<font color = green>\n    \n### Answer\n</font>"
    },
    {
      "metadata": {
        "trusted": true
      },
      "cell_type": "code",
      "source": "answer_seven()",
      "execution_count": 18,
      "outputs": [
        {
          "output_type": "execute_result",
          "execution_count": 18,
          "data": {
            "text/html": "<div>\n<table border=\"1\" class=\"dataframe\">\n  <thead>\n    <tr style=\"text-align: right;\">\n      <th></th>\n      <th>size</th>\n      <th>sum</th>\n      <th>mean</th>\n      <th>std</th>\n    </tr>\n    <tr>\n      <th>Continent</th>\n      <th></th>\n      <th></th>\n      <th></th>\n      <th></th>\n    </tr>\n  </thead>\n  <tbody>\n    <tr>\n      <th>Asia</th>\n      <td>5.00</td>\n      <td>2,898,666,386.61</td>\n      <td>579,733,277.32</td>\n      <td>679,097,888.37</td>\n    </tr>\n    <tr>\n      <th>Australia</th>\n      <td>1.00</td>\n      <td>23,316,017.32</td>\n      <td>23,316,017.32</td>\n      <td>nan</td>\n    </tr>\n    <tr>\n      <th>Europe</th>\n      <td>6.00</td>\n      <td>457,929,667.22</td>\n      <td>76,321,611.20</td>\n      <td>34,647,667.07</td>\n    </tr>\n    <tr>\n      <th>North America</th>\n      <td>2.00</td>\n      <td>352,855,249.48</td>\n      <td>176,427,624.74</td>\n      <td>199,669,644.86</td>\n    </tr>\n    <tr>\n      <th>South America</th>\n      <td>1.00</td>\n      <td>205,915,254.24</td>\n      <td>205,915,254.24</td>\n      <td>nan</td>\n    </tr>\n  </tbody>\n</table>\n</div>",
            "text/plain": "               size              sum           mean            std\nContinent                                                         \nAsia           5.00 2,898,666,386.61 579,733,277.32 679,097,888.37\nAustralia      1.00    23,316,017.32  23,316,017.32            nan\nEurope         6.00   457,929,667.22  76,321,611.20  34,647,667.07\nNorth America  2.00   352,855,249.48 176,427,624.74 199,669,644.86\nSouth America  1.00   205,915,254.24 205,915,254.24            nan"
          },
          "metadata": {}
        }
      ]
    }
  ],
  "metadata": {
    "kernelspec": {
      "name": "python3",
      "display_name": "Python 3",
      "language": "python"
    },
    "language_info": {
      "mimetype": "text/x-python",
      "nbconvert_exporter": "python",
      "name": "python",
      "pygments_lexer": "ipython3",
      "version": "3.5.4",
      "file_extension": ".py",
      "codemirror_mode": {
        "version": 3,
        "name": "ipython"
      }
    }
  },
  "nbformat": 4,
  "nbformat_minor": 2
}