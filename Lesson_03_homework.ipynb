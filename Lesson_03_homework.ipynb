{
  "cells": [
    {
      "metadata": {
        "trusted": true
      },
      "cell_type": "code",
      "source": "import numpy as np\nimport matplotlib.pyplot as plt\nfrom sklearn.datasets import load_iris\nfrom sklearn.model_selection import train_test_split\nfrom sklearn.metrics import mean_absolute_error",
      "execution_count": 1,
      "outputs": []
    },
    {
      "metadata": {
        "trusted": true
      },
      "cell_type": "code",
      "source": "def knn(X_train, X_test, y_train, k):\n    y_test = np.empty(0)\n    # For each x_test find the distance to every x_train\n    for xtest in X_test:\n        distances = np.empty(0)\n        for xtrain in X_train:\n            d = np.sqrt(np.power((xtest[0]-xtrain[0]),2) + np.power((xtest[1]-xtrain[1]),2) +\n                        np.power((xtest[2]-xtrain[2]),2) + np.power((xtest[3]-xtrain[3]),2)\n                       )\n            distances = np.append(distances, d)\n        \n        # distances stores the sorted indexes, but not the distance values\n        distances = np.argsort(distances)\n        # y contains y_train values is sorted order (closest first)\n        y = y_train[distances]\n        # Choose only k first elements from y, find the most common value and append it to output array\n        y_test = np.append(y_test, np.bincount(y[:k]).argmax())\n    return y_test",
      "execution_count": 2,
      "outputs": []
    },
    {
      "metadata": {
        "trusted": true
      },
      "cell_type": "code",
      "source": "iris = load_iris()\nX, y, labels = iris.data, iris.target, iris.target_names\ntype(X)",
      "execution_count": 3,
      "outputs": [
        {
          "output_type": "execute_result",
          "execution_count": 3,
          "data": {
            "text/plain": "numpy.ndarray"
          },
          "metadata": {}
        }
      ]
    },
    {
      "metadata": {
        "trusted": true
      },
      "cell_type": "code",
      "source": "# Check if there is any missing value\nnp.isnan(X).any() or np.isnan(y).any()",
      "execution_count": 4,
      "outputs": [
        {
          "output_type": "execute_result",
          "execution_count": 4,
          "data": {
            "text/plain": "False"
          },
          "metadata": {}
        }
      ]
    },
    {
      "metadata": {
        "trusted": true
      },
      "cell_type": "code",
      "source": "# Cut 1/4 of data for further checking the algorithm\nX_train, X_test, y_train, y_test = train_test_split(X, y, test_size = 0.25, random_state = 10)",
      "execution_count": 5,
      "outputs": []
    },
    {
      "metadata": {
        "trusted": true
      },
      "cell_type": "code",
      "source": "predicted_values = knn(X_train, X_test, y_train, 1)",
      "execution_count": 6,
      "outputs": []
    },
    {
      "metadata": {
        "trusted": true
      },
      "cell_type": "code",
      "source": "print(\"Mean absolute error is %0.2f%%\" % (mean_absolute_error(y_test, predicted_values)*100))",
      "execution_count": 7,
      "outputs": [
        {
          "output_type": "stream",
          "text": "Mean absolute error is 2.63%\n",
          "name": "stdout"
        }
      ]
    },
    {
      "metadata": {
        "trusted": true
      },
      "cell_type": "code",
      "source": "# Find k that gives the lowest mae \nlowest_mean = mean_absolute_error(y_test, knn(X_train, X_test, y_train, 1))\nk = 1\nfor x in range(3, len(X_train), 2):\n    if mean_absolute_error(y_test, knn(X_train, X_test, y_train, x)) < lowest_mean:\n        lowest_mean = mean_absolute_error(y_test, knn(X_train, X_test, y_train, x))\n        k = x",
      "execution_count": 8,
      "outputs": []
    },
    {
      "metadata": {
        "trusted": true
      },
      "cell_type": "code",
      "source": "print(\"Best k is %d\" %k)\nprint(\"Minimal mae is %.2f%%\" % (lowest_mean*100))",
      "execution_count": 9,
      "outputs": [
        {
          "output_type": "stream",
          "text": "Best k is 7\nMinimal mae is 0.00%\n",
          "name": "stdout"
        }
      ]
    }
  ],
  "metadata": {
    "kernelspec": {
      "name": "python3",
      "display_name": "Python 3",
      "language": "python"
    },
    "language_info": {
      "mimetype": "text/x-python",
      "nbconvert_exporter": "python",
      "name": "python",
      "pygments_lexer": "ipython3",
      "version": "3.5.4",
      "file_extension": ".py",
      "codemirror_mode": {
        "version": 3,
        "name": "ipython"
      }
    }
  },
  "nbformat": 4,
  "nbformat_minor": 2
}