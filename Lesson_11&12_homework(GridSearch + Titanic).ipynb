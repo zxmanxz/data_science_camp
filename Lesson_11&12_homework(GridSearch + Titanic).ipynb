{
  "cells": [
    {
      "metadata": {
        "trusted": false
      },
      "cell_type": "code",
      "source": "import pandas as pd\nimport numpy as np\nimport os\nfrom sklearn.preprocessing import StandardScaler \nfrom sklearn.model_selection import GridSearchCV",
      "execution_count": 1,
      "outputs": []
    },
    {
      "metadata": {
        "trusted": false
      },
      "cell_type": "code",
      "source": "cwd = os.getcwd()\npath = os.path.join(cwd,\"data\")\n\nfn =  os.path.join(path , \"train.csv\")\ndataTrain = pd.read_csv(fn, index_col = \"PassengerId\")\n\nfn = os.path.join(path , \"test.csv\")\nX_test = pd.read_csv(fn)\n\nTestPassengerId = X_test.PassengerId\nX_test.set_index(\"PassengerId\", inplace=True)",
      "execution_count": 2,
      "outputs": []
    },
    {
      "metadata": {
        "trusted": false
      },
      "cell_type": "code",
      "source": "y_train = dataTrain[\"Survived\"]\nX_train = dataTrain.drop(\"Survived\", axis = 1)",
      "execution_count": 3,
      "outputs": []
    },
    {
      "metadata": {
        "trusted": false
      },
      "cell_type": "code",
      "source": "# I decided to preprocess both Test and Train datasets simultaneously\n\nX = pd.concat([X_train, X_test])\nX.isnull().sum()",
      "execution_count": 4,
      "outputs": [
        {
          "data": {
            "text/plain": "Pclass         0\nName           0\nSex            0\nAge          263\nSibSp          0\nParch          0\nTicket         0\nFare           1\nCabin       1014\nEmbarked       2\ndtype: int64"
          },
          "execution_count": 4,
          "metadata": {},
          "output_type": "execute_result"
        }
      ]
    },
    {
      "metadata": {
        "trusted": false
      },
      "cell_type": "code",
      "source": "#Extracting Title from the name column\n\nX[\"Title\"] = X[\"Name\"].str.extract(\"([A-Za-z]+)\\.\")\nX[\"Title\"].value_counts()",
      "execution_count": 5,
      "outputs": [
        {
          "data": {
            "text/plain": "Mr          757\nMiss        260\nMrs         197\nMaster       61\nDr            8\nRev           8\nCol           4\nMs            2\nMajor         2\nMlle          2\nSir           1\nDon           1\nLady          1\nCapt          1\nDona          1\nMme           1\nJonkheer      1\nCountess      1\nName: Title, dtype: int64"
          },
          "execution_count": 5,
          "metadata": {},
          "output_type": "execute_result"
        }
      ]
    },
    {
      "metadata": {
        "trusted": false
      },
      "cell_type": "code",
      "source": "X[X[\"Age\"].isnull()].groupby(\"Title\")[\"Name\"].count()",
      "execution_count": 6,
      "outputs": [
        {
          "data": {
            "text/plain": "Title\nDr          1\nMaster      8\nMiss       50\nMr        176\nMrs        27\nMs          1\nName: Name, dtype: int64"
          },
          "execution_count": 6,
          "metadata": {},
          "output_type": "execute_result"
        }
      ]
    },
    {
      "metadata": {
        "trusted": false
      },
      "cell_type": "code",
      "source": "#Filling missing Age values with average age of people with the same title\n\nX[\"Age\"] = X.groupby([\"Title\"])[\"Age\"].transform(lambda x: x.fillna(x.median())) ",
      "execution_count": 7,
      "outputs": []
    },
    {
      "metadata": {
        "trusted": false
      },
      "cell_type": "code",
      "source": "# Merging some titles to common value\n\nX[\"Title\"].replace(to_replace = [\"Rev\",\"Col\", \"Major\", \"Capt\"], value = \"Crew\", inplace = True)\nX[\"Title\"].replace(to_replace = [\"Dona\", \"Jonkheer\", \"Countess\", \"Sir\", \"Lady\", \"Don\", \"Dr\"], value = \"Elite\", inplace = True)\nX[\"Title\"].replace({\"Mlle\":\"Miss\", \"Ms\":\"Miss\", \"Mme\":\"Mrs\"}, inplace = True)\n\n# Separating kids and seniors from others (Improved my Kaggle score by ~ 1%)\n\nX.loc[X['Age'] <= 7, 'Title'] = \"Kid\"      # 18 dead, 36 survived\nX.loc[X['Age'] >= 59, 'Title'] = 'Senior'  # 21 dead, 7 survived ",
      "execution_count": 8,
      "outputs": []
    },
    {
      "metadata": {
        "trusted": false
      },
      "cell_type": "code",
      "source": "X[\"Title\"].value_counts()",
      "execution_count": 9,
      "outputs": [
        {
          "data": {
            "text/plain": "Mr        728\nMiss      232\nMrs       187\nKid        74\nSenior     43\nMaster     18\nElite      14\nCrew       13\nName: Title, dtype: int64"
          },
          "execution_count": 9,
          "metadata": {},
          "output_type": "execute_result"
        }
      ]
    },
    {
      "metadata": {
        "trusted": false
      },
      "cell_type": "code",
      "source": "X[X[\"Fare\"].isnull()]",
      "execution_count": 10,
      "outputs": [
        {
          "data": {
            "text/html": "<div>\n<style scoped>\n    .dataframe tbody tr th:only-of-type {\n        vertical-align: middle;\n    }\n\n    .dataframe tbody tr th {\n        vertical-align: top;\n    }\n\n    .dataframe thead th {\n        text-align: right;\n    }\n</style>\n<table border=\"1\" class=\"dataframe\">\n  <thead>\n    <tr style=\"text-align: right;\">\n      <th></th>\n      <th>Pclass</th>\n      <th>Name</th>\n      <th>Sex</th>\n      <th>Age</th>\n      <th>SibSp</th>\n      <th>Parch</th>\n      <th>Ticket</th>\n      <th>Fare</th>\n      <th>Cabin</th>\n      <th>Embarked</th>\n      <th>Title</th>\n    </tr>\n    <tr>\n      <th>PassengerId</th>\n      <th></th>\n      <th></th>\n      <th></th>\n      <th></th>\n      <th></th>\n      <th></th>\n      <th></th>\n      <th></th>\n      <th></th>\n      <th></th>\n      <th></th>\n    </tr>\n  </thead>\n  <tbody>\n    <tr>\n      <th>1044</th>\n      <td>3</td>\n      <td>Storey, Mr. Thomas</td>\n      <td>male</td>\n      <td>60.5</td>\n      <td>0</td>\n      <td>0</td>\n      <td>3701</td>\n      <td>NaN</td>\n      <td>NaN</td>\n      <td>S</td>\n      <td>Senior</td>\n    </tr>\n  </tbody>\n</table>\n</div>",
            "text/plain": "             Pclass                Name   Sex   Age  SibSp  Parch Ticket  \\\nPassengerId                                                                \n1044              3  Storey, Mr. Thomas  male  60.5      0      0   3701   \n\n             Fare Cabin Embarked   Title  \nPassengerId                               \n1044          NaN   NaN        S  Senior  "
          },
          "execution_count": 10,
          "metadata": {},
          "output_type": "execute_result"
        }
      ]
    },
    {
      "metadata": {
        "trusted": false
      },
      "cell_type": "code",
      "source": "# Filling missing Fare value with average price of the same traveling condition\n\nX.at[1044, \"Fare\"] = X[(X[\"Pclass\"] == 3) & (X[\"Embarked\"] == \"S\") & (X[\"SibSp\"] == 0) & (X[\"Parch\"] == 0)][\"Fare\"].median()",
      "execution_count": 11,
      "outputs": []
    },
    {
      "metadata": {
        "trusted": false
      },
      "cell_type": "code",
      "source": "# Deciding to keep only deck instead of whole cabin number. E.g. C86 => C; A13 => A\n\nX[\"Cabin\"] = X[\"Cabin\"].str[0] ",
      "execution_count": 12,
      "outputs": []
    },
    {
      "metadata": {
        "trusted": false
      },
      "cell_type": "code",
      "source": "# Passengers with the same ticket number probably were traveling in the same deck\n\nX[\"Cabin\"] = X[[\"Ticket\", \"Cabin\"]].groupby(\"Ticket\")[\"Cabin\"].transform(lambda x: x.fillna(x.unique()[0]))",
      "execution_count": 13,
      "outputs": []
    },
    {
      "metadata": {
        "trusted": false
      },
      "cell_type": "code",
      "source": "# Other missing deck values were filled out with PClass number\n\nX[\"Cabin\"].fillna(X[\"Pclass\"], inplace = True)",
      "execution_count": 14,
      "outputs": []
    },
    {
      "metadata": {
        "trusted": false
      },
      "cell_type": "code",
      "source": "X[\"Cabin\"].value_counts()",
      "execution_count": 15,
      "outputs": [
        {
          "data": {
            "text/plain": "3    691\n2    253\nC     99\nB     67\n1     60\nD     46\nE     42\nF     23\nA     22\nG      5\nT      1\nName: Cabin, dtype: int64"
          },
          "execution_count": 15,
          "metadata": {},
          "output_type": "execute_result"
        }
      ]
    },
    {
      "metadata": {
        "trusted": false
      },
      "cell_type": "code",
      "source": "X[X[\"Embarked\"].isnull()]",
      "execution_count": 16,
      "outputs": [
        {
          "data": {
            "text/html": "<div>\n<style scoped>\n    .dataframe tbody tr th:only-of-type {\n        vertical-align: middle;\n    }\n\n    .dataframe tbody tr th {\n        vertical-align: top;\n    }\n\n    .dataframe thead th {\n        text-align: right;\n    }\n</style>\n<table border=\"1\" class=\"dataframe\">\n  <thead>\n    <tr style=\"text-align: right;\">\n      <th></th>\n      <th>Pclass</th>\n      <th>Name</th>\n      <th>Sex</th>\n      <th>Age</th>\n      <th>SibSp</th>\n      <th>Parch</th>\n      <th>Ticket</th>\n      <th>Fare</th>\n      <th>Cabin</th>\n      <th>Embarked</th>\n      <th>Title</th>\n    </tr>\n    <tr>\n      <th>PassengerId</th>\n      <th></th>\n      <th></th>\n      <th></th>\n      <th></th>\n      <th></th>\n      <th></th>\n      <th></th>\n      <th></th>\n      <th></th>\n      <th></th>\n      <th></th>\n    </tr>\n  </thead>\n  <tbody>\n    <tr>\n      <th>62</th>\n      <td>1</td>\n      <td>Icard, Miss. Amelie</td>\n      <td>female</td>\n      <td>38.0</td>\n      <td>0</td>\n      <td>0</td>\n      <td>113572</td>\n      <td>80.0</td>\n      <td>B</td>\n      <td>NaN</td>\n      <td>Miss</td>\n    </tr>\n    <tr>\n      <th>830</th>\n      <td>1</td>\n      <td>Stone, Mrs. George Nelson (Martha Evelyn)</td>\n      <td>female</td>\n      <td>62.0</td>\n      <td>0</td>\n      <td>0</td>\n      <td>113572</td>\n      <td>80.0</td>\n      <td>B</td>\n      <td>NaN</td>\n      <td>Senior</td>\n    </tr>\n  </tbody>\n</table>\n</div>",
            "text/plain": "             Pclass                                       Name     Sex   Age  \\\nPassengerId                                                                    \n62                1                        Icard, Miss. Amelie  female  38.0   \n830               1  Stone, Mrs. George Nelson (Martha Evelyn)  female  62.0   \n\n             SibSp  Parch  Ticket  Fare Cabin Embarked   Title  \nPassengerId                                                     \n62               0      0  113572  80.0     B      NaN    Miss  \n830              0      0  113572  80.0     B      NaN  Senior  "
          },
          "execution_count": 16,
          "metadata": {},
          "output_type": "execute_result"
        }
      ]
    },
    {
      "metadata": {
        "trusted": false
      },
      "cell_type": "code",
      "source": "X[(X[\"Fare\"] > 79.5) & (X[\"Fare\"] < 80.5)]",
      "execution_count": 17,
      "outputs": [
        {
          "data": {
            "text/html": "<div>\n<style scoped>\n    .dataframe tbody tr th:only-of-type {\n        vertical-align: middle;\n    }\n\n    .dataframe tbody tr th {\n        vertical-align: top;\n    }\n\n    .dataframe thead th {\n        text-align: right;\n    }\n</style>\n<table border=\"1\" class=\"dataframe\">\n  <thead>\n    <tr style=\"text-align: right;\">\n      <th></th>\n      <th>Pclass</th>\n      <th>Name</th>\n      <th>Sex</th>\n      <th>Age</th>\n      <th>SibSp</th>\n      <th>Parch</th>\n      <th>Ticket</th>\n      <th>Fare</th>\n      <th>Cabin</th>\n      <th>Embarked</th>\n      <th>Title</th>\n    </tr>\n    <tr>\n      <th>PassengerId</th>\n      <th></th>\n      <th></th>\n      <th></th>\n      <th></th>\n      <th></th>\n      <th></th>\n      <th></th>\n      <th></th>\n      <th></th>\n      <th></th>\n      <th></th>\n    </tr>\n  </thead>\n  <tbody>\n    <tr>\n      <th>62</th>\n      <td>1</td>\n      <td>Icard, Miss. Amelie</td>\n      <td>female</td>\n      <td>38.0</td>\n      <td>0</td>\n      <td>0</td>\n      <td>113572</td>\n      <td>80.00</td>\n      <td>B</td>\n      <td>NaN</td>\n      <td>Miss</td>\n    </tr>\n    <tr>\n      <th>263</th>\n      <td>1</td>\n      <td>Taussig, Mr. Emil</td>\n      <td>male</td>\n      <td>52.0</td>\n      <td>1</td>\n      <td>1</td>\n      <td>110413</td>\n      <td>79.65</td>\n      <td>E</td>\n      <td>S</td>\n      <td>Mr</td>\n    </tr>\n    <tr>\n      <th>559</th>\n      <td>1</td>\n      <td>Taussig, Mrs. Emil (Tillie Mandelbaum)</td>\n      <td>female</td>\n      <td>39.0</td>\n      <td>1</td>\n      <td>1</td>\n      <td>110413</td>\n      <td>79.65</td>\n      <td>E</td>\n      <td>S</td>\n      <td>Mrs</td>\n    </tr>\n    <tr>\n      <th>586</th>\n      <td>1</td>\n      <td>Taussig, Miss. Ruth</td>\n      <td>female</td>\n      <td>18.0</td>\n      <td>0</td>\n      <td>2</td>\n      <td>110413</td>\n      <td>79.65</td>\n      <td>E</td>\n      <td>S</td>\n      <td>Miss</td>\n    </tr>\n    <tr>\n      <th>830</th>\n      <td>1</td>\n      <td>Stone, Mrs. George Nelson (Martha Evelyn)</td>\n      <td>female</td>\n      <td>62.0</td>\n      <td>0</td>\n      <td>0</td>\n      <td>113572</td>\n      <td>80.00</td>\n      <td>B</td>\n      <td>NaN</td>\n      <td>Senior</td>\n    </tr>\n  </tbody>\n</table>\n</div>",
            "text/plain": "             Pclass                                       Name     Sex   Age  \\\nPassengerId                                                                    \n62                1                        Icard, Miss. Amelie  female  38.0   \n263               1                          Taussig, Mr. Emil    male  52.0   \n559               1     Taussig, Mrs. Emil (Tillie Mandelbaum)  female  39.0   \n586               1                        Taussig, Miss. Ruth  female  18.0   \n830               1  Stone, Mrs. George Nelson (Martha Evelyn)  female  62.0   \n\n             SibSp  Parch  Ticket   Fare Cabin Embarked   Title  \nPassengerId                                                      \n62               0      0  113572  80.00     B      NaN    Miss  \n263              1      1  110413  79.65     E        S      Mr  \n559              1      1  110413  79.65     E        S     Mrs  \n586              0      2  110413  79.65     E        S    Miss  \n830              0      0  113572  80.00     B      NaN  Senior  "
          },
          "execution_count": 17,
          "metadata": {},
          "output_type": "execute_result"
        }
      ]
    },
    {
      "metadata": {
        "trusted": false
      },
      "cell_type": "code",
      "source": "# Filling missing port of embarkation values basing on the price of ticket\n\nX[\"Embarked\"].fillna(\"S\", inplace = True)",
      "execution_count": 18,
      "outputs": []
    },
    {
      "metadata": {
        "trusted": false
      },
      "cell_type": "code",
      "source": "X[\"FamilySize\"] = X[\"SibSp\"] + X[\"Parch\"]",
      "execution_count": 19,
      "outputs": []
    },
    {
      "metadata": {
        "scrolled": true,
        "trusted": false
      },
      "cell_type": "code",
      "source": "OHE_Cabin = pd.get_dummies(X[\"Cabin\"])\nOHE_Cabin.drop([1,2,3], axis = 1, inplace = True)\nOHE_Sex = pd.get_dummies(X[\"Sex\"])\nOHE_Title = pd.get_dummies(X[\"Title\"])\nOHE_Embarked = pd.get_dummies(X[\"Embarked\"])\n\n# There may be two features named \"C\" - OHE_Cabin and OHE_Embarked (XGBoost does not deal with it)\n\nOHE_Embarked.rename(columns ={\"C\":\"CH\"}, inplace = True)\nOHE_PClass = pd.get_dummies(X[\"Pclass\"])\n\nscaler = StandardScaler()\nX[[\"Age\",\"Fare\", \"FamilySize\"]] = scaler.fit_transform(X[[\"Age\",\"Fare\", \"FamilySize\"]])\nX_new = pd.concat([X[[\"Age\",\"Fare\", \"FamilySize\"]], OHE_PClass, OHE_Cabin, OHE_Sex, OHE_Title, OHE_Embarked], axis = 1, sort = False)\nX_new.columns",
      "execution_count": 20,
      "outputs": [
        {
          "name": "stderr",
          "output_type": "stream",
          "text": "D:\\DataScience\\Anaconda\\envs\\DS\\lib\\site-packages\\sklearn\\preprocessing\\data.py:625: DataConversionWarning: Data with input dtype int64, float64 were all converted to float64 by StandardScaler.\n  return self.partial_fit(X, y)\nD:\\DataScience\\Anaconda\\envs\\DS\\lib\\site-packages\\sklearn\\base.py:462: DataConversionWarning: Data with input dtype int64, float64 were all converted to float64 by StandardScaler.\n  return self.fit(X, **fit_params).transform(X)\n"
        },
        {
          "data": {
            "text/plain": "Index([       'Age',       'Fare', 'FamilySize',            1,            2,\n                  3,          'A',          'B',          'C',          'D',\n                'E',          'F',          'G',          'T',     'female',\n             'male',       'Crew',      'Elite',        'Kid',     'Master',\n             'Miss',         'Mr',        'Mrs',     'Senior',         'CH',\n                'Q',          'S'],\n      dtype='object')"
          },
          "execution_count": 20,
          "metadata": {},
          "output_type": "execute_result"
        }
      ]
    },
    {
      "metadata": {
        "trusted": false
      },
      "cell_type": "code",
      "source": "X_train = X_new.iloc[:891]\nX_test = X_new.iloc[891:]",
      "execution_count": 21,
      "outputs": []
    },
    {
      "metadata": {},
      "cell_type": "markdown",
      "source": "## MLP Classifier"
    },
    {
      "metadata": {
        "trusted": false
      },
      "cell_type": "code",
      "source": "from sklearn.neural_network import MLPClassifier\n\nmlpc = MLPClassifier(random_state=1912, max_iter = 500)\n\n# parameter_space = {\n#     \"hidden_layer_sizes\": [(50,50,50), (50,100,50), (100,), (50,100), (75,50), (25,50), (50,25)], \n#     \"solver\": [\"sgd\", \"adam\", \"lbfgs\"],\n#     \"alpha\": [0.0001, 0.001, 0.01, 0.05, 0.1, 0.5, 1, 2, 3, 5, 7, 9]\n# }\n\n# Best pamams found after running GridSearch on set above:\nparameter_space = {\"alpha\": [7], \"hidden_layer_sizes\": [(50, 100, 50)], \"solver\": [\"lbfgs\"]} \n\nmlpc_gs = GridSearchCV(mlpc, parameter_space, n_jobs=-1, cv=3)\nmlpc_gs.fit(X_train, y_train)",
      "execution_count": 22,
      "outputs": [
        {
          "data": {
            "text/plain": "GridSearchCV(cv=3, error_score='raise-deprecating',\n       estimator=MLPClassifier(activation='relu', alpha=0.0001, batch_size='auto', beta_1=0.9,\n       beta_2=0.999, early_stopping=False, epsilon=1e-08,\n       hidden_layer_sizes=(100,), learning_rate='constant',\n       learning_rate_init=0.001, max_iter=500, momentum=0.9,\n       n_iter_no_change=10, nesterovs_momentum=True, power_t=0.5,\n       random_state=1912, shuffle=True, solver='adam', tol=0.0001,\n       validation_fraction=0.1, verbose=False, warm_start=False),\n       fit_params=None, iid='warn', n_jobs=-1,\n       param_grid={'alpha': [7], 'hidden_layer_sizes': [(50, 100, 50)], 'solver': ['lbfgs']},\n       pre_dispatch='2*n_jobs', refit=True, return_train_score='warn',\n       scoring=None, verbose=0)"
          },
          "execution_count": 22,
          "metadata": {},
          "output_type": "execute_result"
        }
      ]
    },
    {
      "metadata": {
        "trusted": false
      },
      "cell_type": "code",
      "source": "print(\"Best parameters found for MLPC: %r \\nMax Score = %0.03f\" %(mlpc_gs.best_params_, mlpc_gs.best_score_))\n\n# means = mlpc_gs.cv_results_[\"mean_test_score\"]\n# stds = mlpc_gs.cv_results_[\"std_test_score\"]\n# for mean, std, params in zip(means, stds, mlpc_gs.cv_results_[\"params\"]):\n#     print(\"%0.3f (+/-%0.03f) for %r\" % (mean, std * 2, params))",
      "execution_count": 23,
      "outputs": [
        {
          "name": "stdout",
          "output_type": "stream",
          "text": "Best parameters found for MLPC: {'alpha': 7, 'hidden_layer_sizes': (50, 100, 50), 'solver': 'lbfgs'} \nMax Score = 0.832\n"
        }
      ]
    },
    {
      "metadata": {},
      "cell_type": "markdown",
      "source": "## SVC"
    },
    {
      "metadata": {
        "trusted": false
      },
      "cell_type": "code",
      "source": "from sklearn.svm import SVC\n\nsvc = SVC(random_state=1912)\n\n# That's what left after running certain amount of GridSearches: \nparameter_space = {\n    \"C\": [0.01],\n    \"gamma\": [1],\n    \"kernel\": [\"poly\"],\n    \"degree\": [2]\n}\n\nsvc_gs = GridSearchCV(svc, parameter_space, n_jobs=-1, cv=3)\nsvc_gs.fit(X_train, y_train)",
      "execution_count": 24,
      "outputs": [
        {
          "data": {
            "text/plain": "GridSearchCV(cv=3, error_score='raise-deprecating',\n       estimator=SVC(C=1.0, cache_size=200, class_weight=None, coef0=0.0,\n  decision_function_shape='ovr', degree=3, gamma='auto_deprecated',\n  kernel='rbf', max_iter=-1, probability=False, random_state=1912,\n  shrinking=True, tol=0.001, verbose=False),\n       fit_params=None, iid='warn', n_jobs=-1,\n       param_grid={'C': [0.01], 'gamma': [1], 'kernel': ['poly'], 'degree': [2]},\n       pre_dispatch='2*n_jobs', refit=True, return_train_score='warn',\n       scoring=None, verbose=0)"
          },
          "execution_count": 24,
          "metadata": {},
          "output_type": "execute_result"
        }
      ]
    },
    {
      "metadata": {
        "trusted": false
      },
      "cell_type": "code",
      "source": "print(\"Best parameters found for SVC: %r \\nMax Score = %0.03f\" %(svc_gs.best_params_, svc_gs.best_score_))\n\n# means = svc_gs.cv_results_[\"mean_test_score\"]\n# stds = svc_gs.cv_results_[\"std_test_score\"]\n# for mean, std, params in zip(means, stds, svc_gs.cv_results_[\"params\"]):\n#     print(\"%0.3f (+/-%0.03f) for %r\" % (mean, std * 2, params))",
      "execution_count": 25,
      "outputs": [
        {
          "name": "stdout",
          "output_type": "stream",
          "text": "Best parameters found for SVC: {'C': 0.01, 'degree': 2, 'gamma': 1, 'kernel': 'poly'} \nMax Score = 0.834\n"
        }
      ]
    },
    {
      "metadata": {},
      "cell_type": "markdown",
      "source": "## GBC"
    },
    {
      "metadata": {
        "trusted": false
      },
      "cell_type": "code",
      "source": "from sklearn.ensemble import GradientBoostingClassifier\n\ngbc = GradientBoostingClassifier(random_state = 1912)\n\n# That's what left after running certain amount of GridSearches: \nparameter_space = { \n    \"learning_rate\": [0.05],\n    \"max_depth\": [3],\n    \"n_estimators\": [410]\n}\n\ngbc_gs = GridSearchCV(gbc, parameter_space, n_jobs=-1, cv=3)\ngbc_gs.fit(X_train, y_train)",
      "execution_count": 26,
      "outputs": [
        {
          "data": {
            "text/plain": "GridSearchCV(cv=3, error_score='raise-deprecating',\n       estimator=GradientBoostingClassifier(criterion='friedman_mse', init=None,\n              learning_rate=0.1, loss='deviance', max_depth=3,\n              max_features=None, max_leaf_nodes=None,\n              min_impurity_decrease=0.0, min_impurity_split=None,\n              min_samples_leaf=1, min_sampl...      subsample=1.0, tol=0.0001, validation_fraction=0.1,\n              verbose=0, warm_start=False),\n       fit_params=None, iid='warn', n_jobs=-1,\n       param_grid={'learning_rate': [0.05], 'max_depth': [3], 'n_estimators': [410]},\n       pre_dispatch='2*n_jobs', refit=True, return_train_score='warn',\n       scoring=None, verbose=0)"
          },
          "execution_count": 26,
          "metadata": {},
          "output_type": "execute_result"
        }
      ]
    },
    {
      "metadata": {
        "trusted": false
      },
      "cell_type": "code",
      "source": "print(\"Best parameters found for GBC: %r \\nMax Score = %0.03f\" %(gbc_gs.best_params_, gbc_gs.best_score_))\n\n# means = gbc_gs.cv_results_[\"mean_test_score\"]\n# stds = gbc_gs.cv_results_[\"std_test_score\"]\n# for mean, std, params in zip(means, stds, gbc_gs.cv_results_[\"params\"]):\n#     print(\"%0.3f (+/-%0.03f) for %r\" % (mean, std * 2, params))",
      "execution_count": 27,
      "outputs": [
        {
          "name": "stdout",
          "output_type": "stream",
          "text": "Best parameters found for GBC: {'learning_rate': 0.05, 'max_depth': 3, 'n_estimators': 410} \nMax Score = 0.835\n"
        }
      ]
    },
    {
      "metadata": {},
      "cell_type": "markdown",
      "source": "## XGBC"
    },
    {
      "metadata": {
        "trusted": false
      },
      "cell_type": "code",
      "source": "from xgboost import XGBClassifier\nxgbc = XGBClassifier(random_state = 1912)\n\n# That's what left after running certain amount of GridSearches: \nparameter_space = {\n    'n_estimators': [625],\n    'learning_rate': [0.01],\n    'subsample': [0.9],\n    'max_depth': [8],\n    'colsample_bytree': [0.5],\n    'min_child_weight': [5],\n}\n\nxgbc_gs = GridSearchCV(xgbc, parameter_space, n_jobs=-1, cv=3)\nxgbc_gs.fit(X_train, y_train)",
      "execution_count": 28,
      "outputs": [
        {
          "data": {
            "text/plain": "GridSearchCV(cv=3, error_score='raise-deprecating',\n       estimator=XGBClassifier(base_score=0.5, booster='gbtree', colsample_bylevel=1,\n       colsample_bytree=1, gamma=0, learning_rate=0.1, max_delta_step=0,\n       max_depth=3, min_child_weight=1, missing=None, n_estimators=100,\n       n_jobs=1, nthread=None, objective='binary:logistic',\n       random_state=1912, reg_alpha=0, reg_lambda=1, scale_pos_weight=1,\n       seed=None, silent=True, subsample=1),\n       fit_params=None, iid='warn', n_jobs=-1,\n       param_grid={'n_estimators': [625], 'learning_rate': [0.01], 'subsample': [0.9], 'max_depth': [8], 'colsample_bytree': [0.5], 'min_child_weight': [5]},\n       pre_dispatch='2*n_jobs', refit=True, return_train_score='warn',\n       scoring=None, verbose=0)"
          },
          "execution_count": 28,
          "metadata": {},
          "output_type": "execute_result"
        }
      ]
    },
    {
      "metadata": {
        "trusted": false
      },
      "cell_type": "code",
      "source": "print(\"Best parameters found for XGBC: %r \\nMax Score = %0.03f\" %(xgbc_gs.best_params_, xgbc_gs.best_score_))\n\n# means = xgbc_gs.cv_results_[\"mean_test_score\"]\n# stds = xgbc_gs.cv_results_[\"std_test_score\"]\n# for mean, std, params in zip(means, stds, xgbc_gs.cv_results_[\"params\"]):\n#     print(\"%0.3f (+/-%0.03f) for %r\" % (mean, std * 2, params))\n",
      "execution_count": 29,
      "outputs": [
        {
          "name": "stdout",
          "output_type": "stream",
          "text": "Best parameters found for XGBC: {'colsample_bytree': 0.5, 'learning_rate': 0.01, 'max_depth': 8, 'min_child_weight': 5, 'n_estimators': 625, 'subsample': 0.9} \nMax Score = 0.837\n"
        }
      ]
    },
    {
      "metadata": {},
      "cell_type": "markdown",
      "source": "## Random Forest"
    },
    {
      "metadata": {
        "trusted": false
      },
      "cell_type": "code",
      "source": "from sklearn.ensemble import RandomForestClassifier\nrf = RandomForestClassifier(random_state = 1912)\n\n# That's what left after running certain amount of GridSearches: \nparameter_space = {\n    \"criterion\": [\"gini\"],\n    \"bootstrap\": [True],\n    \"max_depth\": [20],\n    \"max_features\": [\"auto\"],\n    \"min_samples_leaf\": [2],\n    \"min_samples_split\": [7],\n    \"n_estimators\": [25]\n}\n \nrf_gs = GridSearchCV(rf, parameter_space, n_jobs=-1, cv=3)\nrf_gs.fit(X_train, y_train)",
      "execution_count": 30,
      "outputs": [
        {
          "data": {
            "text/plain": "GridSearchCV(cv=3, error_score='raise-deprecating',\n       estimator=RandomForestClassifier(bootstrap=True, class_weight=None, criterion='gini',\n            max_depth=None, max_features='auto', max_leaf_nodes=None,\n            min_impurity_decrease=0.0, min_impurity_split=None,\n            min_samples_leaf=1, min_samples_split=2,\n            min_weight_fraction_leaf=0.0, n_estimators='warn', n_jobs=None,\n            oob_score=False, random_state=1912, verbose=0,\n            warm_start=False),\n       fit_params=None, iid='warn', n_jobs=-1,\n       param_grid={'criterion': ['gini'], 'bootstrap': [True], 'max_depth': [20], 'max_features': ['auto'], 'min_samples_leaf': [2], 'min_samples_split': [7], 'n_estimators': [25]},\n       pre_dispatch='2*n_jobs', refit=True, return_train_score='warn',\n       scoring=None, verbose=0)"
          },
          "execution_count": 30,
          "metadata": {},
          "output_type": "execute_result"
        }
      ]
    },
    {
      "metadata": {
        "trusted": false
      },
      "cell_type": "code",
      "source": "print(\"Best parameters found for RF: %r \\nMax Score = %0.03f\" %(rf_gs.best_params_, rf_gs.best_score_))\n\n# means = rf_gs.cv_results_[\"mean_test_score\"]\n# stds = rf_gs.cv_results_[\"std_test_score\"]\n# for mean, std, params in zip(means, stds, rf_gs.cv_results_[\"params\"]):\n#     print(\"%0.3f (+/-%0.03f) for %r\" % (mean, std * 2, params))",
      "execution_count": 31,
      "outputs": [
        {
          "name": "stdout",
          "output_type": "stream",
          "text": "Best parameters found for RF: {'bootstrap': True, 'criterion': 'gini', 'max_depth': 20, 'max_features': 'auto', 'min_samples_leaf': 2, 'min_samples_split': 7, 'n_estimators': 25} \nMax Score = 0.840\n"
        }
      ]
    },
    {
      "metadata": {},
      "cell_type": "markdown",
      "source": "## Logistic Regression"
    },
    {
      "metadata": {
        "trusted": false
      },
      "cell_type": "code",
      "source": "from sklearn.linear_model import LogisticRegression\n\nlrg = LogisticRegression(max_iter = 5000, random_state = 1912)\n\n# That's what left after running certain amount of GridSearches: \nparameter_space = {\n    \"C\": [0.4], \n    \"tol\": [0.1],\n    \"solver\": [\"lbfgs\"]\n}\n\nlrg_gs = GridSearchCV(lrg, parameter_space, n_jobs=-1, cv=3)\nlrg_gs.fit(X_train, y_train)",
      "execution_count": 32,
      "outputs": [
        {
          "data": {
            "text/plain": "GridSearchCV(cv=3, error_score='raise-deprecating',\n       estimator=LogisticRegression(C=1.0, class_weight=None, dual=False, fit_intercept=True,\n          intercept_scaling=1, max_iter=5000, multi_class='warn',\n          n_jobs=None, penalty='l2', random_state=1912, solver='warn',\n          tol=0.0001, verbose=0, warm_start=False),\n       fit_params=None, iid='warn', n_jobs=-1,\n       param_grid={'C': [0.4], 'tol': [0.1], 'solver': ['lbfgs']},\n       pre_dispatch='2*n_jobs', refit=True, return_train_score='warn',\n       scoring=None, verbose=0)"
          },
          "execution_count": 32,
          "metadata": {},
          "output_type": "execute_result"
        }
      ]
    },
    {
      "metadata": {
        "trusted": false
      },
      "cell_type": "code",
      "source": "print(\"Best parameters found for LR: %r \\nMax Score = %0.03f\" %(lrg_gs.best_params_, lrg_gs.best_score_))\n\n# means = lrg_gs.cv_results_[\"mean_test_score\"]\n# stds = lrg_gs.cv_results_[\"std_test_score\"]\n# for mean, std, params in zip(means, stds, lrg_gs.cv_results_[\"params\"]):\n#     print(\"%0.3f (+/-%0.03f) for %r\" % (mean, std * 2, params))",
      "execution_count": 33,
      "outputs": [
        {
          "name": "stdout",
          "output_type": "stream",
          "text": "Best parameters found for LR: {'C': 0.4, 'solver': 'lbfgs', 'tol': 0.1} \nMax Score = 0.829\n"
        }
      ]
    },
    {
      "metadata": {},
      "cell_type": "markdown",
      "source": "## Model selection and prediction"
    },
    {
      "metadata": {
        "trusted": false
      },
      "cell_type": "code",
      "source": "scores = pd.DataFrame({\"Accuracy\": [mlpc_gs.best_score_, svc_gs.best_score_, gbc_gs.best_score_, \n                                       xgbc_gs.best_score_, rf_gs.best_score_, lrg_gs.best_score_]})\n\nscores.index = [\"MLPC\", \"SVC\", \"GBC\", \"XGBC\", \"RF\", \"LR\"]\nscores.sort_values(by = \"Accuracy\", ascending = False)",
      "execution_count": 34,
      "outputs": [
        {
          "data": {
            "text/html": "<div>\n<style scoped>\n    .dataframe tbody tr th:only-of-type {\n        vertical-align: middle;\n    }\n\n    .dataframe tbody tr th {\n        vertical-align: top;\n    }\n\n    .dataframe thead th {\n        text-align: right;\n    }\n</style>\n<table border=\"1\" class=\"dataframe\">\n  <thead>\n    <tr style=\"text-align: right;\">\n      <th></th>\n      <th>Accuracy</th>\n    </tr>\n  </thead>\n  <tbody>\n    <tr>\n      <th>RF</th>\n      <td>0.839506</td>\n    </tr>\n    <tr>\n      <th>XGBC</th>\n      <td>0.837262</td>\n    </tr>\n    <tr>\n      <th>GBC</th>\n      <td>0.835017</td>\n    </tr>\n    <tr>\n      <th>SVC</th>\n      <td>0.833895</td>\n    </tr>\n    <tr>\n      <th>MLPC</th>\n      <td>0.831650</td>\n    </tr>\n    <tr>\n      <th>LR</th>\n      <td>0.829405</td>\n    </tr>\n  </tbody>\n</table>\n</div>",
            "text/plain": "      Accuracy\nRF    0.839506\nXGBC  0.837262\nGBC   0.835017\nSVC   0.833895\nMLPC  0.831650\nLR    0.829405"
          },
          "execution_count": 34,
          "metadata": {},
          "output_type": "execute_result"
        }
      ]
    },
    {
      "metadata": {},
      "cell_type": "markdown",
      "source": "<b><i>I'll use XGBoost as a main predictor. \n    \nHowever, I decided to make a \"hybryd\" model - if XGBoost predicts other value than another 5 models, it is probably wrong.</i></b>"
    },
    {
      "metadata": {
        "trusted": false
      },
      "cell_type": "code",
      "source": "model_prediction = pd.DataFrame({\"MLPC\":mlpc_gs.best_estimator_.predict(X_test), \"SVC\":svc_gs.best_estimator_.predict(X_test), \n                                 \"GBC\":gbc_gs.best_estimator_.predict(X_test), \"XGBC\":xgbc_gs.best_estimator_.predict(X_test),\n                                 \"RF\":rf_gs.best_estimator_.predict(X_test), \"LR\":lrg_gs.best_estimator_.predict(X_test)})",
      "execution_count": 35,
      "outputs": []
    },
    {
      "metadata": {
        "trusted": false
      },
      "cell_type": "code",
      "source": "model_prediction[\"temp\"] = (model_prediction[\"RF\"] + model_prediction[\"GBC\"] + model_prediction[\"SVC\"] +\n                            model_prediction[\"MLPC\"] + model_prediction[\"SVC\"])",
      "execution_count": 36,
      "outputs": []
    },
    {
      "metadata": {
        "trusted": false
      },
      "cell_type": "code",
      "source": "model_prediction[\"Survived\"] = model_prediction.apply(lambda x: 1 if x[\"XGBC\"] == 0 and x[\"temp\"] >= 5 else \n                                                      (0 if x[\"XGBC\"] == 1 and x[\"temp\"] == 0 else x[\"XGBC\"]), axis = 1)",
      "execution_count": 37,
      "outputs": []
    },
    {
      "metadata": {
        "trusted": false
      },
      "cell_type": "code",
      "source": "# Table shows where XGBoost is possibly wrong\nmodel_prediction[model_prediction[\"XGBC\"]!=model_prediction[\"Survived\"]]",
      "execution_count": 38,
      "outputs": [
        {
          "data": {
            "text/html": "<div>\n<style scoped>\n    .dataframe tbody tr th:only-of-type {\n        vertical-align: middle;\n    }\n\n    .dataframe tbody tr th {\n        vertical-align: top;\n    }\n\n    .dataframe thead th {\n        text-align: right;\n    }\n</style>\n<table border=\"1\" class=\"dataframe\">\n  <thead>\n    <tr style=\"text-align: right;\">\n      <th></th>\n      <th>MLPC</th>\n      <th>SVC</th>\n      <th>GBC</th>\n      <th>XGBC</th>\n      <th>RF</th>\n      <th>LR</th>\n      <th>temp</th>\n      <th>Survived</th>\n    </tr>\n  </thead>\n  <tbody>\n    <tr>\n      <th>21</th>\n      <td>1</td>\n      <td>1</td>\n      <td>1</td>\n      <td>0</td>\n      <td>1</td>\n      <td>0</td>\n      <td>5</td>\n      <td>1</td>\n    </tr>\n    <tr>\n      <th>28</th>\n      <td>0</td>\n      <td>0</td>\n      <td>0</td>\n      <td>1</td>\n      <td>0</td>\n      <td>0</td>\n      <td>0</td>\n      <td>0</td>\n    </tr>\n    <tr>\n      <th>75</th>\n      <td>0</td>\n      <td>0</td>\n      <td>0</td>\n      <td>1</td>\n      <td>0</td>\n      <td>1</td>\n      <td>0</td>\n      <td>0</td>\n    </tr>\n    <tr>\n      <th>118</th>\n      <td>0</td>\n      <td>0</td>\n      <td>0</td>\n      <td>1</td>\n      <td>0</td>\n      <td>0</td>\n      <td>0</td>\n      <td>0</td>\n    </tr>\n    <tr>\n      <th>192</th>\n      <td>1</td>\n      <td>1</td>\n      <td>1</td>\n      <td>0</td>\n      <td>1</td>\n      <td>0</td>\n      <td>5</td>\n      <td>1</td>\n    </tr>\n    <tr>\n      <th>199</th>\n      <td>1</td>\n      <td>1</td>\n      <td>1</td>\n      <td>0</td>\n      <td>1</td>\n      <td>1</td>\n      <td>5</td>\n      <td>1</td>\n    </tr>\n    <tr>\n      <th>331</th>\n      <td>0</td>\n      <td>0</td>\n      <td>0</td>\n      <td>1</td>\n      <td>0</td>\n      <td>0</td>\n      <td>0</td>\n      <td>0</td>\n    </tr>\n    <tr>\n      <th>359</th>\n      <td>1</td>\n      <td>1</td>\n      <td>1</td>\n      <td>0</td>\n      <td>1</td>\n      <td>1</td>\n      <td>5</td>\n      <td>1</td>\n    </tr>\n    <tr>\n      <th>392</th>\n      <td>1</td>\n      <td>1</td>\n      <td>1</td>\n      <td>0</td>\n      <td>1</td>\n      <td>0</td>\n      <td>5</td>\n      <td>1</td>\n    </tr>\n  </tbody>\n</table>\n</div>",
            "text/plain": "     MLPC  SVC  GBC  XGBC  RF  LR  temp  Survived\n21      1    1    1     0   1   0     5         1\n28      0    0    0     1   0   0     0         0\n75      0    0    0     1   0   1     0         0\n118     0    0    0     1   0   0     0         0\n192     1    1    1     0   1   0     5         1\n199     1    1    1     0   1   1     5         1\n331     0    0    0     1   0   0     0         0\n359     1    1    1     0   1   1     5         1\n392     1    1    1     0   1   0     5         1"
          },
          "execution_count": 38,
          "metadata": {},
          "output_type": "execute_result"
        }
      ]
    },
    {
      "metadata": {
        "trusted": false
      },
      "cell_type": "code",
      "source": "pred = model_prediction[\"Survived\"]\noutput = pd.concat([TestPassengerId, pred], axis = 1)\noutput[\"Survived\"] = output[\"Survived\"].astype('str')\nfn = os.path.join(path , 'predictions.csv')\noutput.to_csv(fn, index = False)",
      "execution_count": 39,
      "outputs": []
    }
  ],
  "metadata": {
    "kernelspec": {
      "name": "python3",
      "display_name": "Python 3",
      "language": "python"
    },
    "language_info": {
      "mimetype": "text/x-python",
      "nbconvert_exporter": "python",
      "name": "python",
      "file_extension": ".py",
      "version": "3.5.4",
      "pygments_lexer": "ipython3",
      "codemirror_mode": {
        "version": 3,
        "name": "ipython"
      }
    }
  },
  "nbformat": 4,
  "nbformat_minor": 2
}