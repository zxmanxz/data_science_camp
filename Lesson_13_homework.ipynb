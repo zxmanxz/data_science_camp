{
 "cells": [
  {
   "cell_type": "markdown",
   "metadata": {},
   "source": [
    "<font color = green >\n",
    "\n",
    "# Text Mining\n",
    "\n",
    "</font>"
   ]
  },
  {
   "cell_type": "markdown",
   "metadata": {},
   "source": [
    "<font color = green >\n",
    "\n",
    "## str methods  \n",
    "\n",
    "</font>"
   ]
  },
  {
   "cell_type": "code",
   "execution_count": 1,
   "metadata": {},
   "outputs": [
    {
     "name": "stdout",
     "output_type": "stream",
     "text": [
      "A computer program is said to learn from experience E \n",
      "with respect to some class of tasks T and performance measure P \n",
      "if its performance at tasks in T, as measured by P, \n",
      "improves with experience E. \n",
      "\t\t\t\t\t(Tom Mitchel)\n"
     ]
    }
   ],
   "source": [
    "text = 'A computer program is said to learn from experience E \\nwith respect to some class of tasks T'\\\n",
    "' and performance measure P \\nif its performance at tasks in T, as measured by P, \\nimproves with experience E. \\n\\t\\t\\t\\t\\t(Tom Mitchel)'\n",
    "print (text)"
   ]
  },
  {
   "cell_type": "code",
   "execution_count": 2,
   "metadata": {},
   "outputs": [
    {
     "data": {
      "text/plain": [
       "220"
      ]
     },
     "execution_count": 2,
     "metadata": {},
     "output_type": "execute_result"
    }
   ],
   "source": [
    "len(text)"
   ]
  },
  {
   "cell_type": "markdown",
   "metadata": {},
   "source": [
    "<font color = green >\n",
    "\n",
    "### Split\n",
    "\n",
    "</font>"
   ]
  },
  {
   "cell_type": "markdown",
   "metadata": {},
   "source": [
    "<font color = green >\n",
    "\n",
    "#### Split by char\n",
    "\n",
    "</font>"
   ]
  },
  {
   "cell_type": "code",
   "execution_count": 3,
   "metadata": {},
   "outputs": [
    {
     "name": "stdout",
     "output_type": "stream",
     "text": [
      "['A', 'computer', 'program', 'is', 'said', 'to', 'learn', 'from', 'experience', 'E', '\\nwith', 'respect', 'to', 'some', 'class', 'of', 'tasks', 'T', 'and', 'performance', 'measure', 'P', '\\nif', 'its', 'performance', 'at', 'tasks', 'in', 'T,', 'as', 'measured', 'by', 'P,', '\\nimproves', 'with', 'experience', 'E.', '\\n\\t\\t\\t\\t\\t(Tom', 'Mitchel)']\n"
     ]
    },
    {
     "data": {
      "text/plain": [
       "39"
      ]
     },
     "execution_count": 3,
     "metadata": {},
     "output_type": "execute_result"
    }
   ],
   "source": [
    "tokens= text.split(' ')\n",
    "print (tokens)\n",
    "len(tokens)"
   ]
  },
  {
   "cell_type": "markdown",
   "metadata": {},
   "source": [
    "<font color = green >\n",
    "\n",
    "#### Split by multi delimeters\n",
    "\n",
    "</font>"
   ]
  },
  {
   "cell_type": "code",
   "execution_count": 4,
   "metadata": {},
   "outputs": [],
   "source": [
    "import re"
   ]
  },
  {
   "cell_type": "code",
   "execution_count": 5,
   "metadata": {},
   "outputs": [
    {
     "name": "stdout",
     "output_type": "stream",
     "text": [
      "['A', 'computer', 'program', 'is', 'said', 'to', 'learn', 'from', 'experience', 'E', '\\nwith', 'respect', 'to', 'some', 'class', 'of', 'tasks', 'T', 'and', 'performance', 'measure', 'P', '\\nif', 'its', 'performance', 'at', 'tasks', 'in', 'T', '', 'as', 'measured', 'by', 'P', '', '\\nimproves', 'with', 'experience', 'E.', '\\n', '', '', '', '', '', 'Tom', 'Mitchel', '']\n"
     ]
    },
    {
     "data": {
      "text/plain": [
       "48"
      ]
     },
     "execution_count": 5,
     "metadata": {},
     "output_type": "execute_result"
    }
   ],
   "source": [
    "tokens = re.split(';| |,|\\(|\\|\\\\n|\\\\t|\\)',text)\n",
    "print (tokens)\n",
    "len(tokens)"
   ]
  },
  {
   "cell_type": "markdown",
   "metadata": {},
   "source": [
    "<font color = green >\n",
    "\n",
    "#### Split by newline char\n",
    "\n",
    "</font>"
   ]
  },
  {
   "cell_type": "code",
   "execution_count": 6,
   "metadata": {},
   "outputs": [
    {
     "name": "stdout",
     "output_type": "stream",
     "text": [
      "['A computer program is said to learn from experience E ', 'with respect to some class of tasks T and performance measure P ', 'if its performance at tasks in T, as measured by P, ', 'improves with experience E. ', '\\t\\t\\t\\t\\t(Tom Mitchel)']\n"
     ]
    }
   ],
   "source": [
    "print (text.splitlines())\n"
   ]
  },
  {
   "cell_type": "markdown",
   "metadata": {},
   "source": [
    "<font color = green >\n",
    "\n",
    "#### Split by any whitespace\n",
    "\n",
    "</font>"
   ]
  },
  {
   "cell_type": "code",
   "execution_count": 7,
   "metadata": {},
   "outputs": [
    {
     "name": "stdout",
     "output_type": "stream",
     "text": [
      "['A', 'computer', 'program', 'is', 'said', 'to', 'learn', 'from', 'experience', 'E', 'with', 'respect', 'to', 'some', 'class', 'of', 'tasks', 'T', 'and', 'performance', 'measure', 'P', 'if', 'its', 'performance', 'at', 'tasks', 'in', 'T,', 'as', 'measured', 'by', 'P,', 'improves', 'with', 'experience', 'E.', '(Tom', 'Mitchel)']\n"
     ]
    }
   ],
   "source": [
    "print (text.split())\n",
    "# if delimeter is not specified, any whitespace (space, newline etc.) is considered "
   ]
  },
  {
   "cell_type": "markdown",
   "metadata": {},
   "source": [
    "<font color = green >\n",
    "\n",
    "### Join\n",
    "\n",
    "</font>"
   ]
  },
  {
   "cell_type": "code",
   "execution_count": 8,
   "metadata": {},
   "outputs": [
    {
     "data": {
      "text/plain": [
       "'A__computer__program__is__said__to__learn__from__experience__E__\\nwith__respect__to__some__class__of__tasks__T__and__performance__measure__P__\\nif__its__performance__at__tasks__in__T____as__measured__by__P____\\nimproves__with__experience__E.__\\n____________Tom__Mitchel__'"
      ]
     },
     "execution_count": 8,
     "metadata": {},
     "output_type": "execute_result"
    }
   ],
   "source": [
    "'__'.join(tokens)\n"
   ]
  },
  {
   "cell_type": "markdown",
   "metadata": {},
   "source": [
    "<font color = green >\n",
    "\n",
    "#### Using join to exclude the file name\n",
    "\n",
    "</font>"
   ]
  },
  {
   "cell_type": "code",
   "execution_count": 9,
   "metadata": {},
   "outputs": [
    {
     "name": "stdout",
     "output_type": "stream",
     "text": [
      "http://localhost:8888/notebooks/science/studies/otsebriy/data_science_camp/lesson_13_text_mining.ipynb#Alphabet\n"
     ]
    },
    {
     "data": {
      "text/plain": [
       "'http://localhost:8888/notebooks/science/studies/otsebriy/data_science_camp'"
      ]
     },
     "execution_count": 9,
     "metadata": {},
     "output_type": "execute_result"
    }
   ],
   "source": [
    "url = 'http://localhost:8888/notebooks/science/studies/otsebriy/data_science_camp/lesson_13_text_mining.ipynb#Alphabet'\n",
    "print (url)\n",
    "'/'.join (url.split('/')[:-1])\n"
   ]
  },
  {
   "cell_type": "markdown",
   "metadata": {},
   "source": [
    "<font color = green >\n",
    "\n",
    "### Strip whitespace char \n",
    "\n",
    "</font>"
   ]
  },
  {
   "cell_type": "code",
   "execution_count": 10,
   "metadata": {},
   "outputs": [
    {
     "name": "stdout",
     "output_type": "stream",
     "text": [
      "['A', 'computer', 'program', 'is', 'said', 'to', 'learn', 'from', 'experience', 'E', '\\nwith', 'respect', 'to', 'some', 'class', 'of', 'tasks', 'T', 'and', 'performance', 'measure', 'P', '\\nif', 'its', 'performance', 'at', 'tasks', 'in', 'T,', 'as', 'measured', 'by', 'P,', '\\nimproves', 'with', 'experience', 'E.', '\\n\\t\\t\\t\\t\\t(Tom', 'Mitchel)']\n",
      "---------------------------------------------------------------------------------------------------- \n",
      " ['A', 'computer', 'program', 'is', 'said', 'to', 'learn', 'from', 'experience', 'E', 'with', 'respect', 'to', 'some', 'class', 'of', 'tasks', 'T', 'and', 'performance', 'measure', 'P', 'if', 'its', 'performance', 'at', 'tasks', 'in', 'T,', 'as', 'measured', 'by', 'P,', 'improves', 'with', 'experience', 'E.', '(Tom', 'Mitchel)']\n"
     ]
    }
   ],
   "source": [
    "print (text.split(' '))\n",
    "print ('-'*100, '\\n',[token.strip() for token in text.split()])"
   ]
  },
  {
   "cell_type": "markdown",
   "metadata": {},
   "source": [
    "<font color = green >\n",
    "\n",
    "### Filter tokens\n",
    "\n",
    "</font>"
   ]
  },
  {
   "cell_type": "markdown",
   "metadata": {},
   "source": [
    "<font color = green >\n",
    "\n",
    "#### Unique\n",
    "\n",
    "</font>"
   ]
  },
  {
   "cell_type": "code",
   "execution_count": 11,
   "metadata": {},
   "outputs": [
    {
     "name": "stdout",
     "output_type": "stream",
     "text": [
      "{'respect', '', 'Mitchel', 'its', 'is', 'with', 'A', 'E', 'from', 'measure', '\\nimproves', 'at', 'Tom', 'of', 'class', 'learn', '\\n', 'in', 'said', 'performance', 'and', 'experience', 'as', '\\nwith', 'program', 'to', 'T', 'some', 'P', 'by', 'computer', 'measured', '\\nif', 'tasks', 'E.'}\n"
     ]
    }
   ],
   "source": [
    "tokens_set = set (tokens)\n",
    "print (tokens_set)\n",
    "len(tokens_set)\n",
    "tokens_re = tokens"
   ]
  },
  {
   "cell_type": "markdown",
   "metadata": {},
   "source": [
    "<font color = green >\n",
    "\n",
    "#### Filetr by length\n",
    "\n",
    "</font>"
   ]
  },
  {
   "cell_type": "code",
   "execution_count": 12,
   "metadata": {},
   "outputs": [
    {
     "name": "stdout",
     "output_type": "stream",
     "text": [
      "['computer', 'program', 'said', 'learn', 'from', 'experience', '\\nwith', 'respect', 'some', 'class', 'tasks', 'and', 'performance', 'measure', '\\nif', 'its', 'performance', 'tasks', 'measured', '\\nimproves', 'with', 'experience', 'Tom', 'Mitchel']\n"
     ]
    }
   ],
   "source": [
    "print ([token for token in tokens if len(token) >2])"
   ]
  },
  {
   "cell_type": "markdown",
   "metadata": {},
   "source": [
    "<font color = green >\n",
    "\n",
    "#### Title\n",
    "\n",
    "</font>"
   ]
  },
  {
   "cell_type": "code",
   "execution_count": 13,
   "metadata": {},
   "outputs": [
    {
     "name": "stdout",
     "output_type": "stream",
     "text": [
      "['A', 'E', 'T', 'P', 'T', 'P', 'E.', 'Tom', 'Mitchel', 'Title']\n"
     ]
    }
   ],
   "source": [
    "print ([token for token in tokens_re+['ALLCAPITAL', 'Title'] if token.istitle()]) "
   ]
  },
  {
   "cell_type": "markdown",
   "metadata": {},
   "source": [
    "<font color = green >\n",
    "\n",
    "#### All Capital \n",
    "\n",
    "</font>"
   ]
  },
  {
   "cell_type": "code",
   "execution_count": 14,
   "metadata": {},
   "outputs": [
    {
     "name": "stdout",
     "output_type": "stream",
     "text": [
      "['A', 'E', 'T', 'P', 'T', 'P', 'E.', 'ALLCAPITAL']\n"
     ]
    }
   ],
   "source": [
    "print ([token for token in tokens_re+['ALLCAPITAL', 'Title'] if token.isupper()]) "
   ]
  },
  {
   "cell_type": "markdown",
   "metadata": {},
   "source": [
    "<font color = green >\n",
    "\n",
    "#### All lower case \n",
    "\n",
    "</font>"
   ]
  },
  {
   "cell_type": "code",
   "execution_count": 15,
   "metadata": {},
   "outputs": [
    {
     "name": "stdout",
     "output_type": "stream",
     "text": [
      "['computer', 'program', 'is', 'said', 'to', 'learn', 'from', 'experience', '\\nwith', 'respect', 'to', 'some', 'class', 'of', 'tasks', 'and', 'performance', 'measure', '\\nif', 'its', 'performance', 'at', 'tasks', 'in', 'as', 'measured', 'by', '\\nimproves', 'with', 'experience']\n"
     ]
    }
   ],
   "source": [
    "print ([token for token in tokens_re+['ALLCAPITAL', 'Title'] if token.islower()]) "
   ]
  },
  {
   "cell_type": "markdown",
   "metadata": {},
   "source": [
    "<font color = green >\n",
    "\n",
    "#### Alphabet only \n",
    "\n",
    "</font>"
   ]
  },
  {
   "cell_type": "code",
   "execution_count": 16,
   "metadata": {},
   "outputs": [
    {
     "name": "stdout",
     "output_type": "stream",
     "text": [
      "['A', 'computer', 'program', 'is', 'said', 'to', 'learn', 'from', 'experience', 'E', 'привіт', 'å', '学']\n"
     ]
    }
   ],
   "source": [
    "print ([token for token in tokens_re[:10] +['24x7', '7', 'x64', 'привіт', 'å','©', '∆', '学'] if token.isalpha()]) "
   ]
  },
  {
   "cell_type": "markdown",
   "metadata": {},
   "source": [
    "<font color = green >\n",
    "\n",
    "#### Digits only\n",
    "\n",
    "</font>"
   ]
  },
  {
   "cell_type": "code",
   "execution_count": 17,
   "metadata": {},
   "outputs": [
    {
     "name": "stdout",
     "output_type": "stream",
     "text": [
      "['7']\n"
     ]
    }
   ],
   "source": [
    "print ([token for token in tokens_re[:10] +['24x7', '7', 'x64', 'привіт', 'å','©', '∆', '学'] if token.isdigit()]) "
   ]
  },
  {
   "cell_type": "markdown",
   "metadata": {},
   "source": [
    "<font color = green >\n",
    "\n",
    "#### Digits or alphabet\n",
    "\n",
    "</font>"
   ]
  },
  {
   "cell_type": "code",
   "execution_count": 18,
   "metadata": {},
   "outputs": [
    {
     "name": "stdout",
     "output_type": "stream",
     "text": [
      "['A', 'computer', 'program', 'is', 'said', 'to', 'learn', 'from', 'experience', 'E', '24x7', '7', 'x64', 'привіт', 'å', '学']\n"
     ]
    }
   ],
   "source": [
    "print ([token for token in tokens_re[:10] +['24x7', '7', 'x64', 'привіт', 'å','©', '∆', '学'] if token.isalnum()]) "
   ]
  },
  {
   "cell_type": "markdown",
   "metadata": {},
   "source": [
    "<font color = green >\n",
    "\n",
    "#### Starts with \n",
    "\n",
    "</font>"
   ]
  },
  {
   "cell_type": "code",
   "execution_count": 19,
   "metadata": {},
   "outputs": [
    {
     "name": "stdout",
     "output_type": "stream",
     "text": [
      "['is', 'its', 'in']\n"
     ]
    }
   ],
   "source": [
    "print ([token for token in tokens_re+['ALLCAPITAL', 'Title'] if token.startswith('i')]) "
   ]
  },
  {
   "cell_type": "markdown",
   "metadata": {},
   "source": [
    "<font color = green >\n",
    "\n",
    "#### Ends with \n",
    "\n",
    "</font>"
   ]
  },
  {
   "cell_type": "code",
   "execution_count": 20,
   "metadata": {},
   "outputs": [
    {
     "name": "stdout",
     "output_type": "stream",
     "text": [
      "['experience', 'performance', 'performance', 'experience']\n"
     ]
    }
   ],
   "source": [
    "print ([token for token in tokens_re+['ALLCAPITAL', 'Title'] if token.endswith('ce')]) "
   ]
  },
  {
   "cell_type": "markdown",
   "metadata": {},
   "source": [
    "<font color = green >\n",
    "\n",
    "#### Contains\n",
    "\n",
    "</font>"
   ]
  },
  {
   "cell_type": "code",
   "execution_count": 21,
   "metadata": {},
   "outputs": [
    {
     "name": "stdout",
     "output_type": "stream",
     "text": [
      "['class', 'tasks', 'measure', 'tasks', 'as', 'measured']\n"
     ]
    }
   ],
   "source": [
    "print ([token for token in tokens_re+['ALLCAPITAL', 'Title'] if 'as' in token]) "
   ]
  },
  {
   "cell_type": "markdown",
   "metadata": {},
   "source": [
    "<font color = green >\n",
    "\n",
    "#### Contains only English letters\n",
    "\n",
    "</font>"
   ]
  },
  {
   "cell_type": "code",
   "execution_count": 22,
   "metadata": {},
   "outputs": [
    {
     "name": "stdout",
     "output_type": "stream",
     "text": [
      "['a', 'b', 'c', 'd', 'e', 'f', 'g', 'h', 'i', 'j', 'k', 'l', 'm', 'n', 'o', 'p', 'q', 'r', 's', 't', 'u', 'v', 'w', 'x', 'y', 'z']\n",
      "\n",
      " ['A', 'computer', 'program', 'is', 'said', 'to', 'learn', 'from', 'experience', 'E', 'respect', 'to', 'some', 'class', 'of', 'tasks', 'T', 'and', 'performance', 'measure', 'P', 'its', 'performance', 'at', 'tasks', 'in', 'T', '', 'as', 'measured', 'by', 'P', '', 'with', 'experience', '', '', '', '', '', 'Tom', 'Mitchel', '', 'ALLCAPITAL', 'Title']\n"
     ]
    }
   ],
   "source": [
    "from string import ascii_lowercase\n",
    "english_letters = [c for c in ascii_lowercase]\n",
    "print (english_letters)\n",
    "print ('\\n',[token for token in tokens_re+['ALLCAPITAL', 'Title' ]+\n",
    "             ['24x7', '7', 'x64', 'привіт', 'å','©', '∆', '学'] \n",
    "             if len([char for char in token if char.lower() not in english_letters])==0] ) \n"
   ]
  },
  {
   "cell_type": "markdown",
   "metadata": {},
   "source": [
    "<font color = green >\n",
    "\n",
    "#### To lower case\n",
    "\n",
    "</font>"
   ]
  },
  {
   "cell_type": "code",
   "execution_count": 23,
   "metadata": {},
   "outputs": [
    {
     "name": "stdout",
     "output_type": "stream",
     "text": [
      "['a', 'computer', 'program', 'is', 'said', 'to', 'learn', 'from', 'experience', 'e', '\\nwith', 'respect', 'to', 'some', 'class', 'of', 'tasks', 't', 'and', 'performance', 'measure', 'p', '\\nif', 'its', 'performance', 'at', 'tasks', 'in', 't', '', 'as', 'measured', 'by', 'p', '', '\\nimproves', 'with', 'experience', 'e.', '\\n', '', '', '', '', '', 'tom', 'mitchel', '', 'allcapital', 'title', '24x7', '7', 'x64', 'привіт', 'å', '©', '∆', '学']\n"
     ]
    }
   ],
   "source": [
    "print ([token.lower() for token in tokens_re+['ALLCAPITAL', 'Title' ]+\n",
    "             ['24x7', '7', 'x64', 'привіт', 'å','©', '∆', '学']]) "
   ]
  },
  {
   "cell_type": "markdown",
   "metadata": {},
   "source": [
    "<font color = green >\n",
    "\n",
    "#### To upper case\n",
    "\n",
    "</font>"
   ]
  },
  {
   "cell_type": "code",
   "execution_count": 24,
   "metadata": {},
   "outputs": [
    {
     "name": "stdout",
     "output_type": "stream",
     "text": [
      "['A', 'COMPUTER', 'PROGRAM', 'IS', 'SAID', 'TO', 'LEARN', 'FROM', 'EXPERIENCE', 'E', '\\nWITH', 'RESPECT', 'TO', 'SOME', 'CLASS', 'OF', 'TASKS', 'T', 'AND', 'PERFORMANCE', 'MEASURE', 'P', '\\nIF', 'ITS', 'PERFORMANCE', 'AT', 'TASKS', 'IN', 'T', '', 'AS', 'MEASURED', 'BY', 'P', '', '\\nIMPROVES', 'WITH', 'EXPERIENCE', 'E.', '\\n', '', '', '', '', '', 'TOM', 'MITCHEL', '', 'ALLCAPITAL', 'TITLE', '24X7', '7', 'X64', 'ПРИВІТ', 'Å', '©', '∆', '学']\n"
     ]
    }
   ],
   "source": [
    "print ([token.upper() for token in tokens_re+['ALLCAPITAL', 'Title' ]+\n",
    "             ['24x7', '7', 'x64', 'привіт', 'å','©', '∆', '学']]) "
   ]
  },
  {
   "cell_type": "markdown",
   "metadata": {},
   "source": [
    "<font color = green >\n",
    "\n",
    "#### Make title\n",
    "\n",
    "</font>"
   ]
  },
  {
   "cell_type": "code",
   "execution_count": 25,
   "metadata": {},
   "outputs": [
    {
     "name": "stdout",
     "output_type": "stream",
     "text": [
      "['A', 'Computer', 'Program', 'Is', 'Said', 'To', 'Learn', 'From', 'Experience', 'E', '\\nWith', 'Respect', 'To', 'Some', 'Class', 'Of', 'Tasks', 'T', 'And', 'Performance', 'Measure', 'P', '\\nIf', 'Its', 'Performance', 'At', 'Tasks', 'In', 'T', '', 'As', 'Measured', 'By', 'P', '', '\\nImproves', 'With', 'Experience', 'E.', '\\n', '', '', '', '', '', 'Tom', 'Mitchel', '', 'Allcapital', 'Title', '24X7', '7', 'X64', 'Привіт', 'Å', '©', '∆', '学']\n"
     ]
    }
   ],
   "source": [
    "print ([token.title() for token in tokens_re+['ALLCAPITAL', 'Title' ]+\n",
    "             ['24x7', '7', 'x64', 'привіт', 'å','©', '∆', '学']]) "
   ]
  },
  {
   "cell_type": "markdown",
   "metadata": {},
   "source": [
    "<font color = green >\n",
    "\n",
    "### Find\n",
    "\n",
    "</font>"
   ]
  },
  {
   "cell_type": "code",
   "execution_count": 26,
   "metadata": {},
   "outputs": [
    {
     "name": "stdout",
     "output_type": "stream",
     "text": [
      "A computer program is said to learn from experience E \n",
      "with respect to some class of tasks T and performance measure P \n",
      "if its performance at tasks in T, as measured by P, \n",
      "improves with experience E. \n",
      "\t\t\t\t\t(Tom Mitchel)\n",
      "-1\n",
      "91\n",
      "T and performance m\n"
     ]
    }
   ],
   "source": [
    "print (text)\n",
    "\n",
    "print (text.find('tom')) # -1\n",
    "print (text.find('T'))\n",
    "print (text[91:110])\n"
   ]
  },
  {
   "cell_type": "markdown",
   "metadata": {},
   "source": [
    "<font color = green >\n",
    "\n",
    "#### Find from end\n",
    "\n",
    "</font>"
   ]
  },
  {
   "cell_type": "code",
   "execution_count": 27,
   "metadata": {},
   "outputs": [
    {
     "name": "stdout",
     "output_type": "stream",
     "text": [
      "214\n",
      "tchel)\n"
     ]
    }
   ],
   "source": [
    "print (text.rfind('t'))\n",
    "print (text[214:])"
   ]
  },
  {
   "cell_type": "markdown",
   "metadata": {},
   "source": [
    "<font color = green >\n",
    "\n",
    "### Replace\n",
    "\n",
    "</font>"
   ]
  },
  {
   "cell_type": "code",
   "execution_count": 28,
   "metadata": {},
   "outputs": [
    {
     "data": {
      "text/plain": [
       "'agadg'"
      ]
     },
     "execution_count": 28,
     "metadata": {},
     "output_type": "execute_result"
    }
   ],
   "source": [
    "capital_burkina_faso = 'ouagadougou'\n",
    "capital_burkina_faso.replace ('ou', '')\n"
   ]
  },
  {
   "cell_type": "markdown",
   "metadata": {},
   "source": [
    "<font color = green >\n",
    "\n",
    "## Regular expressions (Regex)\n",
    "\n",
    "</font>\n",
    "\n",
    "Used to identify all occurrences of specified pattern in string(sequence of characters) with purpose to find, replace or delete certain string."
   ]
  },
  {
   "cell_type": "code",
   "execution_count": 29,
   "metadata": {},
   "outputs": [],
   "source": [
    "import re\n",
    "# import regex as re # this provided some extended functionality \n",
    "# e.g.\\p{l} that is modern code to match category \"letter\"."
   ]
  },
  {
   "cell_type": "markdown",
   "metadata": {},
   "source": [
    "Note: r\"smth\" - raw string literal are stored as they appear.\n",
    "<br>\n",
    "\\ is just a backslash when prefixed with a r whereas it is interpreted as an escape sequence w/o r.\n"
   ]
  },
  {
   "cell_type": "markdown",
   "metadata": {},
   "source": [
    "<font color = green >\n",
    "\n",
    "### re.search\n",
    "\n",
    "</font>\n",
    "Looks for the first location where regular expression pattern produces a match\n",
    "and return a corresponding MatchObject instance. Return None if no position in the string matches the pattern"
   ]
  },
  {
   "cell_type": "code",
   "execution_count": 30,
   "metadata": {},
   "outputs": [
    {
     "data": {
      "text/plain": [
       "<re.Match object; span=(8, 16), match='learning'>"
      ]
     },
     "execution_count": 30,
     "metadata": {},
     "output_type": "execute_result"
    }
   ],
   "source": [
    "target = r'Machine learning is an field of AI that provides computer systems the ability to automatically learn and improve from experience without being explicitly programmed'\n",
    "pattern = \"learn[\\w]*\"\n",
    "re.search(pattern, target)\n"
   ]
  },
  {
   "cell_type": "code",
   "execution_count": 31,
   "metadata": {},
   "outputs": [
    {
     "name": "stdout",
     "output_type": "stream",
     "text": [
      "None\n"
     ]
    }
   ],
   "source": [
    "pattern = \"larn\"\n",
    "print (re.search(pattern, target))\n"
   ]
  },
  {
   "cell_type": "markdown",
   "metadata": {},
   "source": [
    "<font color = green >\n",
    "\n",
    "### re.findall\n",
    "\n",
    "</font>\n",
    "Return all non-overlapping matches of pattern in string, as a list of strings."
   ]
  },
  {
   "cell_type": "code",
   "execution_count": 32,
   "metadata": {},
   "outputs": [
    {
     "data": {
      "text/plain": [
       "['learning', 'learn']"
      ]
     },
     "execution_count": 32,
     "metadata": {},
     "output_type": "execute_result"
    }
   ],
   "source": [
    "target = r'Machine learning is an field of AI that provides computer systems the ability to automatically learn and improve from experience without being explicitly programmed'\n",
    "pattern = \"learn[\\w]*\"\n",
    "re.findall(pattern, target)\n"
   ]
  },
  {
   "cell_type": "markdown",
   "metadata": {},
   "source": [
    "<font color = green >\n",
    "\n",
    "### Compile pattern\n",
    "\n",
    "</font>\n",
    "is more efficient when the expression will be used several times in a single program"
   ]
  },
  {
   "cell_type": "code",
   "execution_count": 33,
   "metadata": {},
   "outputs": [
    {
     "data": {
      "text/plain": [
       "['learning', 'learn']"
      ]
     },
     "execution_count": 33,
     "metadata": {},
     "output_type": "execute_result"
    }
   ],
   "source": [
    "pat = re.compile(pattern)\n",
    "pat.findall(target)\n",
    "# the same as re.findall(pattern, target)"
   ]
  },
  {
   "cell_type": "markdown",
   "metadata": {},
   "source": [
    "<font color = green >\n",
    "\n",
    "###  Special char \\w  (word char)\n",
    "\n",
    "</font>\n",
    "Matches any single letter, digit or underscore: \\w = A-Za-z0-9_"
   ]
  },
  {
   "cell_type": "code",
   "execution_count": 34,
   "metadata": {},
   "outputs": [
    {
     "name": "stdout",
     "output_type": "stream",
     "text": [
      "['test@google.com, test@crowdin.com']\n"
     ]
    }
   ],
   "source": [
    "target_list = ['test@google.com, test@crowdin.com', 'hello', 'test@@', 'test@']\n",
    "pat= '@[\\w]+' \n",
    "print ([w for w in target_list if re.search(pat,w)])"
   ]
  },
  {
   "cell_type": "markdown",
   "metadata": {},
   "source": [
    "<font color = green >\n",
    "\n",
    "### Special char .  (period/wild char)\n",
    "\n",
    "</font>\n",
    ". Matches any single character except newline character.\n",
    "<br>Note: if it is in square brackets it has its exact meaning as dot "
   ]
  },
  {
   "cell_type": "code",
   "execution_count": 35,
   "metadata": {},
   "outputs": [
    {
     "name": "stdout",
     "output_type": "stream",
     "text": [
      "['abi', 'ati']\n",
      "<re.Match object; span=(0, 15), match='test@google.com'>\n",
      "None\n",
      "<re.Match object; span=(0, 15), match='test@google.com'>\n"
     ]
    }
   ],
   "source": [
    "target = r'Machine learning is an field of AI that provides computer systems the ability to automatically learn and improve from experience without being explicitly programmed'\n",
    "pat = \"a.i\"\n",
    "print (re.findall(pat, target)) # used as wild char \n",
    "\n",
    "print (re.search ('t.*m', 'test@google.com')) # used as wild char  \n",
    "print (re.search ('t[.]*m', 'test@google.com')) # used as dot \n",
    "print (re.search ('t[@\\w.]*m', 'test@google.com')) # used as dot \n"
   ]
  },
  {
   "cell_type": "markdown",
   "metadata": {},
   "source": [
    "<font color = green >\n",
    "\n",
    "### Special char ^\n",
    "\n",
    "\n",
    "</font>\n",
    "start of string if patterns begins with, but if in the square brackets it exludes the set of chars in brackets (see below)."
   ]
  },
  {
   "cell_type": "code",
   "execution_count": 36,
   "metadata": {},
   "outputs": [
    {
     "name": "stdout",
     "output_type": "stream",
     "text": [
      "['Machine', 'learning', 'is', 'an', 'field', 'of', 'AI', 'that', 'provides', 'computer', 'systems', 'the', 'ability', 'to', 'automatically', 'learn', 'and', 'improve', 'from', 'experience', 'without', 'being', 'explicitly', 'programmed'] \n",
      "\n",
      "['is', 'improve']\n"
     ]
    }
   ],
   "source": [
    "tl = target.split()\n",
    "print (tl, '\\n')\n",
    "print ([w for w in tl if re.search('^i', w)])"
   ]
  },
  {
   "cell_type": "markdown",
   "metadata": {},
   "source": [
    "<font color = green >\n",
    "\n",
    "### Special char $\n",
    "\n",
    "</font>\n",
    "end of string "
   ]
  },
  {
   "cell_type": "code",
   "execution_count": 37,
   "metadata": {},
   "outputs": [
    {
     "name": "stdout",
     "output_type": "stream",
     "text": [
      "['Machine', 'learning', 'is', 'an', 'field', 'of', 'AI', 'that', 'provides', 'computer', 'systems', 'the', 'ability', 'to', 'automatically', 'learn', 'and', 'improve', 'from', 'experience', 'without', 'being', 'explicitly', 'programmed'] \n",
      "\n",
      "['ability', 'automatically', 'explicitly']\n"
     ]
    }
   ],
   "source": [
    "print (tl, '\\n')\n",
    "print ([w for w in tl if re.search('y$', w)])"
   ]
  },
  {
   "cell_type": "markdown",
   "metadata": {},
   "source": [
    "<font color = green >\n",
    "\n",
    "### Square brackets [ ]\n",
    "\n",
    "</font>\n",
    "Matches one of set of chars "
   ]
  },
  {
   "cell_type": "code",
   "execution_count": 38,
   "metadata": {},
   "outputs": [
    {
     "name": "stdout",
     "output_type": "stream",
     "text": [
      "['Machine', 'learning', 'is', 'an', 'field', 'of', 'AI', 'that', 'provides', 'computer', 'systems', 'the', 'ability', 'to', 'automatically', 'learn', 'and', 'improve', 'from', 'experience', 'without', 'being', 'explicitly', 'programmed'] \n",
      "\n",
      "['experience', 'explicitly']\n"
     ]
    }
   ],
   "source": [
    "print (tl, '\\n')\n",
    "pat = 'exp[el]'\n",
    "print ([w for w in tl if re.search(pat, w)])"
   ]
  },
  {
   "cell_type": "markdown",
   "metadata": {},
   "source": [
    "<font color = green >\n",
    "\n",
    "### Special char - \n",
    "\n",
    "</font>\n",
    "Range if in square brackets"
   ]
  },
  {
   "cell_type": "code",
   "execution_count": 39,
   "metadata": {},
   "outputs": [
    {
     "data": {
      "text/plain": [
       "<re.Match object; span=(5, 6), match='-'>"
      ]
     },
     "execution_count": 39,
     "metadata": {},
     "output_type": "execute_result"
    }
   ],
   "source": [
    "# direct meaning \n",
    "target = 'Ivano-Frankivsk'\n",
    "re.search('-', target)\n"
   ]
  },
  {
   "cell_type": "code",
   "execution_count": 40,
   "metadata": {},
   "outputs": [
    {
     "data": {
      "text/plain": [
       "<re.Match object; span=(7, 8), match='r'>"
      ]
     },
     "execution_count": 40,
     "metadata": {},
     "output_type": "execute_result"
    }
   ],
   "source": [
    "# range meaning \n",
    "target = 'Ivano-Frankivsk'\n",
    "re.search('[p-u]', target)"
   ]
  },
  {
   "cell_type": "markdown",
   "metadata": {},
   "source": [
    "<font color = green >\n",
    "\n",
    "### Special char ^ in square breckets\n",
    "\n",
    "\n",
    "</font>\n",
    "Exludes the set of chars in brackets "
   ]
  },
  {
   "cell_type": "code",
   "execution_count": 41,
   "metadata": {},
   "outputs": [
    {
     "name": "stdout",
     "output_type": "stream",
     "text": [
      "['Machine', 'learning', 'is', 'an', 'field', 'of', 'AI', 'that', 'provides', 'computer', 'systems', 'the', 'ability', 'to', 'automatically', 'learn', 'and', 'improve', 'from', 'experience', 'without', 'being', 'explicitly', 'programmed'] \n",
      "\n",
      "['learning', 'and', 'being']\n"
     ]
    }
   ],
   "source": [
    "print (tl, '\\n')\n",
    "print ([w for w in tl if re.search('n[^e]$', w)]) # 'n' is on -2 index folloed by any char but 'e' as last char"
   ]
  },
  {
   "cell_type": "markdown",
   "metadata": {},
   "source": [
    "<font color = green >\n",
    "\n",
    "### Special char | \n",
    "\n",
    "\n",
    "</font>\n",
    "Matches to a or b, where both are str"
   ]
  },
  {
   "cell_type": "code",
   "execution_count": 42,
   "metadata": {},
   "outputs": [
    {
     "name": "stdout",
     "output_type": "stream",
     "text": [
      "[\"Monday: The doctor's appointment is at 2:45pm.\", 'Wednesday: At 7:00pm, there is a basketball game!']\n"
     ]
    }
   ],
   "source": [
    "text_list = [\"Monday: The doctor's appointment is at 2:45pm.\",\n",
    "                  \"Tuesday: The dentist's appointment is at 11:30 am.\",\n",
    "                  \"Wednesday: At 7:00pm, there is a basketball game!\",\n",
    "                  \"Thursday: Be back home by 11:15 pm at the latest.\",\n",
    "                  \"Friday: Take the train at 08:10 am, arrive at 09:00am.\"]\n",
    "pat = 'Mon|Wed'\n",
    "print ([s for s in text_list if re.search(pat, s)]) "
   ]
  },
  {
   "cell_type": "markdown",
   "metadata": {},
   "source": [
    "<font color = green >\n",
    "\n",
    "### Scoping for oeprators  ( ) \n",
    "\n",
    "</font>\n",
    "\n"
   ]
  },
  {
   "cell_type": "code",
   "execution_count": 43,
   "metadata": {},
   "outputs": [
    {
     "name": "stdout",
     "output_type": "stream",
     "text": [
      "['Machine learning']\n",
      "['learnin']\n"
     ]
    }
   ],
   "source": [
    "text = 'Machine learning is fascinating'\n",
    "pat = '.*l\\w*g' # pulls out the whole mathced string \n",
    "print (re.findall(pat, text))\n",
    "pat = '.*(l\\w*)g' # pulls out only specified scope of mathced string \n",
    "print (re.findall(pat, text))"
   ]
  },
  {
   "cell_type": "markdown",
   "metadata": {},
   "source": [
    "<font color = green >\n",
    "\n",
    "### Regular parentheses \n",
    "\n",
    "</font>\n",
    "\n",
    "`(?:...)`\n"
   ]
  },
  {
   "cell_type": "markdown",
   "metadata": {},
   "source": [
    "<font color = green >\n",
    "\n",
    "### Escape char \\ \n",
    "\n",
    "</font>\n",
    "\n"
   ]
  },
  {
   "cell_type": "code",
   "execution_count": 44,
   "metadata": {},
   "outputs": [
    {
     "name": "stdout",
     "output_type": "stream",
     "text": [
      "Machine learning is fascinating\b\n",
      "['g', 'g']\n"
     ]
    }
   ],
   "source": [
    "text = 'Machine learning is fascinating\\b'\n",
    "print (text)\n",
    "pat = 'g\\\\b' # \\b is special regex char  (boundary) see below. Note: here you may use  pat = r'g\\b', though \n",
    "print (re.findall(pat, text))"
   ]
  },
  {
   "cell_type": "markdown",
   "metadata": {},
   "source": [
    "<font color = green >\n",
    "\n",
    "### Word boundary  \\b\n",
    "\n",
    "</font>\n",
    "\n"
   ]
  },
  {
   "cell_type": "code",
   "execution_count": 45,
   "metadata": {},
   "outputs": [
    {
     "name": "stdout",
     "output_type": "stream",
     "text": [
      "A computer program is said to learn from experience E \n",
      "with respect to some class of tasks T and performance measure P \n",
      "if its performance at tasks in T, as measured by P, \n",
      "improves with experience E. \n",
      "\t\t\t\t\t(Tom Mitchel)\n",
      "['comput', 't', 'wit', 'respect', 't', 't', 'it', 'at', 't', 'wit', 'Mit']\n",
      "['respect', 'at']\n",
      "['computer', 'class']\n"
     ]
    }
   ],
   "source": [
    "text = 'A computer program is said to learn from experience E \\nwith respect to some class of tasks T'\\\n",
    "' and performance measure P \\nif its performance at tasks in T, as measured by P, \\nimproves with experience E. \\n\\t\\t\\t\\t\\t(Tom Mitchel)'\n",
    "print (text)\n",
    "pat = r'\\w*t' # this finds all strings that contain t and returns from beginning to t \n",
    "print (re.findall(pat, text))\n",
    "pat = r'\\w*t\\b' # this finds all strings  that ends with t \n",
    "print (re.findall(pat, text))\n",
    "pat = r'\\bc\\w*' # this finds all strings that starts with c \n",
    "print (re.findall(pat, text))\n",
    "\n"
   ]
  },
  {
   "cell_type": "code",
   "execution_count": 46,
   "metadata": {},
   "outputs": [
    {
     "name": "stdout",
     "output_type": "stream",
     "text": [
      "catmania thiscat thiscatmaina \n",
      "looking for \"cat\"\n",
      "\n",
      "Case 1: At the beginning of each word\n",
      "***mania thiscat thiscatmaina\n",
      "\n",
      "Case 2: At the end of each word\n",
      "catmania this*** thiscatmaina\n",
      "\n",
      "Case 3: Not in the beginning\n",
      "catmania this*** this***maina\n",
      "\n",
      "Case 4: Not in the end\n",
      "***mania thiscat this***maina\n",
      "\n",
      "Case 5: Neither beginning nor end\n",
      "catmania thiscat this***maina\n",
      "\n",
      "Case 6: At the beginning or at the end of each word\n",
      "***mania this*** thiscatmaina\n"
     ]
    }
   ],
   "source": [
    "# More about boundaries \n",
    "text = \"catmania thiscat thiscatmaina\";\n",
    "print (text, '\\nlooking for \"cat\"')\n",
    "\n",
    "# '\\b' finds/matches the pattern at the beginning or end of each word.\n",
    "# '\\B' does not find/match the pattern at the beginning or end of each word.\n",
    "\n",
    "\n",
    "print ('\\nCase 1: At the beginning of each word')\n",
    "print (re.sub(r'\\bcat', \"***\", text))\n",
    "\n",
    "\n",
    "print ('\\nCase 2: At the end of each word')\n",
    "print (re.sub(r'cat\\b', \"***\", text))\n",
    "\n",
    "print ('\\nCase 3: Not in the beginning')\n",
    "print (re.sub(r'\\Bcat', \"***\", text))\n",
    "\n",
    "      \n",
    "print ('\\nCase 4: Not in the end')\n",
    "print (re.sub(r'cat\\B', \"***\", text))\n",
    "\n",
    "print ('\\nCase 5: Neither beginning nor end')\n",
    "print (re.sub(r'\\Bcat\\B', \"***\", text))\n",
    "\n",
    "print ('\\nCase 6: At the beginning or at the end of each word')\n",
    "print (re.sub(r'\\bcat|cat\\b', \"***\", text))\n"
   ]
  },
  {
   "cell_type": "markdown",
   "metadata": {},
   "source": [
    "<font color = green >\n",
    "\n",
    "### Digit  \\d\n",
    "\n",
    "</font>\n",
    "\n",
    "equivalent to `[0-9]`"
   ]
  },
  {
   "cell_type": "code",
   "execution_count": 47,
   "metadata": {},
   "outputs": [
    {
     "data": {
      "text/plain": [
       "['5', '2', '5', '3', '5']"
      ]
     },
     "execution_count": 47,
     "metadata": {},
     "output_type": "execute_result"
    }
   ],
   "source": [
    "text = 'BMW 525, Hyundai i35, Mercedes S-class'\n",
    "re.findall('\\d', text)"
   ]
  },
  {
   "cell_type": "markdown",
   "metadata": {},
   "source": [
    "<font color = green >\n",
    "\n",
    "### Non-digit  \\D\n",
    "</font>\n",
    "\n",
    "equivalent to `[^0-9]`"
   ]
  },
  {
   "cell_type": "code",
   "execution_count": 48,
   "metadata": {},
   "outputs": [
    {
     "name": "stdout",
     "output_type": "stream",
     "text": [
      "['B', 'M', 'W', ' ', ',', ' ', 'H', 'y', 'u', 'n', 'd', 'a', 'i', ' ', 'i', ',', ' ', 'M', 'e', 'r', 'c', 'e', 'd', 'e', 's', ' ', 'S', '-', 'c', 'l', 'a', 's', 's']\n"
     ]
    }
   ],
   "source": [
    "text = 'BMW 525, Hyundai i35, Mercedes S-class'\n",
    "print (re.findall('\\D', text))"
   ]
  },
  {
   "cell_type": "markdown",
   "metadata": {},
   "source": [
    "<font color = green >\n",
    "\n",
    "### Whitespace \\s\n",
    "\n",
    "</font>\n",
    "\n",
    "equivalent to `[ \\t\\n\\r\\f\\v]`"
   ]
  },
  {
   "cell_type": "code",
   "execution_count": 49,
   "metadata": {},
   "outputs": [
    {
     "name": "stdout",
     "output_type": "stream",
     "text": [
      "BMW 525, \n",
      "Hyundai i35,\tMercedes S-class\n",
      "[' ', ' ', '\\n', ' ', '\\t', ' ']\n"
     ]
    }
   ],
   "source": [
    "text = 'BMW 525, \\nHyundai i35,\\tMercedes S-class'\n",
    "print (text)\n",
    "print (re.findall('\\s', text))"
   ]
  },
  {
   "cell_type": "markdown",
   "metadata": {},
   "source": [
    "<font color = green >\n",
    "\n",
    "### Non-whitespace \\S\n",
    "\n",
    "</font>\n",
    "equivalent to [ \\t\\n\\r\\f\\v]"
   ]
  },
  {
   "cell_type": "code",
   "execution_count": 50,
   "metadata": {},
   "outputs": [
    {
     "name": "stdout",
     "output_type": "stream",
     "text": [
      "BMW 525, \n",
      "Hyundai i35,\tMercedes S-class\n",
      "['B', 'M', 'W', '5', '2', '5', ',', 'H', 'y', 'u', 'n', 'd', 'a', 'i', 'i', '3', '5', ',', 'M', 'e', 'r', 'c', 'e', 'd', 'e', 's', 'S', '-', 'c', 'l', 'a', 's', 's']\n"
     ]
    }
   ],
   "source": [
    "text_list = ['BMW 525',\n",
    "             '\\nHyundai i35',\n",
    "             '\\tMercedes S-class'\n",
    "            ]\n",
    "\n",
    "print (text)\n",
    "print (re.findall('\\S', text))"
   ]
  },
  {
   "cell_type": "markdown",
   "metadata": {},
   "source": [
    "<font color = green >\n",
    "\n",
    "### Repetitions\n",
    "\n",
    "</font>\n",
    "\n"
   ]
  },
  {
   "cell_type": "markdown",
   "metadata": {},
   "source": [
    "<font color = green >\n",
    "\n",
    "#### Repetition zero or more occurrences \n",
    "\n",
    "</font>\n",
    "\n",
    "meta char `*`"
   ]
  },
  {
   "cell_type": "code",
   "execution_count": 51,
   "metadata": {},
   "outputs": [
    {
     "name": "stdout",
     "output_type": "stream",
     "text": [
      "['\\n hundai i35', 'maybach', 'porsche']\n"
     ]
    }
   ],
   "source": [
    "text_list = ['bmw 525', '\\n hundai i35','\\tmercedes S-class', 'maybach', 'porsche']\n",
    "pat = 'h[\\w]*'\n",
    "print ([s for s in text_list if re.search(pat, s)]) "
   ]
  },
  {
   "cell_type": "markdown",
   "metadata": {},
   "source": [
    "<font color = green >\n",
    "\n",
    "#### Repetion one or more occurrences \n",
    "\n",
    "</font>\n",
    "\n",
    "meta char `+`"
   ]
  },
  {
   "cell_type": "code",
   "execution_count": 52,
   "metadata": {},
   "outputs": [
    {
     "name": "stdout",
     "output_type": "stream",
     "text": [
      "['\\n hundai i35', 'porsche']\n"
     ]
    }
   ],
   "source": [
    "text_list = ['bmw 525', '\\n hundai i35','\\tmercedes S-class', 'maybach', 'porsche']\n",
    "pat = 'h[\\w]+'\n",
    "print ([s for s in text_list if re.search(pat, s)]) "
   ]
  },
  {
   "cell_type": "markdown",
   "metadata": {},
   "source": [
    "<font color = green >\n",
    "\n",
    "#### Repetition zero or one occurrence \n",
    "\n",
    "</font>\n",
    "\n",
    "meta char `?`"
   ]
  },
  {
   "cell_type": "code",
   "execution_count": 53,
   "metadata": {},
   "outputs": [
    {
     "name": "stdout",
     "output_type": "stream",
     "text": [
      "['hundai i35', 'maybach', 'porsche']\n"
     ]
    }
   ],
   "source": [
    "text_list = ['bmw 525', 'hundai i35', 'mercedes S-class', 'maybach', 'porsche']\n",
    "pat = 'h[\\w]?'\n",
    "print ([s for s in text_list if re.search(pat, s)]) \n"
   ]
  },
  {
   "cell_type": "markdown",
   "metadata": {},
   "source": [
    "Pattern `h[\\w]?` does return matched object for `hundai i35` \n",
    "<br>Thus, need to add `$` at the end to avoid partial text match"
   ]
  },
  {
   "cell_type": "code",
   "execution_count": 54,
   "metadata": {},
   "outputs": [
    {
     "name": "stdout",
     "output_type": "stream",
     "text": [
      "['maybach', 'porsche']\n"
     ]
    }
   ],
   "source": [
    "text_list = ['bmw 525', 'hundai i35', 'mercedes S-class', 'maybach', 'porsche']\n",
    "pat = 'h[\\w]?$'\n",
    "print ([s for s in text_list if re.search(pat, s)]) "
   ]
  },
  {
   "cell_type": "markdown",
   "metadata": {},
   "source": [
    "<font color = green >\n",
    "\n",
    "#### Repetition  exactly n times  (n>= 0)\n",
    "\n",
    "</font>\n",
    "\n",
    "`{n}`"
   ]
  },
  {
   "cell_type": "code",
   "execution_count": 55,
   "metadata": {},
   "outputs": [
    {
     "name": "stdout",
     "output_type": "stream",
     "text": [
      "['bmw 525', 'mercedes S-class', 'maybach']\n",
      "['bmw 525']\n",
      "['maybach']\n"
     ]
    }
   ],
   "source": [
    "text_list = ['bmw 525', 'hundai i35', 'mercedes S-class', 'maybach', 'porsche']\n",
    "print ([s for s in text_list if re.search('m[\\w -]+$', s)]) # at least once\n",
    "print ([s for s in text_list if re.search('m[\\w -]{5}$', s)]) # exacltly 5 occurrences \n",
    "print ([s for s in text_list if re.search('m[\\w -]{6}$', s)]) # exacltly 6 occurrences \n"
   ]
  },
  {
   "cell_type": "markdown",
   "metadata": {},
   "source": [
    "<font color = green >\n",
    "\n",
    "#### Repetition at least n times  (n>= 0)\n",
    "\n",
    "</font>\n",
    "\n",
    "`{n,}`"
   ]
  },
  {
   "cell_type": "code",
   "execution_count": 56,
   "metadata": {},
   "outputs": [
    {
     "name": "stdout",
     "output_type": "stream",
     "text": [
      "['mercedes S-class', 'maybach']\n"
     ]
    }
   ],
   "source": [
    "text_list = ['bmw 525', 'hundai i35', 'mercedes S-class', 'maybach', 'porsche']\n",
    "print ([s for s in text_list if re.search('m[\\w -]{6,}$', s)]) # at least 6 occurrences "
   ]
  },
  {
   "cell_type": "markdown",
   "metadata": {},
   "source": [
    "<font color = green >\n",
    "\n",
    "#### Repetition from n to m times  (n, m>= 0)\n",
    "\n",
    "</font>\n",
    "\n",
    "`{n,m}`\n",
    "<br>Note: m occurences is included"
   ]
  },
  {
   "cell_type": "code",
   "execution_count": 57,
   "metadata": {},
   "outputs": [
    {
     "name": "stdout",
     "output_type": "stream",
     "text": [
      "['bmw 525']\n"
     ]
    }
   ],
   "source": [
    "text_list = ['bmw 525', 'hundai i35', 'mercedes S-class', 'maybach', 'porsche']\n",
    "print ([s for s in text_list if re.search('m[\\w -]{4,5}$', s)]) # from 4 to 5 occurrences  "
   ]
  },
  {
   "cell_type": "markdown",
   "metadata": {},
   "source": [
    "<font color = green >\n",
    "\n",
    "#### Repetition at most m times  (m>= 0)  (including)\n",
    "\n",
    "</font>\n",
    "\n",
    "`{,m}`\n",
    "\n",
    "\n"
   ]
  },
  {
   "cell_type": "code",
   "execution_count": 58,
   "metadata": {},
   "outputs": [
    {
     "name": "stdout",
     "output_type": "stream",
     "text": [
      "['bmw 525', 'maybach']\n"
     ]
    }
   ],
   "source": [
    "text_list = ['bmw 525', 'hundai i35', 'mercedes S-class', 'maybach', 'porsche']\n",
    "print ([s for s in text_list if re.search('m[\\w -]{,6}$', s)]) # not more than 6 occurrences  "
   ]
  },
  {
   "cell_type": "markdown",
   "metadata": {},
   "source": [
    "<font color = green >\n",
    "\n",
    "### re.match\n",
    "\n",
    "</font>\n",
    "\n",
    "If zero or more characters at the beginning of string match the regular expression pattern, return a corresponding MatchObject instance. Return None if the string does not match the pattern.\n",
    "\n",
    "Note: `re.match()` checks for a match only at the beginning of the string, while `re.search()` checks for a match anywhere in the string."
   ]
  },
  {
   "cell_type": "code",
   "execution_count": 59,
   "metadata": {},
   "outputs": [
    {
     "name": "stdout",
     "output_type": "stream",
     "text": [
      "<re.Match object; span=(0, 7), match='Machine'>\n",
      "None\n"
     ]
    }
   ],
   "source": [
    "target = r'Machine learning'\n",
    "print (re.match('Machine', target)) # this does match some chars at the beginning \n",
    "print (re.match('Machine$', target)) # this does not match some chars at the beginning \n"
   ]
  },
  {
   "cell_type": "markdown",
   "metadata": {},
   "source": [
    "<font color = green >\n",
    "\n",
    "### Replace using re \n",
    "\n",
    "</font>\n",
    "\n",
    "`re.sub()`"
   ]
  },
  {
   "cell_type": "code",
   "execution_count": 60,
   "metadata": {},
   "outputs": [
    {
     "data": {
      "text/plain": [
       "'***xample ***tring'"
      ]
     },
     "execution_count": 60,
     "metadata": {},
     "output_type": "execute_result"
    }
   ],
   "source": [
    "text = \"Example String\"\n",
    "pat = '[ES]'\n",
    "re.sub(pat, '***', text)"
   ]
  },
  {
   "cell_type": "markdown",
   "metadata": {},
   "source": [
    "<font color = green >\n",
    "\n",
    "### Sample: Using regex for dates  \n",
    "\n",
    "</font>\n"
   ]
  },
  {
   "cell_type": "code",
   "execution_count": 61,
   "metadata": {},
   "outputs": [
    {
     "name": "stdout",
     "output_type": "stream",
     "text": [
      "23-10-2002\n",
      "23/10/2002\n",
      "23/10/02\n",
      "1/23/2002\n",
      "23 Oct 2002\n",
      "23 October 2002\n",
      "23 May 2002\n",
      "Oct 23, 2002\n",
      "October 23, 2002\n",
      "15-09-78\n",
      "15-09-some_year\n",
      "some_year-15-09\n",
      "15.09.78\n"
     ]
    }
   ],
   "source": [
    "dates_str= '23-10-2002\\n23/10/2002\\n23/10/02\\n1/23/2002\\n23 Oct 2002\\n23 October 2002\\n23 May 2002\\nOct 23, 2002' \\\n",
    "               '\\nOctober 23, 2002\\n15-09-78\\n15-09-some_year\\nsome_year-15-09\\n15.09.78'\n",
    "print (dates_str)\n"
   ]
  },
  {
   "cell_type": "markdown",
   "metadata": {},
   "source": [
    "Let's start with simple pattern"
   ]
  },
  {
   "cell_type": "code",
   "execution_count": 62,
   "metadata": {},
   "outputs": [
    {
     "name": "stdout",
     "output_type": "stream",
     "text": [
      "['23-10-2002', '23/10/2002']\n"
     ]
    }
   ],
   "source": [
    "pat = '\\d{2}[-/]\\d{2}[-/]\\d{4}'\n",
    "print (re.findall(pat,dates_str))"
   ]
  },
  {
   "cell_type": "markdown",
   "metadata": {},
   "source": [
    "Consider cases of 1-digit for day and and 2-digits for year  "
   ]
  },
  {
   "cell_type": "code",
   "execution_count": 63,
   "metadata": {},
   "outputs": [
    {
     "name": "stdout",
     "output_type": "stream",
     "text": [
      "['23-10-2002', '23/10/2002', '23/10/02', '1/23/2002', '15-09-78']\n"
     ]
    }
   ],
   "source": [
    "pat = '\\d{1,2}[-/]\\d{2}[-/]\\d{2,4}'\n",
    "print (re.findall(pat,dates_str))"
   ]
  },
  {
   "cell_type": "markdown",
   "metadata": {},
   "source": [
    "Observe cases of `.` separator "
   ]
  },
  {
   "cell_type": "code",
   "execution_count": 64,
   "metadata": {},
   "outputs": [
    {
     "name": "stdout",
     "output_type": "stream",
     "text": [
      "['23-10-2002', '23/10/2002', '23/10/02', '1/23/2002', '15-09-78', '15.09.78']\n"
     ]
    }
   ],
   "source": [
    "pat = '\\d{1,2}[-/.]\\d{2}[-/.]\\d{2,4}'\n",
    "print (re.findall(pat,dates_str))"
   ]
  },
  {
   "cell_type": "markdown",
   "metadata": {},
   "source": [
    "Let's consider named months "
   ]
  },
  {
   "cell_type": "code",
   "execution_count": 65,
   "metadata": {},
   "outputs": [
    {
     "name": "stdout",
     "output_type": "stream",
     "text": [
      "['Oct', 'May']\n"
     ]
    }
   ],
   "source": [
    "pat = '\\d{1,2} (Jan|Feb|Mar|Apr|May|Jun|Jul|Aug|Sep|Oct|Nov|Dec) \\d{2,4}'\n",
    "print (re.findall(pat,dates_str))"
   ]
  },
  {
   "cell_type": "markdown",
   "metadata": {},
   "source": [
    "Note: ( ) has meaning of selecting the specified scope - i.e. it matches the whole pattern but returns the only scope in brackets \n",
    "\n",
    "Here you may use (<font color= red size=4 >?:</font>Jan|Feb|Mar|Apr|May|Jun|Jul|Aug|Sep|Oct|Nov|Dec) to get whole matched string. "
   ]
  },
  {
   "cell_type": "code",
   "execution_count": 66,
   "metadata": {},
   "outputs": [
    {
     "name": "stdout",
     "output_type": "stream",
     "text": [
      "['23 Oct 2002', '23 May 2002']\n"
     ]
    }
   ],
   "source": [
    "pat = '\\d{1,2}[-/ ](?:Jan|Feb|Mar|Apr|May|Jun|Jul|Aug|Sep|Oct|Nov|Dec) \\d{2,4}'\n",
    "print (re.findall(pat,dates_str))"
   ]
  },
  {
   "cell_type": "markdown",
   "metadata": {},
   "source": [
    "Consider case of full name like October by allowsing any number of letters to be after shorten name of month"
   ]
  },
  {
   "cell_type": "code",
   "execution_count": 67,
   "metadata": {},
   "outputs": [
    {
     "name": "stdout",
     "output_type": "stream",
     "text": [
      "['23 Oct 2002', '23 October 2002', '23 May 2002']\n"
     ]
    }
   ],
   "source": [
    "pat = '\\d{1,2} (?:Jan|Feb|Mar|Apr|May|Jun|Jul|Aug|Sep|Oct|Nov|Dec)[a-z]* \\d{2,4}'\n",
    "print (re.findall(pat,dates_str))"
   ]
  },
  {
   "cell_type": "markdown",
   "metadata": {},
   "source": [
    "Consider case of month at the beginning - this means the first 2 digits may be optional but they go after month name "
   ]
  },
  {
   "cell_type": "code",
   "execution_count": 68,
   "metadata": {},
   "outputs": [
    {
     "name": "stdout",
     "output_type": "stream",
     "text": [
      "['23 Oct 2002', '23 October 2002', '23 May 2002', 'Oct 23', 'October 23']\n"
     ]
    }
   ],
   "source": [
    "pat = '(?:\\d{1,2} )?(?:Jan|Feb|Mar|Apr|May|Jun|Jul|Aug|Sep|Oct|Nov|Dec)[a-z]*(?:\\d{1,2} )? \\d{2,4}'\n",
    "print (re.findall(pat,dates_str))"
   ]
  },
  {
   "cell_type": "markdown",
   "metadata": {},
   "source": [
    "Consider separators for last two dates: `,`  "
   ]
  },
  {
   "cell_type": "code",
   "execution_count": 69,
   "metadata": {},
   "outputs": [
    {
     "name": "stdout",
     "output_type": "stream",
     "text": [
      "['23 Oct 2002', '23 October 2002', '23 May 2002', 'Oct 23, 2002', 'October 23, 2002']\n"
     ]
    }
   ],
   "source": [
    "pat = '(?:\\d{1,2} )?(?:Jan|Feb|Mar|Apr|May|Jun|Jul|Aug|Sep|Oct|Nov|Dec)[a-z]*(?: \\d{1,2}[ ,])? \\d{2,4}'\n",
    "print (re.findall(pat,dates_str))"
   ]
  },
  {
   "cell_type": "markdown",
   "metadata": {},
   "source": [
    "<font color = green >\n",
    "\n",
    "## Using regex with pandas \n",
    "\n",
    "</font>\n"
   ]
  },
  {
   "cell_type": "code",
   "execution_count": 70,
   "metadata": {
    "scrolled": true
   },
   "outputs": [
    {
     "data": {
      "text/html": [
       "<div>\n",
       "<style scoped>\n",
       "    .dataframe tbody tr th:only-of-type {\n",
       "        vertical-align: middle;\n",
       "    }\n",
       "\n",
       "    .dataframe tbody tr th {\n",
       "        vertical-align: top;\n",
       "    }\n",
       "\n",
       "    .dataframe thead th {\n",
       "        text-align: right;\n",
       "    }\n",
       "</style>\n",
       "<table border=\"1\" class=\"dataframe\">\n",
       "  <thead>\n",
       "    <tr style=\"text-align: right;\">\n",
       "      <th></th>\n",
       "      <th>text</th>\n",
       "    </tr>\n",
       "  </thead>\n",
       "  <tbody>\n",
       "    <tr>\n",
       "      <th>0</th>\n",
       "      <td>Monday: The doctor's appointment is at 2:45pm.</td>\n",
       "    </tr>\n",
       "    <tr>\n",
       "      <th>1</th>\n",
       "      <td>Tuesday: The dentist's appointment is at 11:30 am.</td>\n",
       "    </tr>\n",
       "    <tr>\n",
       "      <th>2</th>\n",
       "      <td>Wednesday: At 7:00pm, there is a basketball game!</td>\n",
       "    </tr>\n",
       "    <tr>\n",
       "      <th>3</th>\n",
       "      <td>Thursday: Be back home by 11:15 pm at the latest.</td>\n",
       "    </tr>\n",
       "    <tr>\n",
       "      <th>4</th>\n",
       "      <td>Friday: Take the train at 08:10 am, arrive at 09:00am.</td>\n",
       "    </tr>\n",
       "    <tr>\n",
       "      <th>5</th>\n",
       "      <td>just custom sentence : Saturday</td>\n",
       "    </tr>\n",
       "  </tbody>\n",
       "</table>\n",
       "</div>"
      ],
      "text/plain": [
       "                                                     text\n",
       "0          Monday: The doctor's appointment is at 2:45pm.\n",
       "1      Tuesday: The dentist's appointment is at 11:30 am.\n",
       "2       Wednesday: At 7:00pm, there is a basketball game!\n",
       "3       Thursday: Be back home by 11:15 pm at the latest.\n",
       "4  Friday: Take the train at 08:10 am, arrive at 09:00am.\n",
       "5                         just custom sentence : Saturday"
      ]
     },
     "execution_count": 70,
     "metadata": {},
     "output_type": "execute_result"
    }
   ],
   "source": [
    "import pandas as pd\n",
    "pd.set_option('max_colwidth', 200)\n",
    "\n",
    "def init_df():\n",
    "    time_sentences = [\"Monday: The doctor's appointment is at 2:45pm.\",\n",
    "                  \"Tuesday: The dentist's appointment is at 11:30 am.\",\n",
    "                  \"Wednesday: At 7:00pm, there is a basketball game!\",\n",
    "                  \"Thursday: Be back home by 11:15 pm at the latest.\",\n",
    "                  \"Friday: Take the train at 08:10 am, arrive at 09:00am.\",\n",
    "                  \"just custom sentence : Saturday\"]\n",
    "    return pd.DataFrame(time_sentences, columns=['text']) \n",
    "df =  init_df()\n",
    "df"
   ]
  },
  {
   "cell_type": "markdown",
   "metadata": {},
   "source": [
    "<font color = green >\n",
    "\n",
    "### Using .str for pandas.Series\n",
    "\n",
    "</font>\n",
    "\n"
   ]
  },
  {
   "cell_type": "markdown",
   "metadata": {},
   "source": [
    "<font color = green >\n",
    "\n",
    "### Number of characters in every row\n",
    "\n",
    "</font>\n",
    "\n",
    "`str.len()`\n"
   ]
  },
  {
   "cell_type": "code",
   "execution_count": 71,
   "metadata": {},
   "outputs": [
    {
     "data": {
      "text/plain": [
       "0    46\n",
       "1    50\n",
       "2    49\n",
       "3    49\n",
       "4    54\n",
       "5    31\n",
       "Name: text, dtype: int64"
      ]
     },
     "execution_count": 71,
     "metadata": {},
     "output_type": "execute_result"
    }
   ],
   "source": [
    "df['text'].str.len()"
   ]
  },
  {
   "cell_type": "markdown",
   "metadata": {},
   "source": [
    "<font color = green >\n",
    "\n",
    "### Tokenize by \n",
    "\n",
    "</font>\n",
    "\n",
    "`str.split()`\n"
   ]
  },
  {
   "cell_type": "code",
   "execution_count": 72,
   "metadata": {},
   "outputs": [
    {
     "data": {
      "text/plain": [
       "0               [Monday:, The, doctor's, appointment, is, at, 2:45pm.]\n",
       "1          [Tuesday:, The, dentist's, appointment, is, at, 11:30, am.]\n",
       "2           [Wednesday:, At, 7:00pm,, there, is, a, basketball, game!]\n",
       "3         [Thursday:, Be, back, home, by, 11:15, pm, at, the, latest.]\n",
       "4    [Friday:, Take, the, train, at, 08:10, am,, arrive, at, 09:00am.]\n",
       "5                                [just, custom, sentence, :, Saturday]\n",
       "Name: text, dtype: object"
      ]
     },
     "execution_count": 72,
     "metadata": {},
     "output_type": "execute_result"
    }
   ],
   "source": [
    "df['text'].str.split()"
   ]
  },
  {
   "cell_type": "markdown",
   "metadata": {},
   "source": [
    "<font color = green >\n",
    "\n",
    "### Number of words in the row\n",
    "\n",
    "</font>\n",
    "\n",
    "`str.split().str.len()`\n"
   ]
  },
  {
   "cell_type": "code",
   "execution_count": 73,
   "metadata": {},
   "outputs": [
    {
     "data": {
      "text/plain": [
       "0     7\n",
       "1     8\n",
       "2     8\n",
       "3    10\n",
       "4    10\n",
       "5     5\n",
       "Name: text, dtype: int64"
      ]
     },
     "execution_count": 73,
     "metadata": {},
     "output_type": "execute_result"
    }
   ],
   "source": [
    "df['text'].str.split().str.len() \n",
    "\n"
   ]
  },
  {
   "cell_type": "markdown",
   "metadata": {},
   "source": [
    "<font color = green >\n",
    "\n",
    "### Count digits in the row\n",
    "\n",
    "</font>\n",
    "\n",
    "`str.count()`"
   ]
  },
  {
   "cell_type": "code",
   "execution_count": 74,
   "metadata": {},
   "outputs": [
    {
     "data": {
      "text/plain": [
       "0    3\n",
       "1    4\n",
       "2    3\n",
       "3    4\n",
       "4    8\n",
       "5    0\n",
       "Name: text, dtype: int64"
      ]
     },
     "execution_count": 74,
     "metadata": {},
     "output_type": "execute_result"
    }
   ],
   "source": [
    "df['text'].str.count('\\d') "
   ]
  },
  {
   "cell_type": "markdown",
   "metadata": {},
   "source": [
    "<font color = green >\n",
    "\n",
    "### Search for specified string\n",
    "\n",
    "</font>\n",
    "\n",
    "`str.contain()`"
   ]
  },
  {
   "cell_type": "code",
   "execution_count": 75,
   "metadata": {},
   "outputs": [
    {
     "data": {
      "text/plain": [
       "0     True\n",
       "1     True\n",
       "2    False\n",
       "3    False\n",
       "4    False\n",
       "5    False\n",
       "Name: text, dtype: bool"
      ]
     },
     "execution_count": 75,
     "metadata": {},
     "output_type": "execute_result"
    }
   ],
   "source": [
    "df['text'].str.contains('appointment')"
   ]
  },
  {
   "cell_type": "markdown",
   "metadata": {},
   "source": [
    "<font color = green >\n",
    "\n",
    "### Find all digits in the row\n",
    "\n",
    "</font>\n",
    "\n",
    "`str.findall()`"
   ]
  },
  {
   "cell_type": "code",
   "execution_count": 76,
   "metadata": {},
   "outputs": [
    {
     "name": "stdout",
     "output_type": "stream",
     "text": [
      "0                   [2, 4, 5]\n",
      "1                [1, 1, 3, 0]\n",
      "2                   [7, 0, 0]\n",
      "3                [1, 1, 1, 5]\n",
      "4    [0, 8, 1, 0, 0, 9, 0, 0]\n",
      "5                          []\n",
      "Name: text, dtype: object\n"
     ]
    }
   ],
   "source": [
    "print (df['text'].str.findall('\\d')) # returns the series of lists with digits"
   ]
  },
  {
   "cell_type": "markdown",
   "metadata": {},
   "source": [
    "<font color = green >\n",
    "\n",
    "### Capture groups\n",
    "\n",
    "</font>\n"
   ]
  },
  {
   "cell_type": "code",
   "execution_count": 77,
   "metadata": {},
   "outputs": [
    {
     "data": {
      "text/plain": [
       "0               [(2, 45)]\n",
       "1              [(11, 30)]\n",
       "2               [(7, 00)]\n",
       "3              [(11, 15)]\n",
       "4    [(08, 10), (09, 00)]\n",
       "5                      []\n",
       "Name: text, dtype: object"
      ]
     },
     "execution_count": 77,
     "metadata": {},
     "output_type": "execute_result"
    }
   ],
   "source": [
    "pat = '(\\d?\\d):(\\d\\d)'\n",
    "df['text'].str.findall(pat)# returns every pair like (08, 10), (09, 00)"
   ]
  },
  {
   "cell_type": "code",
   "execution_count": 78,
   "metadata": {},
   "outputs": [
    {
     "data": {
      "text/plain": [
       "0            [2:45]\n",
       "1           [11:30]\n",
       "2            [7:00]\n",
       "3           [11:15]\n",
       "4    [08:10, 09:00]\n",
       "5                []\n",
       "Name: text, dtype: object"
      ]
     },
     "execution_count": 78,
     "metadata": {},
     "output_type": "execute_result"
    }
   ],
   "source": [
    "# Comparing to no-group capturing:\n",
    "pat = '(?:\\d?\\d):(?:\\d\\d)'\n",
    "df['text'].str.findall(pat) # .iloc[-2]"
   ]
  },
  {
   "cell_type": "markdown",
   "metadata": {},
   "source": [
    "<font color = green >\n",
    "\n",
    "### Replace\n",
    "\n",
    "</font>\n",
    "\n",
    "`str.replase()`"
   ]
  },
  {
   "cell_type": "code",
   "execution_count": 79,
   "metadata": {},
   "outputs": [
    {
     "data": {
      "text/plain": [
       "0            xxxxx: The doctor's appointment is at 2:45pm.\n",
       "1         xxxxx: The dentist's appointment is at 11:30 am.\n",
       "2            xxxxx: At 7:00pm, there is a basketball game!\n",
       "3           xxxxx: Be back home by 11:15 pm at the latest.\n",
       "4    xxxxx: Take the train at 08:10 am, arrive at 09:00am.\n",
       "5                             just custom sentence : xxxxx\n",
       "Name: text, dtype: object"
      ]
     },
     "execution_count": 79,
     "metadata": {},
     "output_type": "execute_result"
    }
   ],
   "source": [
    "df['text'].str.replace(r'\\w*day\\b', 'xxxxx') \n",
    "# Note: pattern is used with r (raw string literal) prefix to avoid reserved string special characters\n",
    "# here \\b is reserved the backspace character so you need to use either  r'\\w+day\\b' or '\\w+day\\\\b' \n"
   ]
  },
  {
   "cell_type": "code",
   "execution_count": 80,
   "metadata": {},
   "outputs": [
    {
     "data": {
      "text/plain": [
       "0            xxxxx: The doctor's appointment is at 2:45pm.\n",
       "1         xxxxx: The dentist's appointment is at 11:30 am.\n",
       "2            xxxxx: At 7:00pm, there is a basketball game!\n",
       "3           xxxxx: Be back home by 11:15 pm at the latest.\n",
       "4    xxxxx: Take the train at 08:10 am, arrive at 09:00am.\n",
       "5                             just custom sentence : xxxxx\n",
       "Name: text, dtype: object"
      ]
     },
     "execution_count": 80,
     "metadata": {},
     "output_type": "execute_result"
    }
   ],
   "source": [
    "# comparing to case w/o /b\n",
    "df ['text'].str.replace(r'\\w*day', 'xxxxx') "
   ]
  },
  {
   "cell_type": "markdown",
   "metadata": {},
   "source": [
    "<font color = green >\n",
    "\n",
    "#### Replace with dynamic value \n",
    "\n",
    "</font>\n",
    "\n"
   ]
  },
  {
   "cell_type": "code",
   "execution_count": 81,
   "metadata": {},
   "outputs": [],
   "source": [
    "# df = init_df()\n",
    "# df = df.append(pd.Series ({'text':'Monday Monday Monday Tuesday Wednesday and Friday '}), ignore_index=True)\n",
    "# df"
   ]
  },
  {
   "cell_type": "code",
   "execution_count": 82,
   "metadata": {},
   "outputs": [
    {
     "name": "stdout",
     "output_type": "stream",
     "text": [
      "0            Mon: The doctor's appointment is at 2:45pm.\n",
      "1         Tue: The dentist's appointment is at 11:30 am.\n",
      "2            Wed: At 7:00pm, there is a basketball game!\n",
      "3           Thu: Be back home by 11:15 pm at the latest.\n",
      "4    Fri: Take the train at 08:10 am, arrive at 09:00am.\n",
      "5                             just custom sentence : Sat\n",
      "Name: text, dtype: object\n"
     ]
    }
   ],
   "source": [
    "# def investigate_x(x):\n",
    "#     ''' investiogate the matched object '''\n",
    "#     print (x.groups())\n",
    "#     return x.groups()[0][:3]\n",
    "# print (df['text'].str.replace(r'(\\w+day\\b)', investigate_x))\n",
    "\n",
    "\n",
    "print (df['text'].str.replace(r'(\\w+day\\b)', lambda x: x.groups()[0][:3]))  \n",
    "# Note: the pattern returns group noy just r'\\w+day\\b'\n",
    "# This sample generates just one group per mathed string - thus it pulls out the groups()[0]\n"
   ]
  },
  {
   "cell_type": "code",
   "execution_count": 83,
   "metadata": {},
   "outputs": [
    {
     "data": {
      "text/plain": [
       "0               Monday: The doctor's appointment is at 165 mins pm.\n",
       "1            Tuesday: The dentist's appointment is at 690 mins  am.\n",
       "2            Wednesday: At 420 mins pm, there is a basketball game!\n",
       "3             Thursday: Be back home by 675 mins  pm at the latest.\n",
       "4    Friday: Take the train at 490 mins  am, arrive at 540 mins am.\n",
       "5                                   just custom sentence : Saturday\n",
       "Name: text, dtype: object"
      ]
     },
     "execution_count": 83,
     "metadata": {},
     "output_type": "execute_result"
    }
   ],
   "source": [
    "# Sample of two groups: replace HH:MM time with amount of minutes \n",
    "df['text'].str.replace(r'(\\d?\\d):(\\d\\d)', lambda x: '{} mins '.format(int(x.groups()[0])*60+ int(x.groups()[1]))) \n",
    "# at 2:45pm. -> at 4pm. # 2 - is the first group, 45 is second group\n"
   ]
  },
  {
   "cell_type": "markdown",
   "metadata": {},
   "source": [
    "<font color = green >\n",
    "\n",
    "### Create columms with extracted groups\n",
    "\n",
    "</font>\n",
    "\n",
    "`str.extract()`\n",
    "\n",
    "<br>\n",
    "Note: It create new columns and uses **first match of extracted groups** only "
   ]
  },
  {
   "cell_type": "code",
   "execution_count": 84,
   "metadata": {},
   "outputs": [
    {
     "data": {
      "text/html": [
       "<div>\n",
       "<style scoped>\n",
       "    .dataframe tbody tr th:only-of-type {\n",
       "        vertical-align: middle;\n",
       "    }\n",
       "\n",
       "    .dataframe tbody tr th {\n",
       "        vertical-align: top;\n",
       "    }\n",
       "\n",
       "    .dataframe thead th {\n",
       "        text-align: right;\n",
       "    }\n",
       "</style>\n",
       "<table border=\"1\" class=\"dataframe\">\n",
       "  <thead>\n",
       "    <tr style=\"text-align: right;\">\n",
       "      <th></th>\n",
       "      <th>0</th>\n",
       "      <th>1</th>\n",
       "    </tr>\n",
       "  </thead>\n",
       "  <tbody>\n",
       "    <tr>\n",
       "      <th>0</th>\n",
       "      <td>2</td>\n",
       "      <td>45</td>\n",
       "    </tr>\n",
       "    <tr>\n",
       "      <th>1</th>\n",
       "      <td>11</td>\n",
       "      <td>30</td>\n",
       "    </tr>\n",
       "    <tr>\n",
       "      <th>2</th>\n",
       "      <td>7</td>\n",
       "      <td>00</td>\n",
       "    </tr>\n",
       "    <tr>\n",
       "      <th>3</th>\n",
       "      <td>11</td>\n",
       "      <td>15</td>\n",
       "    </tr>\n",
       "    <tr>\n",
       "      <th>4</th>\n",
       "      <td>08</td>\n",
       "      <td>10</td>\n",
       "    </tr>\n",
       "    <tr>\n",
       "      <th>5</th>\n",
       "      <td>NaN</td>\n",
       "      <td>NaN</td>\n",
       "    </tr>\n",
       "  </tbody>\n",
       "</table>\n",
       "</div>"
      ],
      "text/plain": [
       "     0    1\n",
       "0    2   45\n",
       "1   11   30\n",
       "2    7   00\n",
       "3   11   15\n",
       "4   08   10\n",
       "5  NaN  NaN"
      ]
     },
     "execution_count": 84,
     "metadata": {},
     "output_type": "execute_result"
    }
   ],
   "source": [
    "df['text'].str.extract(r'(\\d?\\d):(\\d\\d)')\n",
    "# comparing with findall : findall returns list of all mathces in one column  \n",
    "# but extract returns several columns (one per group)\n",
    "# Note: Only the 08:00 (not 09:00) is extracted from Fri: Take the train at 08:10 am, arrive at 09:00am.\n",
    "# Use str.extractall() to extract all mathced strings - see below "
   ]
  },
  {
   "cell_type": "markdown",
   "metadata": {},
   "source": [
    "<font color = green >\n",
    "\n",
    "### Extract all groups matches  \n",
    "\n",
    "</font>\n",
    "\n",
    "`str.extractall()`\n"
   ]
  },
  {
   "cell_type": "code",
   "execution_count": 85,
   "metadata": {},
   "outputs": [
    {
     "data": {
      "text/html": [
       "<div>\n",
       "<style scoped>\n",
       "    .dataframe tbody tr th:only-of-type {\n",
       "        vertical-align: middle;\n",
       "    }\n",
       "\n",
       "    .dataframe tbody tr th {\n",
       "        vertical-align: top;\n",
       "    }\n",
       "\n",
       "    .dataframe thead th {\n",
       "        text-align: right;\n",
       "    }\n",
       "</style>\n",
       "<table border=\"1\" class=\"dataframe\">\n",
       "  <thead>\n",
       "    <tr style=\"text-align: right;\">\n",
       "      <th></th>\n",
       "      <th></th>\n",
       "      <th>0</th>\n",
       "      <th>1</th>\n",
       "      <th>2</th>\n",
       "    </tr>\n",
       "    <tr>\n",
       "      <th></th>\n",
       "      <th>match</th>\n",
       "      <th></th>\n",
       "      <th></th>\n",
       "      <th></th>\n",
       "    </tr>\n",
       "  </thead>\n",
       "  <tbody>\n",
       "    <tr>\n",
       "      <th>0</th>\n",
       "      <th>0</th>\n",
       "      <td>2</td>\n",
       "      <td>45</td>\n",
       "      <td>pm</td>\n",
       "    </tr>\n",
       "    <tr>\n",
       "      <th>1</th>\n",
       "      <th>0</th>\n",
       "      <td>11</td>\n",
       "      <td>30</td>\n",
       "      <td>am</td>\n",
       "    </tr>\n",
       "    <tr>\n",
       "      <th>2</th>\n",
       "      <th>0</th>\n",
       "      <td>7</td>\n",
       "      <td>00</td>\n",
       "      <td>pm</td>\n",
       "    </tr>\n",
       "    <tr>\n",
       "      <th>3</th>\n",
       "      <th>0</th>\n",
       "      <td>11</td>\n",
       "      <td>15</td>\n",
       "      <td>pm</td>\n",
       "    </tr>\n",
       "    <tr>\n",
       "      <th rowspan=\"2\" valign=\"top\">4</th>\n",
       "      <th>0</th>\n",
       "      <td>08</td>\n",
       "      <td>10</td>\n",
       "      <td>am</td>\n",
       "    </tr>\n",
       "    <tr>\n",
       "      <th>1</th>\n",
       "      <td>09</td>\n",
       "      <td>00</td>\n",
       "      <td>am</td>\n",
       "    </tr>\n",
       "  </tbody>\n",
       "</table>\n",
       "</div>"
      ],
      "text/plain": [
       "          0   1   2\n",
       "  match            \n",
       "0 0       2  45  pm\n",
       "1 0      11  30  am\n",
       "2 0       7  00  pm\n",
       "3 0      11  15  pm\n",
       "4 0      08  10  am\n",
       "  1      09  00  am"
      ]
     },
     "execution_count": 85,
     "metadata": {},
     "output_type": "execute_result"
    }
   ],
   "source": [
    "df['text'].str.extractall(r'(\\d?\\d):(\\d\\d) ?([ap]m)')\n",
    "# Three groups. Some of the cases hase space between digits and am/pm\n",
    "# Note the index is number of original row and number of matched object "
   ]
  },
  {
   "cell_type": "markdown",
   "metadata": {},
   "source": [
    "<font color = green >\n",
    "\n",
    "### Named groups\n",
    "\n",
    "</font>\n",
    "\n",
    "(?P< name >)\n"
   ]
  },
  {
   "cell_type": "code",
   "execution_count": 86,
   "metadata": {},
   "outputs": [
    {
     "data": {
      "text/html": [
       "<div>\n",
       "<style scoped>\n",
       "    .dataframe tbody tr th:only-of-type {\n",
       "        vertical-align: middle;\n",
       "    }\n",
       "\n",
       "    .dataframe tbody tr th {\n",
       "        vertical-align: top;\n",
       "    }\n",
       "\n",
       "    .dataframe thead th {\n",
       "        text-align: right;\n",
       "    }\n",
       "</style>\n",
       "<table border=\"1\" class=\"dataframe\">\n",
       "  <thead>\n",
       "    <tr style=\"text-align: right;\">\n",
       "      <th></th>\n",
       "      <th></th>\n",
       "      <th>time</th>\n",
       "      <th>hour</th>\n",
       "      <th>minute</th>\n",
       "      <th>period</th>\n",
       "    </tr>\n",
       "    <tr>\n",
       "      <th></th>\n",
       "      <th>match</th>\n",
       "      <th></th>\n",
       "      <th></th>\n",
       "      <th></th>\n",
       "      <th></th>\n",
       "    </tr>\n",
       "  </thead>\n",
       "  <tbody>\n",
       "    <tr>\n",
       "      <th>0</th>\n",
       "      <th>0</th>\n",
       "      <td>2:45pm</td>\n",
       "      <td>2</td>\n",
       "      <td>45</td>\n",
       "      <td>pm</td>\n",
       "    </tr>\n",
       "    <tr>\n",
       "      <th>1</th>\n",
       "      <th>0</th>\n",
       "      <td>11:30 am</td>\n",
       "      <td>11</td>\n",
       "      <td>30</td>\n",
       "      <td>am</td>\n",
       "    </tr>\n",
       "    <tr>\n",
       "      <th>2</th>\n",
       "      <th>0</th>\n",
       "      <td>7:00pm</td>\n",
       "      <td>7</td>\n",
       "      <td>00</td>\n",
       "      <td>pm</td>\n",
       "    </tr>\n",
       "    <tr>\n",
       "      <th>3</th>\n",
       "      <th>0</th>\n",
       "      <td>11:15 pm</td>\n",
       "      <td>11</td>\n",
       "      <td>15</td>\n",
       "      <td>pm</td>\n",
       "    </tr>\n",
       "    <tr>\n",
       "      <th rowspan=\"2\" valign=\"top\">4</th>\n",
       "      <th>0</th>\n",
       "      <td>08:10 am</td>\n",
       "      <td>08</td>\n",
       "      <td>10</td>\n",
       "      <td>am</td>\n",
       "    </tr>\n",
       "    <tr>\n",
       "      <th>1</th>\n",
       "      <td>09:00am</td>\n",
       "      <td>09</td>\n",
       "      <td>00</td>\n",
       "      <td>am</td>\n",
       "    </tr>\n",
       "  </tbody>\n",
       "</table>\n",
       "</div>"
      ],
      "text/plain": [
       "             time hour minute period\n",
       "  match                             \n",
       "0 0        2:45pm    2     45     pm\n",
       "1 0      11:30 am   11     30     am\n",
       "2 0        7:00pm    7     00     pm\n",
       "3 0      11:15 pm   11     15     pm\n",
       "4 0      08:10 am   08     10     am\n",
       "  1       09:00am   09     00     am"
      ]
     },
     "execution_count": 86,
     "metadata": {},
     "output_type": "execute_result"
    }
   ],
   "source": [
    "df['text'].str.extractall(r'(?P<time>(?P<hour>\\d?\\d):(?P<minute>\\d\\d) ?(?P<period>[ap]m))')"
   ]
  },
  {
   "cell_type": "code",
   "execution_count": 87,
   "metadata": {},
   "outputs": [
    {
     "data": {
      "text/html": [
       "<div>\n",
       "<style scoped>\n",
       "    .dataframe tbody tr th:only-of-type {\n",
       "        vertical-align: middle;\n",
       "    }\n",
       "\n",
       "    .dataframe tbody tr th {\n",
       "        vertical-align: top;\n",
       "    }\n",
       "\n",
       "    .dataframe thead th {\n",
       "        text-align: right;\n",
       "    }\n",
       "</style>\n",
       "<table border=\"1\" class=\"dataframe\">\n",
       "  <thead>\n",
       "    <tr style=\"text-align: right;\">\n",
       "      <th></th>\n",
       "      <th>hour</th>\n",
       "      <th>minute</th>\n",
       "      <th>period</th>\n",
       "    </tr>\n",
       "  </thead>\n",
       "  <tbody>\n",
       "    <tr>\n",
       "      <th>0</th>\n",
       "      <td>2</td>\n",
       "      <td>45</td>\n",
       "      <td>pm</td>\n",
       "    </tr>\n",
       "    <tr>\n",
       "      <th>1</th>\n",
       "      <td>11</td>\n",
       "      <td>30</td>\n",
       "      <td>am</td>\n",
       "    </tr>\n",
       "    <tr>\n",
       "      <th>2</th>\n",
       "      <td>7</td>\n",
       "      <td>00</td>\n",
       "      <td>pm</td>\n",
       "    </tr>\n",
       "    <tr>\n",
       "      <th>3</th>\n",
       "      <td>11</td>\n",
       "      <td>15</td>\n",
       "      <td>pm</td>\n",
       "    </tr>\n",
       "    <tr>\n",
       "      <th>4</th>\n",
       "      <td>08</td>\n",
       "      <td>10</td>\n",
       "      <td>am</td>\n",
       "    </tr>\n",
       "    <tr>\n",
       "      <th>5</th>\n",
       "      <td>09</td>\n",
       "      <td>00</td>\n",
       "      <td>am</td>\n",
       "    </tr>\n",
       "  </tbody>\n",
       "</table>\n",
       "</div>"
      ],
      "text/plain": [
       "  hour minute period\n",
       "0    2     45     pm\n",
       "1   11     30     am\n",
       "2    7     00     pm\n",
       "3   11     15     pm\n",
       "4   08     10     am\n",
       "5   09     00     am"
      ]
     },
     "execution_count": 87,
     "metadata": {},
     "output_type": "execute_result"
    }
   ],
   "source": [
    "# w/o the whole matched string column \n",
    "df['text'].str.extractall(r'(?P<hour>\\d?\\d):(?P<minute>\\d\\d) ?(?P<period>[ap]m)').reset_index(drop=True)"
   ]
  },
  {
   "cell_type": "markdown",
   "metadata": {},
   "source": [
    "<font color = green >\n",
    "\n",
    "### Positive lookahead \n",
    "\n",
    "</font>\n",
    "\n",
    "`(?=...)`\n"
   ]
  },
  {
   "cell_type": "code",
   "execution_count": 88,
   "metadata": {},
   "outputs": [
    {
     "name": "stdout",
     "output_type": "stream",
     "text": [
      "['Isaac', 'Isaac', 'Isaac']\n"
     ]
    },
    {
     "data": {
      "text/plain": [
       "['Isaac ']"
      ]
     },
     "execution_count": 88,
     "metadata": {},
     "output_type": "execute_result"
    }
   ],
   "source": [
    "text = 'Isaac Asimov Isaac.Asimov Isaac_Asimov'\n",
    "print (re.findall(r'Isaac', text))\n",
    "pat = r'Isaac (?=Asimov)'\n",
    "re.findall(pat, text)"
   ]
  },
  {
   "cell_type": "markdown",
   "metadata": {},
   "source": [
    "<font color = green >\n",
    "\n",
    "### Negative lookahead \n",
    "\n",
    "</font>\n",
    "\n",
    "(?!...)\n"
   ]
  },
  {
   "cell_type": "code",
   "execution_count": 89,
   "metadata": {},
   "outputs": [
    {
     "data": {
      "text/plain": [
       "['Isaac']"
      ]
     },
     "execution_count": 89,
     "metadata": {},
     "output_type": "execute_result"
    }
   ],
   "source": [
    "text = 'Isaac Asimov Isaac.Asimov Isaac_Asimov'\n",
    "pat = r'Isaac(?![ .])' # any following string but neither space nor dot  \n",
    "re.findall(pat, text)"
   ]
  },
  {
   "cell_type": "code",
   "execution_count": 90,
   "metadata": {},
   "outputs": [],
   "source": [
    "# Regular Expression Analyzer\n",
    "# http://xenon.stanford.edu/~xusch/regexp/"
   ]
  },
  {
   "cell_type": "markdown",
   "metadata": {},
   "source": [
    "<font color = green >\n",
    "\n",
    "## Home Task \n",
    "\n",
    "</font>\n"
   ]
  },
  {
   "cell_type": "markdown",
   "metadata": {},
   "source": [
    "The Task is to extract relevant infromation from the messy medical data using regex.\n",
    "\n",
    "Each line of the `dates.txt` file corresponds to a medical note. Each note has a date that needs to be extracted, but each date is encoded in one of many formats.\n",
    "\n",
    "The goal is to correctly identify all of the different date variants encoded in this dataset and to properly normalize and sort the dates. \n",
    "\n",
    "1) Extract the date strings\n",
    "Here is a list of some of the variants you might encounter in this dataset:\n",
    "* 04/20/2009; 04/20/09; 4/20/09; 4/3/09\n",
    "* Mar-20-2009; Mar 20, 2009; March 20, 2009;  Mar. 20, 2009; Mar 20 2009;\n",
    "* 20 Mar 2009; 20 March 2009; 20 Mar. 2009; 20 March, 2009\n",
    "* Mar 20th, 2009; Mar 21st, 2009; Mar 22nd, 2009\n",
    "* Feb 2009; Sep 2009; Oct 2010\n",
    "* 6/2008; 12/2009\n",
    "* 2009; 2010\n",
    "\n",
    "2) Normalize the extracted dates considering the following rules:  \n",
    "* Assume all dates in xx/xx/xx format are mm/dd/yy\n",
    "* Assume all dates where year is encoded in only two digits are years from the 1900's (e.g. 1/5/89 is January 5th, 1989)\n",
    "* If the day is missing (e.g. 9/2009), assume it is the first day of the month (e.g. September 1, 2009).\n",
    "* If the month is missing (e.g. 2010), assume it is the first of January of that year (e.g. January 1, 2010).\n",
    "\n",
    "3) Sort records in ascending chronological order accoring.\n",
    "\n",
    "\n"
   ]
  },
  {
   "cell_type": "code",
   "execution_count": 91,
   "metadata": {},
   "outputs": [],
   "source": [
    "import os\n",
    "cwd = os.getcwd() # current working directory\n",
    "path = os.path.join(cwd,'data')\n",
    "fn = os.path.join(path , 'dates.txt')\n",
    "\n",
    "with open(fn, 'r') as f:\n",
    "    content = f.read()\n",
    "#print (content[:500])"
   ]
  },
  {
   "cell_type": "code",
   "execution_count": 92,
   "metadata": {},
   "outputs": [
    {
     "data": {
      "text/html": [
       "<div>\n",
       "<style scoped>\n",
       "    .dataframe tbody tr th:only-of-type {\n",
       "        vertical-align: middle;\n",
       "    }\n",
       "\n",
       "    .dataframe tbody tr th {\n",
       "        vertical-align: top;\n",
       "    }\n",
       "\n",
       "    .dataframe thead th {\n",
       "        text-align: right;\n",
       "    }\n",
       "</style>\n",
       "<table border=\"1\" class=\"dataframe\">\n",
       "  <thead>\n",
       "    <tr style=\"text-align: right;\">\n",
       "      <th></th>\n",
       "      <th>Record</th>\n",
       "    </tr>\n",
       "  </thead>\n",
       "  <tbody>\n",
       "    <tr>\n",
       "      <th>496</th>\n",
       "      <td>therapist and friend died in ~2006 Parental/Caregiver obligations:</td>\n",
       "    </tr>\n",
       "    <tr>\n",
       "      <th>497</th>\n",
       "      <td>2008 partial thyroidectomy</td>\n",
       "    </tr>\n",
       "    <tr>\n",
       "      <th>498</th>\n",
       "      <td>sPt describes a history of sexual abuse as a child; also describes the experience of finding a former partner after he died secondary to overdose in 2005 as traumaticPTSD: Does the patient feel th...</td>\n",
       "    </tr>\n",
       "    <tr>\n",
       "      <th>499</th>\n",
       "      <td>. In 1980, patient was living in Naples and described being upset by the amount of noise generated by the neighbor living under his apartment.  He noted the woman was a heroin user and when she re...</td>\n",
       "    </tr>\n",
       "    <tr>\n",
       "      <th>500</th>\n",
       "      <td></td>\n",
       "    </tr>\n",
       "  </tbody>\n",
       "</table>\n",
       "</div>"
      ],
      "text/plain": [
       "                                                                                                                                                                                                      Record\n",
       "496                                                                                                                                       therapist and friend died in ~2006 Parental/Caregiver obligations:\n",
       "497                                                                                                                                                                               2008 partial thyroidectomy\n",
       "498  sPt describes a history of sexual abuse as a child; also describes the experience of finding a former partner after he died secondary to overdose in 2005 as traumaticPTSD: Does the patient feel th...\n",
       "499  . In 1980, patient was living in Naples and described being upset by the amount of noise generated by the neighbor living under his apartment.  He noted the woman was a heroin user and when she re...\n",
       "500                                                                                                                                                                                                         "
      ]
     },
     "execution_count": 92,
     "metadata": {},
     "output_type": "execute_result"
    }
   ],
   "source": [
    "data = pd.DataFrame(content.split(\"\\n\"), columns = [\"Record\"])\n",
    "data.tail()"
   ]
  },
  {
   "cell_type": "code",
   "execution_count": 93,
   "metadata": {},
   "outputs": [
    {
     "data": {
      "text/html": [
       "<div>\n",
       "<style scoped>\n",
       "    .dataframe tbody tr th:only-of-type {\n",
       "        vertical-align: middle;\n",
       "    }\n",
       "\n",
       "    .dataframe tbody tr th {\n",
       "        vertical-align: top;\n",
       "    }\n",
       "\n",
       "    .dataframe thead th {\n",
       "        text-align: right;\n",
       "    }\n",
       "</style>\n",
       "<table border=\"1\" class=\"dataframe\">\n",
       "  <thead>\n",
       "    <tr style=\"text-align: right;\">\n",
       "      <th></th>\n",
       "      <th>Record</th>\n",
       "    </tr>\n",
       "  </thead>\n",
       "  <tbody>\n",
       "    <tr>\n",
       "      <th>495</th>\n",
       "      <td>1979 Family Psych History: Family History of Suicidal Behavior: None</td>\n",
       "    </tr>\n",
       "    <tr>\n",
       "      <th>496</th>\n",
       "      <td>therapist and friend died in ~2006 Parental/Caregiver obligations:</td>\n",
       "    </tr>\n",
       "    <tr>\n",
       "      <th>497</th>\n",
       "      <td>2008 partial thyroidectomy</td>\n",
       "    </tr>\n",
       "    <tr>\n",
       "      <th>498</th>\n",
       "      <td>sPt describes a history of sexual abuse as a child; also describes the experience of finding a former partner after he died secondary to overdose in 2005 as traumaticPTSD: Does the patient feel th...</td>\n",
       "    </tr>\n",
       "    <tr>\n",
       "      <th>499</th>\n",
       "      <td>. In 1980, patient was living in Naples and described being upset by the amount of noise generated by the neighbor living under his apartment.  He noted the woman was a heroin user and when she re...</td>\n",
       "    </tr>\n",
       "  </tbody>\n",
       "</table>\n",
       "</div>"
      ],
      "text/plain": [
       "                                                                                                                                                                                                      Record\n",
       "495                                                                                                                                     1979 Family Psych History: Family History of Suicidal Behavior: None\n",
       "496                                                                                                                                       therapist and friend died in ~2006 Parental/Caregiver obligations:\n",
       "497                                                                                                                                                                               2008 partial thyroidectomy\n",
       "498  sPt describes a history of sexual abuse as a child; also describes the experience of finding a former partner after he died secondary to overdose in 2005 as traumaticPTSD: Does the patient feel th...\n",
       "499  . In 1980, patient was living in Naples and described being upset by the amount of noise generated by the neighbor living under his apartment.  He noted the woman was a heroin user and when she re..."
      ]
     },
     "execution_count": 93,
     "metadata": {},
     "output_type": "execute_result"
    }
   ],
   "source": [
    "data.drop(500, inplace = True, axis = 0)\n",
    "data.tail()"
   ]
  },
  {
   "cell_type": "code",
   "execution_count": 94,
   "metadata": {},
   "outputs": [
    {
     "data": {
      "text/html": [
       "<div>\n",
       "<style scoped>\n",
       "    .dataframe tbody tr th:only-of-type {\n",
       "        vertical-align: middle;\n",
       "    }\n",
       "\n",
       "    .dataframe tbody tr th {\n",
       "        vertical-align: top;\n",
       "    }\n",
       "\n",
       "    .dataframe thead th {\n",
       "        text-align: right;\n",
       "    }\n",
       "</style>\n",
       "<table border=\"1\" class=\"dataframe\">\n",
       "  <thead>\n",
       "    <tr style=\"text-align: right;\">\n",
       "      <th></th>\n",
       "      <th>day</th>\n",
       "      <th>month</th>\n",
       "      <th>year</th>\n",
       "    </tr>\n",
       "  </thead>\n",
       "  <tbody>\n",
       "    <tr>\n",
       "      <th>125</th>\n",
       "      <td>24</td>\n",
       "      <td>Jan</td>\n",
       "      <td>2001</td>\n",
       "    </tr>\n",
       "    <tr>\n",
       "      <th>126</th>\n",
       "      <td>10</td>\n",
       "      <td>Sep</td>\n",
       "      <td>2004</td>\n",
       "    </tr>\n",
       "    <tr>\n",
       "      <th>127</th>\n",
       "      <td>26</td>\n",
       "      <td>May</td>\n",
       "      <td>1982</td>\n",
       "    </tr>\n",
       "    <tr>\n",
       "      <th>128</th>\n",
       "      <td>28</td>\n",
       "      <td>Jun</td>\n",
       "      <td>2002</td>\n",
       "    </tr>\n",
       "    <tr>\n",
       "      <th>129</th>\n",
       "      <td>06</td>\n",
       "      <td>May</td>\n",
       "      <td>1972</td>\n",
       "    </tr>\n",
       "  </tbody>\n",
       "</table>\n",
       "</div>"
      ],
      "text/plain": [
       "     day month  year\n",
       "125  24    Jan  2001\n",
       "126  10    Sep  2004\n",
       "127  26    May  1982\n",
       "128  28    Jun  2002\n",
       "129  06    May  1972"
      ]
     },
     "execution_count": 94,
     "metadata": {},
     "output_type": "execute_result"
    }
   ],
   "source": [
    "# 20 Mar 2009; 20 March 2009; 20 Mar. 2009; 20 March, 2009\n",
    "# Mar 20th, 2009; Mar 21st, 2009; Mar 22nd, 2009\n",
    "# Feb 2009; Sep 2009; Oct 2010\n",
    "\n",
    "first = data[\"Record\"].str.extract(r'(?:(?P<day>\\d{1,2} )?(?P<month>Jan|Feb|Mar|Apr|May|Jun|Jul|Aug|Sep|Oct|Nov|Dec)[a-z ]*(?P<day2>\\d{1,2}[ ,])? (?P<year>\\d{4}))')\n",
    "first[\"day\"].fillna(first[\"day2\"])\n",
    "first.drop(\"day2\", inplace = True, axis = 1)\n",
    "first.dropna().head()"
   ]
  },
  {
   "cell_type": "code",
   "execution_count": 95,
   "metadata": {},
   "outputs": [
    {
     "data": {
      "text/html": [
       "<div>\n",
       "<style scoped>\n",
       "    .dataframe tbody tr th:only-of-type {\n",
       "        vertical-align: middle;\n",
       "    }\n",
       "\n",
       "    .dataframe tbody tr th {\n",
       "        vertical-align: top;\n",
       "    }\n",
       "\n",
       "    .dataframe thead th {\n",
       "        text-align: right;\n",
       "    }\n",
       "</style>\n",
       "<table border=\"1\" class=\"dataframe\">\n",
       "  <thead>\n",
       "    <tr style=\"text-align: right;\">\n",
       "      <th></th>\n",
       "      <th>month</th>\n",
       "      <th>day</th>\n",
       "      <th>year</th>\n",
       "    </tr>\n",
       "  </thead>\n",
       "  <tbody>\n",
       "    <tr>\n",
       "      <th>0</th>\n",
       "      <td>03</td>\n",
       "      <td>25</td>\n",
       "      <td>1993</td>\n",
       "    </tr>\n",
       "    <tr>\n",
       "      <th>1</th>\n",
       "      <td>6</td>\n",
       "      <td>18</td>\n",
       "      <td>1985</td>\n",
       "    </tr>\n",
       "    <tr>\n",
       "      <th>2</th>\n",
       "      <td>7</td>\n",
       "      <td>8</td>\n",
       "      <td>1971</td>\n",
       "    </tr>\n",
       "    <tr>\n",
       "      <th>3</th>\n",
       "      <td>9</td>\n",
       "      <td>27</td>\n",
       "      <td>1975</td>\n",
       "    </tr>\n",
       "    <tr>\n",
       "      <th>4</th>\n",
       "      <td>2</td>\n",
       "      <td>6</td>\n",
       "      <td>1996</td>\n",
       "    </tr>\n",
       "  </tbody>\n",
       "</table>\n",
       "</div>"
      ],
      "text/plain": [
       "  month day  year\n",
       "0    03  25  1993\n",
       "1     6  18  1985\n",
       "2     7   8  1971\n",
       "3     9  27  1975\n",
       "4     2   6  1996"
      ]
     },
     "execution_count": 95,
     "metadata": {},
     "output_type": "execute_result"
    }
   ],
   "source": [
    "# 04/20/2009; 04/20/2009; 04/20/09; 4/20/09; 4/3/09                                        \n",
    "second = data[\"Record\"].str.extract(r\"(?P<month>\\d{1,2})(?:\\/|-)(?P<day>\\d{1,2})(?:\\/|-)(?P<year>\\d{2,4})\")\n",
    "second[\"year\"] = second[\"year\"].dropna().transform(lambda x: int(x) + 1900 if int(x) < 100 else x)\n",
    "second.dropna().head(5)"
   ]
  },
  {
   "cell_type": "code",
   "execution_count": 96,
   "metadata": {},
   "outputs": [
    {
     "data": {
      "text/html": [
       "<div>\n",
       "<style scoped>\n",
       "    .dataframe tbody tr th:only-of-type {\n",
       "        vertical-align: middle;\n",
       "    }\n",
       "\n",
       "    .dataframe tbody tr th {\n",
       "        vertical-align: top;\n",
       "    }\n",
       "\n",
       "    .dataframe thead th {\n",
       "        text-align: right;\n",
       "    }\n",
       "</style>\n",
       "<table border=\"1\" class=\"dataframe\">\n",
       "  <thead>\n",
       "    <tr style=\"text-align: right;\">\n",
       "      <th></th>\n",
       "      <th>month</th>\n",
       "      <th>year</th>\n",
       "    </tr>\n",
       "  </thead>\n",
       "  <tbody>\n",
       "    <tr>\n",
       "      <th>14</th>\n",
       "      <td>24</td>\n",
       "      <td>1990</td>\n",
       "    </tr>\n",
       "    <tr>\n",
       "      <th>15</th>\n",
       "      <td>25</td>\n",
       "      <td>2011</td>\n",
       "    </tr>\n",
       "    <tr>\n",
       "      <th>17</th>\n",
       "      <td>13</td>\n",
       "      <td>1976</td>\n",
       "    </tr>\n",
       "    <tr>\n",
       "      <th>24</th>\n",
       "      <td>25</td>\n",
       "      <td>1984</td>\n",
       "    </tr>\n",
       "    <tr>\n",
       "      <th>30</th>\n",
       "      <td>31</td>\n",
       "      <td>1985</td>\n",
       "    </tr>\n",
       "  </tbody>\n",
       "</table>\n",
       "</div>"
      ],
      "text/plain": [
       "   month  year\n",
       "14    24  1990\n",
       "15    25  2011\n",
       "17    13  1976\n",
       "24    25  1984\n",
       "30    31  1985"
      ]
     },
     "execution_count": 96,
     "metadata": {},
     "output_type": "execute_result"
    }
   ],
   "source": [
    "# 6/2008; 12/2009; 2009; 2010\n",
    "third = data[\"Record\"].str.extract(r\"(?:(?P<month>\\d{1,2})(?:-|\\/))?(?P<year>\\d{4})\")\n",
    "third.dropna().head(5)"
   ]
  },
  {
   "cell_type": "code",
   "execution_count": 97,
   "metadata": {},
   "outputs": [
    {
     "data": {
      "text/html": [
       "<div>\n",
       "<style scoped>\n",
       "    .dataframe tbody tr th:only-of-type {\n",
       "        vertical-align: middle;\n",
       "    }\n",
       "\n",
       "    .dataframe tbody tr th {\n",
       "        vertical-align: top;\n",
       "    }\n",
       "\n",
       "    .dataframe thead th {\n",
       "        text-align: right;\n",
       "    }\n",
       "</style>\n",
       "<table border=\"1\" class=\"dataframe\">\n",
       "  <thead>\n",
       "    <tr style=\"text-align: right;\">\n",
       "      <th></th>\n",
       "      <th>day</th>\n",
       "      <th>month</th>\n",
       "      <th>year</th>\n",
       "      <th>index</th>\n",
       "    </tr>\n",
       "  </thead>\n",
       "  <tbody>\n",
       "    <tr>\n",
       "      <th>371</th>\n",
       "      <td>NaN</td>\n",
       "      <td>1</td>\n",
       "      <td>2009</td>\n",
       "      <td>371</td>\n",
       "    </tr>\n",
       "    <tr>\n",
       "      <th>12</th>\n",
       "      <td>01</td>\n",
       "      <td>8</td>\n",
       "      <td>1998</td>\n",
       "      <td>12</td>\n",
       "    </tr>\n",
       "    <tr>\n",
       "      <th>447</th>\n",
       "      <td>NaN</td>\n",
       "      <td>7</td>\n",
       "      <td>1985</td>\n",
       "      <td>447</td>\n",
       "    </tr>\n",
       "    <tr>\n",
       "      <th>356</th>\n",
       "      <td>NaN</td>\n",
       "      <td>9</td>\n",
       "      <td>2003</td>\n",
       "      <td>356</td>\n",
       "    </tr>\n",
       "    <tr>\n",
       "      <th>209</th>\n",
       "      <td>NaN</td>\n",
       "      <td>Jul</td>\n",
       "      <td>1983</td>\n",
       "      <td>209</td>\n",
       "    </tr>\n",
       "    <tr>\n",
       "      <th>384</th>\n",
       "      <td>NaN</td>\n",
       "      <td>5</td>\n",
       "      <td>1999</td>\n",
       "      <td>384</td>\n",
       "    </tr>\n",
       "    <tr>\n",
       "      <th>466</th>\n",
       "      <td>NaN</td>\n",
       "      <td>NaN</td>\n",
       "      <td>1981</td>\n",
       "      <td>466</td>\n",
       "    </tr>\n",
       "    <tr>\n",
       "      <th>441</th>\n",
       "      <td>NaN</td>\n",
       "      <td>9</td>\n",
       "      <td>1980</td>\n",
       "      <td>441</td>\n",
       "    </tr>\n",
       "    <tr>\n",
       "      <th>231</th>\n",
       "      <td>NaN</td>\n",
       "      <td>May</td>\n",
       "      <td>2016</td>\n",
       "      <td>231</td>\n",
       "    </tr>\n",
       "    <tr>\n",
       "      <th>464</th>\n",
       "      <td>NaN</td>\n",
       "      <td>NaN</td>\n",
       "      <td>2016</td>\n",
       "      <td>464</td>\n",
       "    </tr>\n",
       "  </tbody>\n",
       "</table>\n",
       "</div>"
      ],
      "text/plain": [
       "     day month  year  index\n",
       "371  NaN     1  2009    371\n",
       "12    01     8  1998     12\n",
       "447  NaN     7  1985    447\n",
       "356  NaN     9  2003    356\n",
       "209  NaN   Jul  1983    209\n",
       "384  NaN     5  1999    384\n",
       "466  NaN   NaN  1981    466\n",
       "441  NaN     9  1980    441\n",
       "231  NaN   May  2016    231\n",
       "464  NaN   NaN  2016    464"
      ]
     },
     "execution_count": 97,
     "metadata": {},
     "output_type": "execute_result"
    }
   ],
   "source": [
    "data = first.fillna(second.fillna(third))\n",
    "data[\"index\"] = range(0,len(data))\n",
    "data.sample(10)"
   ]
  },
  {
   "cell_type": "code",
   "execution_count": 98,
   "metadata": {},
   "outputs": [],
   "source": [
    "def month_converter(month):\n",
    "    months = ['Jan', 'Feb', 'Mar', 'Apr', 'May', 'Jun', 'Jul', 'Aug', 'Sep', 'Oct', 'Nov', 'Dec']\n",
    "    if month in months:\n",
    "        return months.index(month) + 1\n",
    "    else:\n",
    "        return month"
   ]
  },
  {
   "cell_type": "code",
   "execution_count": 99,
   "metadata": {},
   "outputs": [],
   "source": [
    "data[\"month\"] = data[\"month\"].apply(lambda x: month_converter(x))\n",
    "data.fillna(1, inplace = True)"
   ]
  },
  {
   "cell_type": "code",
   "execution_count": 100,
   "metadata": {},
   "outputs": [
    {
     "name": "stdout",
     "output_type": "stream",
     "text": [
      "['01' '02' '03' '04' '05' '06' '07' '08' '09' '10' '11' '12']\n",
      "['01' '02' '03' '04' '05' '06' '07' '08' '09' '10' '11' '12' '13' '14'\n",
      " '15' '16' '17' '18' '19' '20' '21' '22' '23' '24' '25' '26' '27' '28'\n",
      " '29' '30' '31']\n"
     ]
    }
   ],
   "source": [
    "data[\"month\"] = data[\"month\"].astype(int).map('{:02d}'.format)\n",
    "data[\"day\"] = data[\"day\"].astype(int).map('{:02d}'.format)\n",
    "print(data[\"month\"].sort_values().unique())\n",
    "print(data[\"day\"].sort_values().unique())"
   ]
  },
  {
   "cell_type": "code",
   "execution_count": 101,
   "metadata": {},
   "outputs": [],
   "source": [
    "data.sort_values(by = [\"year\", \"month\", \"day\"], inplace = True)\n",
    "data.reset_index(inplace = True)"
   ]
  },
  {
   "cell_type": "code",
   "execution_count": 102,
   "metadata": {},
   "outputs": [],
   "source": [
    "data[\"res\"] = (data[\"year\"].astype(str) + \"-\" + data[\"month\"].astype(str) + \"-\" + data[\"day\"].astype(str))"
   ]
  },
  {
   "cell_type": "code",
   "execution_count": 103,
   "metadata": {},
   "outputs": [
    {
     "data": {
      "text/html": [
       "<div>\n",
       "<style scoped>\n",
       "    .dataframe tbody tr th:only-of-type {\n",
       "        vertical-align: middle;\n",
       "    }\n",
       "\n",
       "    .dataframe tbody tr th {\n",
       "        vertical-align: top;\n",
       "    }\n",
       "\n",
       "    .dataframe thead th {\n",
       "        text-align: right;\n",
       "    }\n",
       "</style>\n",
       "<table border=\"1\" class=\"dataframe\">\n",
       "  <thead>\n",
       "    <tr style=\"text-align: right;\">\n",
       "      <th></th>\n",
       "      <th>res</th>\n",
       "      <th>index</th>\n",
       "    </tr>\n",
       "  </thead>\n",
       "  <tbody>\n",
       "    <tr>\n",
       "      <th>0</th>\n",
       "      <td>1971-04-10</td>\n",
       "      <td>9</td>\n",
       "    </tr>\n",
       "    <tr>\n",
       "      <th>1</th>\n",
       "      <td>1971-05-18</td>\n",
       "      <td>84</td>\n",
       "    </tr>\n",
       "    <tr>\n",
       "      <th>2</th>\n",
       "      <td>1971-07-08</td>\n",
       "      <td>2</td>\n",
       "    </tr>\n",
       "    <tr>\n",
       "      <th>3</th>\n",
       "      <td>1971-07-11</td>\n",
       "      <td>53</td>\n",
       "    </tr>\n",
       "    <tr>\n",
       "      <th>4</th>\n",
       "      <td>1971-09-12</td>\n",
       "      <td>28</td>\n",
       "    </tr>\n",
       "    <tr>\n",
       "      <th>...</th>\n",
       "      <td>...</td>\n",
       "      <td>...</td>\n",
       "    </tr>\n",
       "    <tr>\n",
       "      <th>495</th>\n",
       "      <td>2016-05-01</td>\n",
       "      <td>427</td>\n",
       "    </tr>\n",
       "    <tr>\n",
       "      <th>496</th>\n",
       "      <td>2016-05-30</td>\n",
       "      <td>141</td>\n",
       "    </tr>\n",
       "    <tr>\n",
       "      <th>497</th>\n",
       "      <td>2016-10-13</td>\n",
       "      <td>186</td>\n",
       "    </tr>\n",
       "    <tr>\n",
       "      <th>498</th>\n",
       "      <td>2016-10-19</td>\n",
       "      <td>161</td>\n",
       "    </tr>\n",
       "    <tr>\n",
       "      <th>499</th>\n",
       "      <td>2016-11-01</td>\n",
       "      <td>413</td>\n",
       "    </tr>\n",
       "  </tbody>\n",
       "</table>\n",
       "<p>500 rows × 2 columns</p>\n",
       "</div>"
      ],
      "text/plain": [
       "            res  index\n",
       "0    1971-04-10      9\n",
       "1    1971-05-18     84\n",
       "2    1971-07-08      2\n",
       "3    1971-07-11     53\n",
       "4    1971-09-12     28\n",
       "..          ...    ...\n",
       "495  2016-05-01    427\n",
       "496  2016-05-30    141\n",
       "497  2016-10-13    186\n",
       "498  2016-10-19    161\n",
       "499  2016-11-01    413\n",
       "\n",
       "[500 rows x 2 columns]"
      ]
     },
     "execution_count": 103,
     "metadata": {},
     "output_type": "execute_result"
    }
   ],
   "source": [
    "data = data[[\"res\", \"index\"]]\n",
    "data.sort_values(by = \"res\")\n",
    "pd.options.display.max_rows = 10\n",
    "data"
   ]
  },
  {
   "cell_type": "markdown",
   "metadata": {},
   "source": [
    "<font color = blue >\n",
    "\n",
    "### Expected Output\n",
    "\n",
    "</font>\n",
    "\n",
    "<table align= 'left'>\n",
    "    <tr><td></td><td> res</td><td>index</td></tr>\n",
    "    <tr><td>0</td><td> 1971-04-10</td><td>9</td></tr>    \n",
    "    <tr><td>1</td><td>1971-05-18</td><td>84</td></tr>    \n",
    "    <tr><td>2</td><td>1971-07-08</td><td>2</td></tr>    \n",
    "    <tr><td>3</td><td>1971-07-11</td><td>53</td></tr>    \n",
    "    <tr><td>4</td><td>1971-09-12</td><td>28</td></tr>    \n",
    "    <tr><td>.</td></tr>    \n",
    "    <tr><td>.</td></tr>    \n",
    "    <tr><td>.</td></tr>    \n",
    "    <tr><td>495 </td><td>2016-05-01</td><td>    427</td></tr>    \n",
    "    <tr><td>496</td><td> 2016-05-30  </td><td>  141</td></tr>    \n",
    "    <tr><td>497</td><td> 2016-10-13  </td><td>  186</td></tr>    \n",
    "    <tr><td>498</td><td> 2016-10-19   </td><td> 161</td></tr>    \n",
    "    <tr><td>499 </td><td>2016-11-01 </td><td>   413</td></tr>    \n",
    "</table> "
   ]
  },
  {
   "cell_type": "markdown",
   "metadata": {},
   "source": [
    "<font color = green >\n",
    "\n",
    "## Learn more\n",
    "</font>\n",
    "\n",
    "Regular expression operations\n",
    "<br>\n",
    "https://docs.python.org/3/library/re.html\n",
    "\n",
    "Python Regular Expression Tutorial\n",
    "<br>\n",
    "https://www.datacamp.com/community/tutorials/python-regular-expression-tutorial\n",
    "\n",
    "pandas documentation - API Reference - Series \n",
    "<br>\n",
    "https://pandas.pydata.org/pandas-docs/stable/reference/series.html\n",
    "\n",
    "\n",
    "Regular Expression Analyzer\n",
    "<br>\n",
    "http://xenon.stanford.edu/~xusch/regexp/"
   ]
  }
 ],
 "metadata": {
  "kernelspec": {
   "display_name": "Python 3",
   "language": "python",
   "name": "python3"
  },
  "language_info": {
   "codemirror_mode": {
    "name": "ipython",
    "version": 3
   },
   "file_extension": ".py",
   "mimetype": "text/x-python",
   "name": "python",
   "nbconvert_exporter": "python",
   "pygments_lexer": "ipython3",
   "version": "3.7.2"
  }
 },
 "nbformat": 4,
 "nbformat_minor": 2
}
